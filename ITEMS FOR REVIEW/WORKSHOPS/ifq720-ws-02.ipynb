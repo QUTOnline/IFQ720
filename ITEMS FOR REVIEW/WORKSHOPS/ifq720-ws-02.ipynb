{
 "cells": [
  {
   "cell_type": "raw",
   "id": "d08e9c40",
   "metadata": {},
   "source": [
    "---\n",
    "title: \"IFQ720 Worksheet 2 - Probability\"\n",
    "output:\n",
    "  html_document\n",
    "---"
   ]
  },
  {
   "cell_type": "markdown",
   "id": "98f35e8b",
   "metadata": {},
   "source": [
    "\n",
    "#    Review of Probability\n",
    "\n",
    "Probability is a mathematical tool for quantifying uncertainty. It Provides the tools to compute Probabilities for both simple events and compound events, and Provides the basis for modelling random variables, which are the building blocks of statistical models and statistical modelling. \n",
    "\n",
    "## Definitions\n",
    "\n",
    "**Experiments** "
   ]
  },
  {
   "cell_type": "markdown",
   "id": "0c5e9e4e",
   "metadata": {},
   "source": [
    "An experiment is a situation or trial Producing observable phenomena that are not possible to \\Predict a\\Priori."
   ]
  },
  {
   "cell_type": "markdown",
   "id": "08f522da",
   "metadata": {},
   "source": [
    "**Events** "
   ]
  },
  {
   "cell_type": "markdown",
   "id": "6da0fbfc",
   "metadata": {},
   "source": [
    "Events can be broken down into simple events or the outcome of a single repetition of a single experiment or trial.  A compound event (or sometimes just event) is a collection of simple events. "
   ]
  },
  {
   "cell_type": "markdown",
   "id": "d0ae6eae",
   "metadata": {},
   "source": [
    "**Sample Space**"
   ]
  },
  {
   "cell_type": "markdown",
   "id": "6d9397a8",
   "metadata": {},
   "source": [
    "The sample space is the collection of all possible events for a single or combination of trials. "
   ]
  },
  {
   "cell_type": "markdown",
   "id": "4a5ddcb0",
   "metadata": {},
   "source": [
    "**Mutually Exclusive**"
   ]
  },
  {
   "cell_type": "markdown",
   "id": "3c0e6ca0",
   "metadata": {},
   "source": [
    "Events are mutually exclusive if it is impossible for both events to occur, i.e. the occurrence of one event \\Precludes the occurrence of the other. "
   ]
  },
  {
   "cell_type": "markdown",
   "id": "292f091c",
   "metadata": {},
   "source": [
    "**Probability** "
   ]
  },
  {
   "cell_type": "markdown",
   "id": "d920d7b4",
   "metadata": {},
   "source": [
    "The Probability of an event can be defined as:\n",
    "\n",
    "*    The relative frequency of an event, e.g. for event $A$ the Probability of $A$ is \n",
    "$$\n",
    "\\Pr(A) = \\lim_{n\\rightarrow\\infty}\\frac{\\# A}{n}\n",
    "$$\n",
    "*    The number of possible ways for $A$ to occur divided by the number of possible outcomes (combinatorics). \n",
    "    $$\n",
    "    \\Pr(A) = \\frac{\\mbox{The number of ways $A$ can occur}}{\\mbox{The number of possible outcomes}}\n",
    "    $$\n",
    "*    The area of the sub-region of sample space $S$ defined by $A$\n",
    "    $$\n",
    "    \\Pr(A)=\\frac{\\mbox{The area of $A$}}{\\mbox{The area of $S$}}\n",
    "    $$\n",
    "    noting that without loss of generality we can assume that Area of $S=1$. "
   ]
  },
  {
   "cell_type": "markdown",
   "id": "3640ce66",
   "metadata": {},
   "source": [
    "##    Probability Rules and Laws\n",
    "\n",
    "1.   Given sample space $S$, for all events $E\\in S$"
   ]
  },
  {
   "cell_type": "markdown",
   "id": "b2abc02d",
   "metadata": {},
   "source": [
    "  i)   $\\Pr(E)\\in (0,1)$\n",
    "  \n",
    "  ii)   $\\sum_S\\Pr(E)=1$"
   ]
  },
  {
   "cell_type": "markdown",
   "id": "a38fd870",
   "metadata": {},
   "source": [
    "2.   The complement of event $A$ denoted $A^c$is all events not in $A$."
   ]
  },
  {
   "cell_type": "markdown",
   "id": "fae09ded",
   "metadata": {},
   "source": [
    "  i)   $\\Pr(A^c)=1-\\Pr(A)$\n",
    "  \n",
    "  ii)   $A\\cup A^c=S$\n",
    "  \n",
    "  iii)   $\\Pr(S) = 1$"
   ]
  },
  {
   "cell_type": "markdown",
   "id": "f371c18a",
   "metadata": {},
   "source": [
    "3.   For two events $A$ and $B$ in sample space $S$ "
   ]
  },
  {
   "cell_type": "markdown",
   "id": "869bebe1",
   "metadata": {},
   "source": [
    "$$\n",
    "\\text{if }A\\subset B\\text{ then }\\Pr(A)<\\Pr(B).\n",
    "$$"
   ]
  },
  {
   "cell_type": "markdown",
   "id": "e7f9d7b9",
   "metadata": {},
   "source": [
    "4.   The Addition Rule"
   ]
  },
  {
   "cell_type": "markdown",
   "id": "6c1b6a53",
   "metadata": {},
   "source": [
    "$$\n",
    "\\Pr(A\\cup B) = \\Pr(A)+\\Pr(B)-\\Pr(A\\cap B)\n",
    "$$"
   ]
  },
  {
   "cell_type": "markdown",
   "id": "1b304611",
   "metadata": {},
   "source": [
    "5.   For two events $A$ and $B$ in sample space $S$ $\\Pr(A|B)$ is the conditional Property of $A$ given that $B$ occurs.  "
   ]
  },
  {
   "cell_type": "markdown",
   "id": "d5ada6b8",
   "metadata": {},
   "source": [
    "  i)   If $A\\cap B = \\emptyset$ then $\\Pr(A|B) = 0$\n",
    "  ii)   $$ \n",
    "        \\Pr(A|B) = \\frac{\\Pr(A\\cap B)}{\\Pr(B)}\n",
    "        $$\n",
    "  iii)   If $\\Pr(A|B)=\\Pr(A)$ then $A$ and $B$ are independent and $\\Pr(A\\cap B) = \\Pr(A)\\Pr(B)$\n",
    "  iv)   $\\Pr(A\\cap B)=\\Pr(A|B)\\Pr(B)$"
   ]
  },
  {
   "cell_type": "markdown",
   "id": "fb80af6d",
   "metadata": {},
   "source": [
    "6.   Law of Total (Marginal) Probability "
   ]
  },
  {
   "cell_type": "markdown",
   "id": "5f14d603",
   "metadata": {},
   "source": [
    "$$\n",
    "\\Pr(A) = \\sum_{B_j\\in S}\\Pr(A|B_j)\\Pr(B_j)\n",
    "$$"
   ]
  },
  {
   "cell_type": "markdown",
   "id": "2e5f53f7",
   "metadata": {},
   "source": [
    "7.   Bayes' Rule"
   ]
  },
  {
   "cell_type": "markdown",
   "id": "19034840",
   "metadata": {},
   "source": [
    "$$\n",
    "\\Pr(B|A) = \\frac{\\Pr(A|B)\\Pr(B)}{\\Pr(A)}.\n",
    "$$"
   ]
  },
  {
   "cell_type": "markdown",
   "id": "b3d9a838",
   "metadata": {},
   "source": [
    "##    Examples"
   ]
  },
  {
   "cell_type": "markdown",
   "id": "fbf12e7d",
   "metadata": {},
   "source": [
    "1.    For two six-sided die rolled together and there values summed. Define the experiment and list the events in the sample space.  Compute the Probabilities for each event. \n",
    "\n",
    "**Solution:**\n",
    "\n",
    "For each die there are six possible outcomes, all equally likely. So for two dice there are $6^2=36$ possible outcomes:\n",
    "$$\n",
    "\\begin{array}{cccccc}\n",
    "(1,1) & (2,1) & (3,1) & (4,1) & (5,1) & (6,1) \\\\\n",
    "(1,2) & (2,2) & (3,2) & (4,2) & (5,2) & (6,2) \\\\\n",
    "(1,3) & (2,3) & (3,3) & (4,3) & (5,3) & (6,3) \\\\\n",
    "(1,4) & (2,4) & (3,4) & (4,4) & (5,4) & (6,4) \\\\\n",
    "(1,5) & (2,5) & (3,5) & (4,5) & (5,5) & (6,5) \\\\\n",
    "(1,6) & (2,6) & (3,6) & (4,6) & (5,6) & (6,6)\n",
    "\\end{array}\n",
    "$$\n",
    "If we sum all the possible outcomes we see that there are in fact there are just 11 possible outcomes.\n",
    "<center>\n",
    "\n",
    "| Sum | # of Combinations |  Probability |\n",
    "|---|----------------------|-------------|\n",
    "| 2   | 1 |  $\\frac{1}{36}$ |\n",
    "| 3   | 2 |  $\\frac{2}{36}$ |  \n",
    "| 4   | 3 |  $\\frac{3}{36}$ |\n",
    "| 5   | 4 |  $\\frac{4}{36}$ |\n",
    "| 6   | 5 |  $\\frac{5}{36}$ |\n",
    "| 7   | 6 |  $\\frac{6}{36}$ |\n",
    "| 8   | 5 |  $\\frac{5}{36}$ |\n",
    "| 9   | 4 |  $\\frac{4}{36}$ |\n",
    "| 10  | 3 |  $\\frac{3}{36}$ |\n",
    "| 11  | 2 |  $\\frac{2}{36}$ |\n",
    "| 12  | 1 |  $\\frac{1}{36}$ |\n",
    "\n",
    "</center>\n",
    " \n",
    " \n"
   ]
  },
  {
   "cell_type": "markdown",
   "id": "14b1797e",
   "metadata": {},
   "source": [
    "2.    Human blood can be classed as one of four types with either a positive or negative Rh factor according to the following Probabilities:\n"
   ]
  },
  {
   "cell_type": "markdown",
   "id": "478b9f8f",
   "metadata": {},
   "source": [
    "| Rh      |  **A**  |  **B**  |  **AB**  |  **O** |\n",
    "|:-------:|:-------:|:-------:|:--------:|:------:|\n",
    "| **+**   |   0.07  | 0.02    |   0.01   |  0.08  |\n",
    "| **-**   |   0.33  | 0.09    |  0.03    |  0.37  |\n",
    " "
   ]
  },
  {
   "cell_type": "markdown",
   "id": "74b50b2f",
   "metadata": {},
   "source": [
    "i)    What is the Probability that an individual will have either Type O or Type A blood?"
   ]
  },
  {
   "cell_type": "markdown",
   "id": "f2411a66",
   "metadata": {},
   "source": [
    "**Solution:**\n",
    "The solution is simply the sum of the Proportions of people who have A-,A+, O-, and O+ blood\n",
    "$$\n",
    "0.07+0.33+0.08+0.37=0.85\n",
    "$$"
   ]
  },
  {
   "cell_type": "markdown",
   "id": "fad429dc",
   "metadata": {},
   "source": [
    "ii)   What is the Probability that an individual will have a positive Rh factor?"
   ]
  },
  {
   "cell_type": "markdown",
   "id": "bc5884e2",
   "metadata": {},
   "source": [
    "**Solution:**\n",
    "The solution is the sum of the Probabilities\n",
    "$$\n",
    "\\begin{align}\n",
    "\\Pr(+)&=\\Pr(A+)+\\Pr(B+)+\\Pr(AB+)+\\Pr(O+)\\\\\n",
    "&=0.07+0.02+0.01+0.08\\\\\n",
    "&=0.18\n",
    "\\end{align}\n",
    "$$"
   ]
  },
  {
   "cell_type": "markdown",
   "id": "db3a6e39",
   "metadata": {},
   "source": [
    "iii)    Given that an individual has blood type O , what is the Probability that they will have negative Rh factor?"
   ]
  },
  {
   "cell_type": "markdown",
   "id": "2c667e87",
   "metadata": {},
   "source": [
    "**Solution:**\n",
    "The solution can be found using the definition of conditional Probability and the law of total Probability \n",
    "$$\n",
    "\\begin{align}\n",
    "\\Pr(-|O)&=\\frac{\\Pr(O|-)\\Pr(-)}{\\Pr(O)}\\\\\n",
    "&=\\frac{\\Pr(O-)}{\\Pr(O)}\\\\\n",
    "&=\\frac{0.37}{0.37+0.08}\\\\\n",
    "&=0.822\n",
    "\\end{align}\n",
    "$$\n",
    "\n",
    "iv)   Given that an individual's blood type is not O, what is the Probability that their Rh factor is positive?"
   ]
  },
  {
   "cell_type": "markdown",
   "id": "739a29c8",
   "metadata": {},
   "source": [
    "**Solution:**\n",
    "This solution can be found using the definitions of conditional Probability and the Properties for the Probabilities of complements\n",
    "$$\n",
    "\\begin{align}\n",
    "\\Pr(+|O^c)&=\\frac{\\Pr(O^c|+)\\Pr(+)}{\\Pr(O^c)}\\\\\n",
    "&=\\frac{\\Pr(A+\\cup B+\\cup AB+)}{\\Pr(A\\cup B\\cup AB)}\\\\\n",
    "&=\\frac{0.07+0.02+0.01}{1-(0.08+0.37)}\\\\\n",
    "&=\\frac{0.10}{1-0.45}\\\\\n",
    "&=0.182\n",
    "\\end{align}\n",
    "$$\n",
    " \n",
    " "
   ]
  },
  {
   "cell_type": "markdown",
   "id": "d949889c",
   "metadata": {},
   "source": [
    "3.    What is the Probability that two people share the same birthday (month and date,; not year)?  Given that there are 200 people enrolled in MXB107, what is the Probability that no one shares the same birthday?"
   ]
  },
  {
   "cell_type": "markdown",
   "id": "5751be8e",
   "metadata": {},
   "source": [
    "**Solution:**\n",
    "The solution is most directly found by finding the Probability that two people _don't_ share the same birthday and then use the Property of complimentary events. \n",
    "Let $A$ be the event that two people share the same birthday and $A^c$ be the event that two people _dont't_ share a birthday, then\n",
    "\n",
    "$$\n",
    "\\Pr(A^c)=\\frac{365}{365}\\times\\frac{364}{365}=0.997.\n",
    "$$"
   ]
  },
  {
   "cell_type": "markdown",
   "id": "8f5a4f81",
   "metadata": {},
   "source": [
    "and \n",
    "$$\n",
    "\\Pr(A)=1-\\Pr(A^c)=1-0.997=0.003.\n",
    "$$\n",
    "We can generailse this to $n$ people\n",
    "$$\n",
    "\\Pr(A^c)=\\left(\\frac{1}{365}\\right)^n\\times(365\\times (365-1)\\times\\cdots\\times (365-n))\n",
    "$$\n",
    "for $n=200$\n",
    "\n",
    "$$\n",
    "\\Pr(A^c)=\\left(\\frac{1}{365}\\right)^{200}\\times(365\\times 364\\times\\cdots\\times 165)=7.279\\times 10 ^{-31}\n",
    "$$\n",
    "then\n",
    "$$\n",
    "\\Pr(A)=1-7.279\\times 10^{-31}\\approx 1\n",
    "$$\n",
    " "
   ]
  },
  {
   "cell_type": "markdown",
   "id": "bd2d5a48",
   "metadata": {},
   "source": [
    "##    Workshop \\Practical Questions\n",
    "\n",
    "### Probability from Simple Events\n",
    "\n",
    "Recall the counting method for computing Probabilities for simple events:\n",
    "$$\n",
    "\\Pr(A)=\\frac{\\mbox{Number of ways that $A$ can occur}}{\\mbox{Total number of outcomes}}\n",
    "$$\n",
    "given this method, consider the following questions\n"
   ]
  },
  {
   "cell_type": "markdown",
   "id": "6188a380",
   "metadata": {},
   "source": [
    "1.    For any randomly selected card from a standard deck 52 cards:\\\n",
    "   i.)   What is the Probability that a player draws an ace?\"\\\n",
    "  ii.)    What is the Probability that a player draws a diamond?\"\n",
    "  \n",
    "**Solution:**\n",
    "\n",
    "Note that there are 13 diamonds in a deck of 52 cards.  If there is an equal Probability that I draw any card then we can use the formula:\n",
    "$$\n",
    "\\Pr(A)=\\frac{\\mbox{Number of ways that $A$ can occur}}{\\mbox{Total number of outcomes}}\n",
    "$$\n",
    "to get\n",
    "$$\n",
    "\\begin{aligned}\n",
    "\\Pr(\\mbox{Player draws a diamond})&=\\frac{\\mbox{Number of Diamonds in a deck}}{\\mbox{Number of Cards in a deck}}\\\\\n",
    "&=\\frac{13}{52}\\\\\n",
    "&=\\frac{1}{4}\n",
    "\\end{aligned}\n",
    "$$\n",
    "and\n",
    "$$\n",
    "\\begin{aligned}\n",
    "\\Pr(\\mbox{Player draws an ace})&=\\frac{\\mbox{Number of aces in a deck}}{\\mbox{Number of Cards in a deck}}\\\\\n",
    "&=\\frac{4}{52}\\\\\n",
    "&=\\frac{1}{13}\n",
    "\\end{aligned}\n",
    "$$\n",
    "\n",
    " "
   ]
  },
  {
   "cell_type": "markdown",
   "id": "8f24ecc9",
   "metadata": {},
   "source": [
    "Recall the the definition of conditional Probability and independence:\n",
    "$A$ and $B$ are independent events if \n",
    "$$\n",
    "\\Pr(A|B)=\\Pr(A)\n",
    "$$\n",
    "From this then we can note that is $A$ and $B$ are independent then \n",
    "$$\n",
    "\\Pr(A\\cap B)=\\Pr(A)\\times \\Pr(B)\n",
    "$$\n",
    "based on this, consider the following question:"
   ]
  },
  {
   "cell_type": "markdown",
   "id": "ac3e6549",
   "metadata": {},
   "source": [
    "2.    Are the event \"player draws an ace\" and \"player draws a diamond\" independent?\n",
    "(**Hint:** compute the Probability that a player draws the ace of diamonds.)"
   ]
  },
  {
   "cell_type": "markdown",
   "id": "f73b4d6e",
   "metadata": {},
   "source": [
    "**Solution:**\n",
    "\n",
    "Again if we count the number of ace of diamonds there are in a deck, and use the formula\n",
    "$$\n",
    "\\Pr(A)=\\frac{\\mbox{Number of ways that $A$ can occur}}{\\mbox{Total number of outcomes}}\n",
    "$$\n",
    "then we can compute\n",
    "$$\n",
    "\\begin{aligned}\n",
    "\\Pr(\\mbox{I Draw the ace of diamonds})&=\\frac{\\mbox{Number of aces of diamonds in a deck}}{\\mbox{Number of Cards in a deck}}\\\\\n",
    "&=\\frac{1}{52}\n",
    "\\end{aligned}\n",
    "$$\n",
    "Which is \n",
    "$$\n",
    "\\begin{aligned}\n",
    "\\Pr(\\mbox{Ace of Diamonds})&=\\frac{1}{52}\\\\\n",
    "&=\\Pr(\\mbox{Ace})\\Pr(\\mbox{Diamond})\\\\\n",
    "&=\\frac14\\frac{1}{13}\\\\\n",
    "&=\\frac{1}{52}\n",
    "\\end{aligned}\n",
    "$$\n",
    "So because $\\Pr(\\mbox{Ace and Diamond})=\\Pr(\\mbox{Ace})\\Pr(\\mbox{Diamond})$ the events are independent. \n",
    " \n",
    "\n",
    " "
   ]
  },
  {
   "cell_type": "markdown",
   "id": "08fb0afb",
   "metadata": {},
   "source": [
    "3. A fair coin is tossed five times, what is the Probability of getting a sequence of three heads?"
   ]
  },
  {
   "cell_type": "markdown",
   "id": "50ed7c15",
   "metadata": {},
   "source": [
    "**Solution:**\n",
    "\n",
    "Given five coin tosses there are $2^5=32$ possible outcomes.  The possible ways to get a sequence of three heads are:\n",
    "\n",
    "(HHHTT),  (THHHT), \n",
    " (TTHHH),  (THHHH), \n",
    " (HTHHH),  (HHHTH), \n",
    " (HHHHT),  (HHHHH) \n",
    "\n",
    "So there are eight out of 32 ways to get a sequence of three heads\n",
    "$$\n",
    "\\Pr(\\mbox{Sequence of three heads})=\\frac{8}{32}=\\frac{1}{4}\n",
    "$$\n",
    " \n",
    " \n"
   ]
  },
  {
   "cell_type": "markdown",
   "id": "fc27eb3e",
   "metadata": {},
   "source": [
    "4.    If two fair dice are tossed:\\\n",
    "  i.)   What is the Probability of rolling 'doubles'\",\\\n",
    "  ii.)  What is the Probability that both dice show an odd number\","
   ]
  },
  {
   "cell_type": "markdown",
   "id": "6b4974a1",
   "metadata": {},
   "source": [
    "**Solution:**\n",
    "\n",
    "There are $6^2=36$ possible outcomes for a pair of dice, there are six ways to get doubles so\n",
    "$$\n",
    "\\Pr(\\mbox{doubles})=\\frac{6}{36}=\\frac{1}{6}\n",
    "$$\n",
    "The ways that I can get two odd numbers is:"
   ]
  },
  {
   "cell_type": "markdown",
   "id": "35ea3bb2",
   "metadata": {},
   "source": [
    "(1,1),(1,3),(1,5),(3,3),(3,5),(5,5),(3,1),(5,1),(5,3)"
   ]
  },
  {
   "cell_type": "markdown",
   "id": "00ba7b06",
   "metadata": {},
   "source": [
    "So there are nine ways out of 36\n",
    "$$\n",
    "\\Pr(\\mbox{two odd numbers})=\\frac{9}{36}=\\frac14\n",
    "$$\n",
    " "
   ]
  },
  {
   "cell_type": "markdown",
   "id": "49c97ed1",
   "metadata": {},
   "source": [
    "### Conditional Probability and Bayes' Theorem\n",
    "\n",
    "Recall the Law of Total Probability and the definition of marginal Probability:\n",
    "$$\n",
    "\\Pr(A)=\\sum_{j=1}^m\\Pr(A|B_j)\\Pr(B_j)\n",
    "$$\n",
    "where $\\Pr(A|B_j)\\Pr(B_j)=\\Pr(A\\cap B_j)$. \n",
    "\n",
    "Note that using this rule and the definition of conditional Probability we can derive Bayes' Theorem\n",
    "$$\n",
    "\\Pr(B|A)=\\frac{\\Pr(A|B)\\Pr(B)}{\\Pr(A)}.\n",
    "$$\n",
    "Considering these rules when answering the following questions.\n"
   ]
  },
  {
   "cell_type": "markdown",
   "id": "e7ba19c5",
   "metadata": {},
   "source": [
    "5.    There are three cabinets $A$, $B$, and $C$, each with two drawers.  Each drawer contains one coins; $A$ has two gold coins, $B$ has two silver coins, and $C$ has one gold coin and one silver coin.  A cabinet is chosen at random and one drawer is opened, and a silver coin is found: \n",
    "i.    What is the Probability that a drawer selected at random contains a silver coin?\\\n",
    "ii.   For a randomly selected cabinet what is the Probability that both drawers contain a silver \\\n",
    "iii.    If a cabinet is chosen at random is chosen, one drawer is opened, and that drawer contains a silver coin, what is the Probability that the other drawer in the same cabinet contains a silver coin"
   ]
  },
  {
   "cell_type": "markdown",
   "id": "0df05c03",
   "metadata": {},
   "source": [
    "**Solution 1**:\n",
    "\n",
    "There are three cabinets with two drawers each and three of the six drawers contain a silver coin, so a drawer chosen at random has a $3/6$ or $1/2$ Probability of containing a silver coin. \n",
    "\n",
    "**Solution 2:**\n",
    "\n",
    "There are three cabinets and one of the three contains two silver coins so a cabinet chosen at random has a $1/3$ Probability of having a silver coin in both drawers. \n",
    "\n",
    "**Solution 3:**\n",
    "\n",
    "Using Bayes Theorem, the Probability that we selected a cabinet that has two silver coins is $1/3$, the Probability that a drawer contains a silver coin is $3/6=1/2$ so\n",
    "$$\n",
    "\\begin{aligned}\n",
    "\\Pr(\\mbox{Two silver coins}|\\mbox{one silver coin})&=\\frac{\\Pr(\\mbox{Cabinet contains one silver coin and two silver coins})}{\\Pr(\\mbox{Cabinet has a silver coin})}\\\\\n",
    "&=\\frac{1/3}{1/2}\\\\\n",
    "&=\\frac23\n",
    "\\end{aligned}\n",
    "$$\n",
    "  \n",
    " \n"
   ]
  }
 ],
 "metadata": {
  "jupytext": {
   "cell_metadata_filter": "-all",
   "main_language": "python",
   "notebook_metadata_filter": "-all"
  }
 },
 "nbformat": 4,
 "nbformat_minor": 5
}
