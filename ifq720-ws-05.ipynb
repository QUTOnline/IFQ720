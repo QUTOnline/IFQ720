{
 "cells": [
  {
   "cell_type": "raw",
   "id": "12a06ae9",
   "metadata": {},
   "source": [
    "---\n",
    "title: \"IFQ720 Worksheet 05 - Analysis of Variance\"\n",
    "output:\n",
    "  html_document\n",
    "---"
   ]
  },
  {
   "cell_type": "code",
   "execution_count": null,
   "id": "cb78ecf1",
   "metadata": {
    "name": "ws-setup",
    "tags": [
     "remove_cell"
    ]
   },
   "outputs": [],
   "source": [
    "  # if problems with knitting directory:\n",
    "  # set Knit Directory = Document Directory\n",
    "\n",
    "  # install libraries needed for worksheet\n",
    "knitr::opts_chunk$set(\n",
    "  fig.align = 'center',\n",
    "  collapse = TRUE,\n",
    "  comment = \"#>\"\n",
    ")\n",
    "\n",
    "  library(MXB107)\n",
    "  library(learnr)\n",
    "  library(gifski)\n",
    "  library(kableExtra)\n",
    "  library(pander)\n",
    "  library(shiny)\n"
   ]
  },
  {
   "cell_type": "code",
   "execution_count": null,
   "id": "130b0d4d",
   "metadata": {
    "lines_to_next_cell": 0,
    "tags": [
     "remove_cell"
    ]
   },
   "outputs": [],
   "source": [
    "%%python\n",
    "import pandas\n",
    "import plotnine\n",
    "import numpy\n",
    "import scipy\n",
    "import math\n",
    "from plotnine import *\n"
   ]
  },
  {
   "cell_type": "markdown",
   "id": "d571592a",
   "metadata": {},
   "source": [
    "<style type=\"text/css\">\n",
    ".solution-panel {\n",
    "  padding: 0 10px;\n",
    "  background-color: white;\n",
    "  display: none;\n",
    "  overflow: hidden; \n",
    "}\n",
    "</style>\n",
    "\n",
    "# The Analysis of Variance\n",
    "\n",
    "When considering hypothesis testing we looked at one-sample and two-sample cases, but is many instances,especially in experimental settings (e.g. lab experiments or clinical trials) we want to compare the effects of various _factors_ that have more than one or two possible _levels_.  In this case we need a more generalised approach to analysing results and testing hypotheses.\n",
    "The statistical technique used to analyse these data and test\n",
    "for the statistical significance of effects is called the analysis of\n",
    "variance (ANOVA).\n",
    "\n",
    "## Designing Experiments \n",
    "\n",
    "An experiment is a trial that attempts to isolate the effects of factors\n",
    "of interest on specific outcomes while eliminating as much as possible\n",
    "extraneous effects on outcomes. Experiments are typically designed to\n",
    "focus on a few factors and include some degree of repetition and\n",
    "randomisation to make statistical inferences.\n"
   ]
  },
  {
   "cell_type": "markdown",
   "id": "33d228aa",
   "metadata": {},
   "source": [
    "An **experimental unit** is the object whose outcome or response is\n",
    "measured and is of interest in the process of the experiment. The\n",
    "outcome or response measured is called the dependent variable.\n",
    "\n",
    "A **factor** is an independent variable controlled and varied by the\n",
    "experimenter. Factors are measured and varied in terms of levels or\n",
    "discrete states rather than as continuous or discrete numerical\n",
    "measures.\n",
    "\n",
    "A **treatment** is a specific combination of factor levels.\n",
    "\n",
    "A **response** is the variable measured by the experimenter, typically a\n",
    "continuous numeric response.\n"
   ]
  },
  {
   "cell_type": "markdown",
   "id": "a499e431",
   "metadata": {},
   "source": [
    "###  Analysis of Variance (ANOVA) Explained {#analysis-of-variance-anova-explained .unnumbered}\n",
    "\n",
    "We can explain the concept of Analysis of Variance (ANOVA) as a generalisation of a two-sample $t$-test.  Historically, ANOVA predates the maximum likelihood principle, and the Neyman-Pearson paradigm for hypothesis testing, and can be derived separately, but it is useful to think of it in terms of hypothesis testing for the purposes of inferencs.  "
   ]
  },
  {
   "cell_type": "markdown",
   "id": "f5aec8b0",
   "metadata": {},
   "source": [
    "**Paint Coverage: Deriving the Sum of Squares for ANOVA**\\\n",
    "\n",
    "House paint is sold in containers labelling the coverage and drying time\n",
    "for a single coat of paint. If manufacturers' packaging claims that a\n",
    "four-litre can of their paint will cover the same area, how can we test if all three brands have the same coverage?  \n",
    "\n",
    "**Solution:**\n",
    "\n",
    "We can think of this experiment\n",
    "as an example of a simple experiment testing a single factor (brand of\n",
    "paint) with multiple levels (brands of paint). \n",
    "If we are testing a single factor with two levels (Brand A versus Brand B), measuring the response\n",
    "(coverage in $m^2$), results are analysed using a two-sample\n",
    "$t$-test. Assuming that $n_1=n_2=n$, we could write this out as a model\n",
    "for our responses as\n",
    "$$y_{ij} = \\mu_i+\\epsilon_{ij}, i = A,B\\mbox{ and } j = 1,\\ldots,n$$\n",
    "where $\\mu_i$ is the mean for Brand A or Brand B, and $j$ is sample $j$\n",
    "of the sample for Brand A or Brand B.\n",
    "\n",
    "<br>\n",
    "Now suppose that we wanted to investigate three brands of paint? (Brand\n",
    "A, Brand B, and Brand C). The two-sample $t$-test is no longer a valid\n",
    "approach to analysing the data. Instead, can extend this statistical\n",
    "model for the experiment to analyse the data (assuming that each sample\n",
    "is of equal size, i.e. $n_1+n_2+n_3=n$\n",
    "$$y_{ij} = \\mu_i+\\epsilon_{ij}, i = A, B, C \\mbox{ and } j = 1,\\ldots,n$$\n",
    "\n",
    "Let's assume that the outcome of the experiment for replication $j$ of\n",
    "treatment $i$ that is the result for is $y_{ij}$, then the total outcome\n",
    "of the experiment is $$\\mathbf{y} = (y_{11},y_{12},\\ldots,y_{IJ})$$ where\n",
    "there are $I$ different treatments each replicated $J$ times, and\n",
    "$n = IJ$. We can describe the total variation in experimental outcomes\n",
    "as the **total sum of squares** (**SST**) is defined as\n",
    "$$SST = \\sum_{i=1}^I\\sum_{j=1}^J(y_{ij}-\\bar{y}_{..})^2.$$ where\n",
    "$$\\bar{y}_{..}=\\frac{1}{IJ}\\sum_{i=1}^I\\sum_{j=1}^Jy_{ij}$$ is the grand\n",
    "mean, the overall average response over all treatments and repetitions.\n",
    "The total sum of squares can be decomposed into two parts. First the sum\n",
    "of the squares of the error **SSE** is the pooled variation *within*\n",
    "treatment group $i$ $$\\begin{aligned}\n",
    "SSE &= (n_1-1)s_1^2+\\cdots+(n_I-1)s_I^2\\\\\n",
    "&=\\sum_{i=1}^I \\sum_{j=1}^J (y_{ij}-\\bar{y}_i)^2\\end{aligned}$$ where\n",
    "$$\\bar{y}_{i}=\\frac{1}{J}\\sum_{j=1}^Jy_{ij}$$ or the mean for treatment\n",
    "$i$. Second, the sum of the squares of the treatments **SSTR** is\n",
    "$$SSTR = \\sum_{i=1}^IJ(\\bar{y}_{i}-\\bar{y}_{..})^2$$ resulting in\n",
    "$$SST = SSTR + SSE$$\n",
    "\n",
    "We can show that we can decompose the total sum of squares into the sum of the\n",
    "squares of the treatments and the sum of the squares of the error.\n",
    "\n",
    "Each source of variation is computed as a sum of squares, and can be\n",
    "divided by their degrees of freedom, as an estimate of their\n",
    "contribution to the total variance. These results are presented in an\n",
    "ANOVA table.\n",
    "\n",
    "  Source       degrees of freedom   Sum of Squares     Mean Squares        $F$\n",
    "  ----------- -------------------- ---------------- ------------------- ----------\n",
    "  Treatment           I-1                SSTR        MSTR = SSTR/(I-1)   MSTR/MSE\n",
    "  Error               n-I                SSE          MSE = SSE/(n-I)   \n",
    "  Total               n-1                SST                            \n",
    "\n",
    "Note that $n = IJ$ and the mean squares are just the sum of squares\n",
    "divided by their degrees of freedom. The statistic $F$ is the ratio of\n",
    "the MSTR and the MSE; or the ratio of the between treatment variation\n",
    "and the within treatment variation.\n",
    " "
   ]
  },
  {
   "cell_type": "markdown",
   "id": "5282dfd9",
   "metadata": {},
   "source": [
    "## ANOVA Inference\n",
    "\n",
    "We assume that the observations $y_{ij}$ are distributed following a Gaussian distribution with a common variance $\\sigma^2$, but not necessarily the\n",
    "same mean.  Under these assumeotions, the statistic $F$, the ratio of the mean squares of ther treatment and the mean square of the error will follow an $F$-distribution. \n",
    "\n",
    "The $F$ distribution is\n",
    "a continuous probability distribution that describes the sampling\n",
    "distribution of the ratio of two sample variances. The $F$ distribution has\n",
    "two parameters, which are the degrees of freedom of the numerator and\n",
    "the degrees of freedom of the denominator. \n",
    "$$\n",
    "\\frac{s_1^2}{s^2_2}\\sim F_{\\nu_1,\\nu_2}\n",
    "$$\n",
    "where if\n",
    "$$\n",
    "s_1^2=\\frac{1}{n_1-1}\\sum_{i=1}^{n_1}(x_i-\\bar{x})^2\\quad\\mbox{and}\n",
    "\\quad s^2_2=\\frac{1}{n_2-1}\\sum_{j=1}^{n_2}(y_j-\\bar{y})^2\n",
    "$$\n",
    "then \n",
    "$$\n",
    "\\nu_1 = n_1-1\\quad \\mbox{and}\\quad \\nu_2=n_2-1.\n",
    "$$\n",
    "\n",
    "We can think about this in\n",
    "terms of a hypothesis test; if you wanted to test whether or not one of\n",
    "your treatments produced a different outcome than the others, then you\n",
    "would use the hypotheses\n",
    "$$\n",
    "H_0: \\mu_1=\\mu_2=\\cdots=\\mu_I\\qquad\\mbox{and}\\qquad H_A: \\mbox{ at least one treatment mean is different}.\n",
    "$$\n",
    "Under these hypotheses, the null assumption means that\n",
    "$$\n",
    "SSTR\\approx SSE\n",
    "$$\n",
    "i.e. that the variance between treatments was\n",
    "approximately equal to the variance within treatments, or that all\n",
    "treatment means are the same. So, in this case, you would reject the\n",
    "null hypothesis if MSTR was larger than MSE, or that basically, the\n",
    "treatment accounted for more of the total variance than the error. This\n",
    "decision translates to rejecting for large values of $F$, so we can\n",
    "state that our rejection rule would be: $$F>F_{\\mbox{critical}}$$ and\n",
    "just as in previous cases we can choose our critical value based on a\n",
    "Type I Error rate so that\n",
    "$$\n",
    "F_{\\mbox{critical}} = F_{\\nu_1,\\nu_2,\\alpha}\n",
    "$$\n",
    "where\n",
    "$$\n",
    "Pr(F<F_{\\mbox{critical}})= 1-\\alpha.\n",
    "$$ \n",
    "Finding the critical value for\n",
    "$F$ can be easily done using `R` or other statistical software. In\n",
    "practice, most statistical software will produce an ANOVA table with $F$\n",
    "statistics computed and some indication of the results of testing."
   ]
  },
  {
   "cell_type": "markdown",
   "id": "e6a3e3d4",
   "metadata": {},
   "source": [
    "**Example:**\n",
    "\n",
    "A study in Kirchhoefer (1979) reviewed the results of an experiment\n",
    "evaluating a semi-automated method for measuring chlorpheniramine\n",
    "maleate in tablets. The experimenter allocated ten samples to each of\n",
    "seven labs, and the results were analysed to determine if there were\n",
    "differences between the labs. The results in tabular form are:"
   ]
  },
  {
   "cell_type": "code",
   "execution_count": null,
   "id": "f0dae5cb",
   "metadata": {
    "lines_to_next_cell": 2,
    "tags": [
     "remove_input"
    ]
   },
   "outputs": [],
   "source": [
    "%%python\n",
    "y = (4.13,4.07,4.04,4.07,4.05,4.04,4.02,4.06,4.10,4.04,\n",
    "       3.86,3.85,4.08,4.11,4.08,4.01,4.02,4.04,3.97,3.95,\n",
    "       4.00,4.02,4.01,4.01,4.04,3.99,4.03,3.97,3.98,3.98,\n",
    "       3.88,3.88,3.91,3.95,3.92,3.97,3.92,3.90,3.97,3.90,\n",
    "       4.02,3.95,4.02,3.89,3.91,4.01,3.89,3.89,3.99,4.00,\n",
    "       4.02,3.86,3.96,3.97,4.00,3.82,3.98,3.99,4.02,3.93,\n",
    "       4.00,4.02,4.03,4.04,4.10,3.81,3.91,3.96,4.05,4.06)\n",
    "labs = c(rep(\"Lab 1\", 10),rep(\"Lab 2\", 10), rep(\"Lab 3\",10), rep(\"Lab 4\",10),\n",
    "          rep(\"Lab 5\",10), rep(\"Lab 6\",10),rep(\"Lab 7\",10))\n",
    "          \n",
    "df = pandas.DataFrame()\n",
    "\n",
    "df <- tibble(obs = rep(1:10,7), y = y, lab = labs)%>%\n",
    "  pivot_wider(names_from = lab, values_from = y)%>%\n",
    "  select(-obs)\n",
    "\n",
    "print(df)\n"
   ]
  },
  {
   "cell_type": "markdown",
   "id": "38de260b",
   "metadata": {},
   "source": [
    "<button class=\"solution\">\n",
    "Solution\n",
    "</button>\n",
    " {.solution-panel}\n",
    "<p style=\"font-size:5px\">\n",
    "<br>\n",
    "</p>\n",
    "\n",
    "If we want to test the hypotheses\n",
    "$$\n",
    "H_0: \\mbox{There is no difference between labs}\\quad\\mbox{and}\\quad H_A: \\mbox{At least one lab is different}\n",
    "$$\n",
    "Then we can use the $F$ statistic and perform a $F$-test. The degrees of\n",
    "freedom for the numerator and denominator can be taken from the table as\n",
    "6 and 63 respectively use `R` to determine that \n",
    "$$\n",
    "F_{\\mbox{critical}}=`r qf(0.95,6,63)%>%round(2)`\n",
    "$$ \n",
    "for $\\alpha = 0.05$. \n",
    "\n",
    "Unfortunately, further analysis requires using `R` rather than the tedious hand calculations involved. "
   ]
  },
  {
   "cell_type": "code",
   "execution_count": null,
   "id": "0d73c45b",
   "metadata": {
    "lines_to_next_cell": 0,
    "name": "ex1"
   },
   "outputs": [],
   "source": [
    "y <- c(4.13,4.07,4.04,4.07,4.05,4.04,4.02,4.06,4.10,4.04,\n",
    "       3.86,3.85,4.08,4.11,4.08,4.01,4.02,4.04,3.97,3.95,\n",
    "       4.00,4.02,4.01,4.01,4.04,3.99,4.03,3.97,3.98,3.98,\n",
    "       3.88,3.88,3.91,3.95,3.92,3.97,3.92,3.90,3.97,3.90,\n",
    "       4.02,3.95,4.02,3.89,3.91,4.01,3.89,3.89,3.99,4.00,\n",
    "       4.02,3.86,3.96,3.97,4.00,3.82,3.98,3.99,4.02,3.93,\n",
    "       4.00,4.02,4.03,4.04,4.10,3.81,3.91,3.96,4.05,4.06)\n",
    "labs <- c(rep(\"Lab 1\", 10),rep(\"Lab 2\", 10), rep(\"Lab 3\",10), rep(\"Lab 4\",10),\n",
    "          rep(\"Lab 5\",10), rep(\"Lab 6\",10),rep(\"Lab 7\",10))\n",
    "\n",
    "df <- tibble(y = y, lab = labs)\n",
    "\n",
    "model <- lm(y~lab, data = df)\n",
    "\n",
    "panderOptions('missing',\"\")\n",
    "model%>%anova()%>%pander()\n"
   ]
  },
  {
   "cell_type": "code",
   "execution_count": null,
   "id": "b4b07827",
   "metadata": {
    "name": "ex1a",
    "tags": [
     "remove_input"
    ]
   },
   "outputs": [],
   "source": [
    "\n",
    "model_res <- model%>%anova()\n",
    "\n",
    "MS <- model_res%>%pull(\"Mean Sq\")%>%round(6)\n",
    "F.test <- model_res%>%pull(\"F value\")%>%round(2)\n"
   ]
  },
  {
   "cell_type": "markdown",
   "id": "28590267",
   "metadata": {},
   "source": [
    "\\\n",
    "<br>\n",
    "We can see from the results that the _MSE_=`r MS[2]` and _MSTR_=`r MS[1]` resulting in _F_=`r F.test[1]`, since the critical value of _F_ is `r qf(0.95,6,63)%>%round(2)`, we can reject the null hypothesis and assume that the measuring process in at least one lab is different than the others.\n",
    "\n",
    "This example describes a single factor experiment\n",
    "where treatments are assigned to individuals completely at random or a\n",
    "fully randomised trial. The results from rejecting the null hypothesis\n",
    "tell us that at least one of the treatments results in different\n",
    "outcomes compared to the rest, but beyond that, it doesn't tell us much,\n",
    "in fact, we need some more sophisticated tools.\n",
    "\n",
    " "
   ]
  },
  {
   "cell_type": "markdown",
   "id": "bc408ed5",
   "metadata": {},
   "source": [
    "### The Problem of Multiple Comparisons  {#the-problem-of-multiple-comparisons .unnumbered}\n",
    "\n",
    "THe $F$-test for ANOVA is robust, and relatively straightforward; it is based on comparing the variance _within_ groups (or treatments) and the variance _between_ groups (or treatments).  If we see that the variance between groups is much greater than the variance within groups we reject $H_0$ the null hypothesis that all groups or treatments have the same effect.  Rejecting the null hypothesis however simply tells us that _at least one_ of the treatments is different; not which one. \n",
    "\n",
    "Instinctively we might suggest that a way of testing to see which\n",
    "treatment is different would be to perform multiple two-sample $t$-test\n",
    "like we learned previously."
   ]
  },
  {
   "cell_type": "markdown",
   "id": "57fd4202",
   "metadata": {},
   "source": [
    "In the example from Kirchhoefer (1979) there are seven labs, and to test all the possible\n",
    "pairwise comparisons we would have to perform $${7\\choose 2} = 21$$\n",
    "two-sample $t$-tests. Each of these tests has a Type I Error Rate of\n",
    "$\\alpha$, thus in performing 21 tests the actual Type I Error Rate is\n",
    "the probability that you make at least one Type I error or\n",
    "$$1-Pr(\\mbox{you make no Type I errors}=1-(1-\\alpha)^{21}.$$ We can\n",
    "calculate this for $\\alpha = 0.05$ as $$1-(1-0.05)^{21}=0.659$$ This\n",
    "result means that our testing procedure is far less reliable than we\n",
    "thought, and our inferences could be very wrong, meaning that we have a\n",
    "very high probability of making a mistake in deciding that two treatment\n",
    "means differ."
   ]
  },
  {
   "cell_type": "markdown",
   "id": "0d58a772",
   "metadata": {},
   "source": [
    "###  Testing the Equality of the Treatment Means {#testing-the-equality-of-the-treatment-means .unnumbered}\n",
    "\n",
    "There are a number of different approaches to addressing this problem of an inflated Type I error rate when testing the difference between multiple treatment means; one is Tukey's\n",
    "Honest Significant Difference (HSD) based on the sampling distribution\n",
    "of\n",
    "$$\n",
    "q_{I,I(J-1)}\\max_{i_1,i_2}\\frac{|(\\bar{y}_{i_1}-\\mu_{i_1})-(\\bar{y}_{i_2}-\\mu_{i_2})|}{s_p/\\sqrt{J}}\n",
    "$$\n",
    "or **Tukey's Studentised Range**, where $i_1$ and $i_2$ refer to any\n",
    "arbitrary pairwise comparison of treatments. Using this sampling\n",
    "distribution, we can construct a confidence interval to perform the\n",
    "pairwise test of\n",
    "$$\n",
    "H_0: \\mu_{i_1}=\\mu_{i_2}\\qquad\\mbox{and}\\qquad H_A: \\mu_{i_1}\\neq\\mu_{i_2}.\n",
    "$$\n",
    "For a Type I Error Rate of $\\alpha$ we can reject $H_0$ if\n",
    "$$\n",
    "|\\bar{y}_{i_1}-\\bar{y}_{i_2}|>q_{I,I(J-1),\\alpha}\\frac{s_p}{\\sqrt{J}}\n",
    "$$\n",
    "Finding values of $q_{I,I(I-J),\\alpha}$ requires either special software (e.g. `R`)\n",
    "or a set of tables."
   ]
  },
  {
   "cell_type": "markdown",
   "id": "737aa4e8",
   "metadata": {},
   "source": [
    "**Example:**\\\n",
    "\n",
    "In the example from Kirchhoefer (1979) the results of the hypothesis test indicates that at least one of labs produces different measurements than the rest.  Use Tukey's Honest Significant Difference to identify _which_ labs differ from the others. \n",
    "\n",
    "<button class = \"solution\">\n",
    "Solution\n",
    "</button>\n",
    " {.solution-panel}\n",
    "<p style=\"font-size:5px\">\n",
    "<br>\n",
    "</p>\n",
    "\n",
    "Continuing with the example of lab measurements, we can list the labs in decreasing order\n",
    "of their mean measurements\n",
    "\n",
    "   Lab   Mean\n",
    "  ----- -------\n",
    "    1    4.062\n",
    "    3    4.003\n",
    "    7    3.998\n",
    "    2    3.997\n",
    "    5    3.957\n",
    "    6    3.995\n",
    "    4    3.920\n",
    "\n",
    "For a Type I Error Rate of $\\alpha = 0.05$ we can find\n",
    "$q_{7,63,\\alpha} = 4.31$ in `R`  `qtukey(0.95,7,63)`  $s_p$ is the square root of the mean squared\n",
    "error (MSE) resulting in $s_p = 0.06$. According to Tukey's method we\n",
    "would reject the hypothesis that two means were the same if\n",
    "$$|\\bar{y}_{i_1}-\\bar{y}_{i_2}|>0.082$$ based on this, we conclude that\n",
    "mean of the measurements produced by Lab 1 differ from those of Lab 4,\n",
    "5, and 6.\n",
    "\n",
    "Note that if we had performed a regular $t$ test at the same Type I\n",
    "Error Rate, the rejection rule would have been\n",
    "$$|\\bar{y}_{i_1}-\\bar{y}_{i_2}|>0.053$$ and we would have concluded that\n",
    "Lab 1 produced measurements that differed from every other lab."
   ]
  },
  {
   "cell_type": "code",
   "execution_count": null,
   "id": "2897619e",
   "metadata": {
    "lines_to_next_cell": 0,
    "name": "ex2"
   },
   "outputs": [],
   "source": [
    "y <- c(4.13,4.07,4.04,4.07,4.05,4.04,4.02,4.06,4.10,4.04,\n",
    "       3.86,3.85,4.08,4.11,4.08,4.01,4.02,4.04,3.97,3.95,\n",
    "       4.00,4.02,4.01,4.01,4.04,3.99,4.03,3.97,3.98,3.98,\n",
    "       3.88,3.88,3.91,3.95,3.92,3.97,3.92,3.90,3.97,3.90,\n",
    "       4.02,3.95,4.02,3.89,3.91,4.01,3.89,3.89,3.99,4.00,\n",
    "       4.02,3.86,3.96,3.97,4.00,3.82,3.98,3.99,4.02,3.93,\n",
    "       4.00,4.02,4.03,4.04,4.10,3.81,3.91,3.96,4.05,4.06)\n",
    "labs <- c(rep(\"Lab 1\", 10),rep(\"Lab 2\", 10), rep(\"Lab 3\",10), rep(\"Lab 4\",10),\n",
    "          rep(\"Lab 5\",10), rep(\"Lab 6\",10),rep(\"Lab 7\",10))\n",
    "\n",
    "df <- tibble(y = y, lab = labs)\n",
    "\n",
    "model <- lm(y~lab, data = df)\n",
    "\n",
    "panderOptions('missing',\"\")\n",
    "model%>%anova()%>%pander()\n",
    "\n",
    "model_res <- model%>%anova()\n",
    "panderOptions('digits', 3)\n",
    "(model%>%aov()%>%TukeyHSD())$lab%>%round(3)%>%pander()\n"
   ]
  },
  {
   "cell_type": "markdown",
   "id": "d856d35b",
   "metadata": {},
   "source": [
    "Tukey's method can be used to construct confidence intervals for the\n",
    "difference between two treatment means (as shown). Statistical software\n",
    "(including `R`) produce special tables of pairwise comparisons for\n",
    "treatment means that illustrate both the ranking of the treatment means\n",
    "as well as the results of hypothesis testing to determine if differences\n",
    "are significant.\n",
    "\n",
    "Note that looking at the table and reading the $p$-values we can see that at the Type I error rate of $\\alpha=0.05$  labs 4,5, and 6 are significantly different than lab 1 and that labs 4 and 3 are significantly different.\n",
    " \n",
    "\n",
    " "
   ]
  },
  {
   "cell_type": "markdown",
   "id": "b776fc81",
   "metadata": {},
   "source": [
    "## Randomised Block Designs: Two-Way Classification\n",
    "\n",
    "The single factor completely randomised designs previously described are\n",
    "extensions of two-sample $t$-tests using $F$-tests for inference and\n",
    "adjusting the Type I Error Rates to account for multiple comparisons.\n",
    "This model assumes that the only sources for observed variation in\n",
    "responses are either the treatment effects or random effects or\n",
    "experimental errors. Sometimes however it is obvious to the designer of\n",
    "an experiment that not all subjects are homogeneous, so the idea of\n",
    "allocating treatments completely at random might induce bias or\n",
    "otherwise invalidate our results. Often this heterogeneity is not able\n",
    "to be controlled by the experimenter, and is not of primary interest,\n",
    "but must be controlled. Controlling for this source of variation is done\n",
    "by using a **randomised block design**, which is a direct extension of\n",
    "the *matched pairs* or *paired difference* designs shown in Week 9.\n",
    "\n",
    "###  Blocking {#blocking .unnumbered}\n",
    "\n",
    "In a randomised experimental design, if there are $I$ treatments of\n",
    "interest, the experimenter chooses $J$ blocks ($J>I$) each with $I$\n",
    "subjects, one for each treatment. This scheme is to isolate the block to\n",
    "block variability that might obscure the treatment effects.\n",
    "\n",
    "A researcher wants to know the average yield for three different species\n",
    "of fruit trees, but there is variation in yield depending on the field\n",
    "that the trees are planted in. The researcher is not interested in the\n",
    "variation due to the fields, so the researcher picks five different\n",
    "fields and divides each into three plots, and plants each of the three\n",
    "species in one of the plots.\n",
    "\n",
    "In this example, two factors account for variation in the responses: the\n",
    "treatments and the blocks. Thus our model is now:\n",
    "$$y_{ij} = \\alpha_i+\\beta_j+\\epsilon_{ij}$$ where $\\alpha_i$ is the mean\n",
    "effect for treatment $i$ and $\\beta_j$ is the mean effect for block $j$.\n",
    "We use ANOVA to explore the variation of both of these factors and\n",
    "random experimental error.\n"
   ]
  },
  {
   "cell_type": "markdown",
   "id": "2cc1699a",
   "metadata": {},
   "source": [
    "###  The ANOVA Table for Randomised Block Designs {#the-anova-table-for-randomised-block-designs .unnumbered}\n",
    "\n",
    "To partition the variance let $y_{ij}$ be the response for treatment $i$\n",
    "in block $j$. Then the total variation for $n=IJ$ responses can be\n",
    "partitioned into three parts: $$SST = SSB+SSTR+SSE$$ where SSB is the\n",
    "sum of the squares of the blocks, which measures the variability between\n",
    "blocks. $$SSB = I\\sum_{j=1}^J(\\bar{y}_{j}-\\bar{y}_{..})^2$$ where\n",
    "$$\\bar{y}_j = \\frac{1}{I}\\sum_{i=1}^Iy_{ij}.$$ and\n",
    "$$SSE = \\sum_{i=1}^I\\sum_{j = 1}^J(y_{ij}-\\bar{y}_j-\\bar{y}_I-\\bar{y}_{..})^2.$$\n",
    "In this case the general form of the ANOVA table is\n",
    "\n",
    "  Source       Sum of Squares   degrees of freedom          MS             F\n",
    "  ----------- ---------------- -------------------- ------------------ ----------\n",
    "  Block             SSB                J-1              SSB/(J-1)       MSB/MSE\n",
    "  Treatment         SSTR              (I-1)             SSTR/(I-1)      MSTR/MSE\n",
    "  Error             SSE             (I-1)(J-1)       SSE/((I-1)(J-1))  \n",
    "  Total             SST                n-1                             \n",
    "\n",
    "Note that the $F$ statistics can be used as in the single-factor design\n",
    "to the test the hypotheses:\n",
    "$$\n",
    "H_0:\\mbox{All treatment means are the same.}\\: \\mbox{ vs }\\: H_A:\\mbox{At least one treatment mean is different.}\n",
    "$$\n",
    "or\n",
    "$$\n",
    "H_0:\\mbox{All block means are the same}\\:\\mbox{ vs }\\: H_A:\\mbox{At least one block mean is different}.\n",
    "$$\n",
    "Also, we can use Tukey's Honest Significant Differences (HSD) to rank\n",
    "and evaluate the differences between means for both treatments and\n",
    "blocks.\n",
    "\n",
    " \n",
    "\n",
    " "
   ]
  },
  {
   "cell_type": "code",
   "execution_count": null,
   "id": "1676f873",
   "metadata": {
    "tags": [
     "remove_input"
    ]
   },
   "outputs": [],
   "source": [
    "df <- tibble('Usage Level' = c(\"Low\", \"Medium\",\"High\"),A = c(27,68,308), B = c(24,76,326), C = c(31,65,312), D = c(23,67,300))\n",
    "\n",
    "df_l <- pivot_longer(df,cols = c(\"A\",\"B\",\"C\",\"D\"),names_to = \"Company\")\n",
    "model <- lm(value~.,data = df_l)\n",
    "\n"
   ]
  },
  {
   "cell_type": "markdown",
   "id": "7053af46",
   "metadata": {},
   "source": [
    "**Example:**\\\n",
    "\n",
    "A researcher is interested in the differences in price for different\n",
    "mobile phone providers. They want to compare prices from 4 different\n",
    "companies (A,B,C,D), but to account for differences between plans they\n",
    "create blocks based on different plan types: low, medium, and high\n",
    "usage. The resulting data are:"
   ]
  },
  {
   "cell_type": "code",
   "execution_count": null,
   "id": "cc78b986",
   "metadata": {
    "fig.align": "center",
    "lines_to_next_cell": 2,
    "tags": [
     "remove_input"
    ]
   },
   "outputs": [],
   "source": [
    "pander(df)"
   ]
  },
  {
   "cell_type": "markdown",
   "id": "3b00479b",
   "metadata": {},
   "source": [
    "<button class=\"solution\">\n",
    "Solution\n",
    "</button>\n",
    " {.solution-panel}\n",
    "<p style = \"font-size:5px\">\n",
    "<br>\n",
    "</p>\n",
    "\n",
    "The results for the ANOVA without blocking on the usage level are:"
   ]
  },
  {
   "cell_type": "code",
   "execution_count": null,
   "id": "1a4441d4",
   "metadata": {
    "tags": [
     "remove_input"
    ]
   },
   "outputs": [],
   "source": [
    "model_nb <- lm(value~Company,df_l)\n",
    "panderOptions('missing', \"\")\n",
    "panderOptions('round', 3)\n",
    "panderOptions('plain.ascii', 'TRUE')\n",
    "model_nb%>%aov()%>%pander()"
   ]
  },
  {
   "cell_type": "markdown",
   "id": "df4625e6",
   "metadata": {},
   "source": [
    "<br>\n",
    "The results for the ANOVA blocking by usage lebel are:"
   ]
  },
  {
   "cell_type": "code",
   "execution_count": null,
   "id": "b5cdb46c",
   "metadata": {
    "lines_to_next_cell": 0,
    "tags": [
     "remove_input"
    ]
   },
   "outputs": [],
   "source": [
    "panderOptions('missing', \"\")\n",
    "panderOptions('round', 3)\n",
    "panderOptions('plain.ascii', 'TRUE')\n",
    "model%>%aov()%>%pander()\n",
    "\n"
   ]
  },
  {
   "cell_type": "markdown",
   "id": "efdd97f4",
   "metadata": {},
   "source": [
    "Notice that when we block on the usage level, the $p$-value for `Company` decreases, though it is still _not_ statistically significant at the Type I error rate of $\\alpha = 0.05$, it is a substantial change. \n",
    "  <!-- Source          Df      Sum Sq    Mean Sq   F value   Pr($>$F) -->\n",
    "  <!-- ------------- ---- ----------- ---------- --------- ---------- -->\n",
    "  <!-- Usage Level      2   189335.17   94667.58   2351.99     0.0000 -->\n",
    "  <!-- Company          3      222.25      74.08      1.84     0.2404 -->\n",
    "  <!-- Residuals        6      241.50      40.25        -->\n",
    "  "
   ]
  },
  {
   "cell_type": "markdown",
   "id": "9d84866e",
   "metadata": {},
   "source": [
    "**Without Blocking**\\"
   ]
  },
  {
   "cell_type": "code",
   "execution_count": null,
   "id": "6e3c5c64",
   "metadata": {
    "lines_to_next_cell": 0,
    "message": false,
    "warning": false
   },
   "outputs": [],
   "source": [
    "df <- tibble(`Usage_Level` = c(\"Low\", \"Medium\",\"High\"),A = c(27,68,308), B = c(24,76,326), C = c(31,65,312), D = c(23,67,300))\n",
    "\n",
    "df_l <- pivot_longer(df,cols = c(\"A\",\"B\",\"C\",\"D\"),names_to = \"Company\")\n",
    "model <- lm(value~.,data = df_l)\n",
    "model_nb <- lm(value~Company, df_l)\n",
    "\n",
    "panderOptions('missing', \"\")\n",
    "panderOptions('round', 3)\n",
    "panderOptions('plain.ascii', 'TRUE')\n",
    "model_nb%>%aov()%>%pander()"
   ]
  },
  {
   "cell_type": "markdown",
   "id": "67397ea9",
   "metadata": {
    "lines_to_next_cell": 0
   },
   "source": [
    "<br>\n",
    "And the results for Tukey's HSD for Company without blocking by usage level are:"
   ]
  },
  {
   "cell_type": "code",
   "execution_count": null,
   "id": "5909d80c",
   "metadata": {
    "lines_to_next_cell": 0,
    "message": false,
    "warning": false
   },
   "outputs": [],
   "source": [
    "model_nb%>%aov()%>%TukeyHSD(which = \"Company\")%>%pander()\n"
   ]
  },
  {
   "cell_type": "markdown",
   "id": "8bfacbe8",
   "metadata": {
    "lines_to_next_cell": 0
   },
   "source": [
    "<br>\n",
    "\n",
    "**With Blocking**\\\n",
    "\n",
    "Now we add blocking on `Usage_Level`"
   ]
  },
  {
   "cell_type": "code",
   "execution_count": null,
   "id": "6b8b6c5d",
   "metadata": {
    "lines_to_next_cell": 0,
    "message": false,
    "warning": false
   },
   "outputs": [],
   "source": [
    "panderOptions('missing', \"\")\n",
    "panderOptions('round', 3)\n",
    "panderOptions('plain.ascii', 'TRUE')\n",
    "model%>%aov()%>%pander()"
   ]
  },
  {
   "cell_type": "markdown",
   "id": "fb628c06",
   "metadata": {
    "lines_to_next_cell": 0
   },
   "source": [
    "<br>\n",
    "And the results for Tukey's HSD for Company with blocking by usage level are:"
   ]
  },
  {
   "cell_type": "code",
   "execution_count": null,
   "id": "e02205cc",
   "metadata": {
    "lines_to_next_cell": 0,
    "message": false,
    "warning": false
   },
   "outputs": [],
   "source": [
    "model%>%aov()%>%TukeyHSD(which = \"Company\")%>%pander()\n"
   ]
  },
  {
   "cell_type": "markdown",
   "id": "34545962",
   "metadata": {
    "lines_to_next_cell": 0
   },
   "source": [
    "<br>\n",
    "And the results for Tukey's HSD for usage level with blocking by usage level are:"
   ]
  },
  {
   "cell_type": "code",
   "execution_count": null,
   "id": "145431e8",
   "metadata": {
    "lines_to_next_cell": 2,
    "message": false,
    "warning": false
   },
   "outputs": [],
   "source": [
    "model%>%aov()%>%TukeyHSD(which = \"Usage_Level\")%>%pander()"
   ]
  },
  {
   "cell_type": "markdown",
   "id": "2ac8b021",
   "metadata": {},
   "source": [
    "Note that there appear to be significant differences between costs for\n",
    "various usage levels, but not between companies. So while it is evident\n",
    "that there is a difference between the costs for usage levels (and this\n",
    "is not of interest), it appears that even when accounting for usage\n",
    "level, there are still no significant differences in costs between\n",
    "service providers.\n",
    " "
   ]
  },
  {
   "cell_type": "markdown",
   "id": "f87ee62f",
   "metadata": {},
   "source": [
    "## Two-Factor Experiments"
   ]
  },
  {
   "cell_type": "code",
   "execution_count": null,
   "id": "f712d226",
   "metadata": {
    "lines_to_next_cell": 2,
    "tags": [
     "remove_input"
    ]
   },
   "outputs": [],
   "source": [
    "df <- tibble(Supervisor = c(1,1,1,2,2,2)%>%as.factor(), \n",
    "             Day = c(571,610,625,480,516,465), \n",
    "             Swing = c(480,474,540,625,600,581),\n",
    "             Night = c(470,430,450,630,680,661))\n",
    "df_l <- pivot_longer(df,cols = c(Day,Swing,Night),names_to = \"Shift\")\n",
    "model <- lm(value~Supervisor+Shift+Supervisor:Shift,df_l)\n"
   ]
  },
  {
   "cell_type": "markdown",
   "id": "d479d08c",
   "metadata": {},
   "source": [
    "A randomised block design provides some structure as to allocating\n",
    "treatments to account for between block variation to control for\n",
    "extraneous sources of variation that are not of interests. But in many\n",
    "cases a researcher may want to explore the effects of two different\n",
    "factors (both of interest) as well as their interaction (definitely of\n",
    "interest). Experiments of this kind are called Two-Factorial\n",
    "Experiments.\n",
    "\n",
    "Medical researchers often want to test the effects of various drugs, but\n",
    "in many cases, patients may be taking more than one medication. In this\n",
    "case, researchers need to test the effects of multiple medications and\n",
    "their interactions on patient outcomes using the model\n",
    "$$\n",
    "y_{ijk} = \\alpha_i+\\beta_j+(\\alpha\\beta)_{ij}+\\epsilon_{ijk}\n",
    "$$ \n",
    "where\n",
    "$\\alpha_i$ is the mean effect for drug 1, $\\beta_j$ is the mean effect\n",
    "of drug 2, and $(\\alpha\\beta)_{ij}$ is the mean effect of the\n",
    "interaction between drug 1 and drug 2."
   ]
  },
  {
   "cell_type": "markdown",
   "id": "74ea8def",
   "metadata": {},
   "source": [
    "### ANOVA for Two-Factor Experiments {#anova-for-two-factor-experiments .unnumbered}\n",
    "\n",
    "In a two factor experiment, factor A may have $I$ levels, factor B may\n",
    "have $J$ levels and each of these replicated $K$ times, making $y_{ijk}$\n",
    "observation $k$ of the combination of treatments $i$ and $j$. We then\n",
    "can partition the total sum of squares into four parts\n",
    "$$\n",
    "SST  = SSA + SSB + SSAB + SSE\n",
    "$$ \n",
    "where:\n",
    "\n",
    "-   SSA measures the variation among the means of factor A.\n",
    "\n",
    "-   SSB measures the variation among the means of factor B.\n",
    "\n",
    "-   SSAB measures the variation among the different combinations of\n",
    "    levels for A and B.\n",
    "\n",
    "-   SSE measures the variation among the observations within each\n",
    "    combination of levels for A and B.\n",
    "\n",
    "Given that there are $I$ levels for factor A, $J$ levels for factor B,\n",
    "and $K$ replicates of each combination, the total number of observations\n",
    "is $n = IJK$.\n",
    "\n",
    "Setting aside the exact formulae for computing the sums of squares, the\n",
    "resulting ANOVA table for analysis is\n",
    "\n",
    "  Source    Degrees of Freedom   Sum of Squares     Mean Squares         F\n",
    "  -------- -------------------- ---------------- ------------------- ----------\n",
    "  A                I-1                SSA             SSA/(I-1)       MSA/MSE\n",
    "  B                J-1                SSB             SSB/(J-1)       MSB/MSE\n",
    "  AB            (I-1)(J-1)            SSAB        SSAB/((I-1)(J-1))   MSAB/MSE\n",
    "  Error          IJ(K-1)              SSE            SSE/IJ(K-1)     \n",
    "  Total           IJK-1               SST                            \n",
    "\n",
    "Much of the analyses and inference carries over from the previous\n",
    "examples but extended to the two-factor case. The hypotheses of interest\n",
    "then become.\n",
    "$$\n",
    "H_0: \\mbox{Factor A treatment means are equal}\\:\\mbox{ vs }\\: H_A: \\mbox{At least one treatment mean is different}\n",
    "$$\n",
    "$$\n",
    "H_0: \\mbox{Factor B treatment means are equal}\\:\\mbox{ vs }\\: H_A: \\mbox{At least one treatment mean is different}\n",
    "$$\n",
    "$$\n",
    "H_0: \\mbox{There is no interaction between A and B}\\quad\\mbox{vs}\\quad H_A: \\mbox{Factors A and B interact}\n",
    "$$"
   ]
  },
  {
   "cell_type": "markdown",
   "id": "8506ab57",
   "metadata": {},
   "source": [
    "We can test these hypotheses using a specified Type I Error Rate\n",
    "(typically $\\alpha = 0.05$) and identifying the appropriate rejection\n",
    "region for their $F$ statistics. Also, Tukey's HSD can be used to assess\n",
    "the individual treatment differences.\n"
   ]
  },
  {
   "cell_type": "markdown",
   "id": "5e659cb3",
   "metadata": {},
   "source": [
    "**Example:**\\"
   ]
  },
  {
   "cell_type": "markdown",
   "id": "23bd84f5",
   "metadata": {
    "lines_to_next_cell": 0
   },
   "source": [
    "The manager of a manufacturing plant knows that the output of a\n",
    "production line depends on two factors:\n",
    "\n",
    "-   Which of two supervisors is in charge of the line\n",
    "\n",
    "-   Which of three shifts (day, night, or swing) is working\n",
    "\n",
    "The following data are collected\n",
    "echo\n",
    "<div style=\"padding: 0 50px\">"
   ]
  },
  {
   "cell_type": "code",
   "execution_count": null,
   "id": "4e6e3c3c",
   "metadata": {
    "lines_to_next_cell": 0,
    "tags": [
     "remove_input"
    ]
   },
   "outputs": [],
   "source": [
    "pander(df)"
   ]
  },
  {
   "cell_type": "markdown",
   "id": "f8d3c60f",
   "metadata": {
    "lines_to_next_cell": 0
   },
   "source": [
    "</div>\n",
    "\n",
    "<button class = \"solution\">\n",
    "Solution\n",
    "</button>\n",
    " {.solution-panel}\n",
    "<p style=\"font-size:5px\">\n",
    "<br>\n",
    "</p>\n",
    "\n",
    "The results for the ANOVA analysis in tabular form are:"
   ]
  },
  {
   "cell_type": "code",
   "execution_count": null,
   "id": "6ce794fe",
   "metadata": {
    "message": false,
    "tags": [
     "remove_input"
    ],
    "warning": false
   },
   "outputs": [],
   "source": [
    "panderOptions('missing', \"\")\n",
    "panderOptions('round', 4)\n",
    "panderOptions('plain.ascii', 'TRUE')\n",
    "model%>%aov()%>%pander()"
   ]
  },
  {
   "cell_type": "markdown",
   "id": "475c6529",
   "metadata": {},
   "source": [
    "These results indicate that there doesn't appear to be a significant\n",
    "difference between shifts, but that there is a significant difference\n",
    "between supervisors. This can be explored by looking at the differences\n",
    "in the mean outcome for each supervisors for each shift using Tukey's\n",
    "HSD:"
   ]
  },
  {
   "cell_type": "code",
   "execution_count": null,
   "id": "a9e2863f",
   "metadata": {
    "tags": [
     "remove_input"
    ],
    "warning": false
   },
   "outputs": [],
   "source": [
    "tukey_model <- (model%>%aov()%>%TukeyHSD(which = 3,ordered = TRUE))$'Supervisor:Shift'\n",
    "#emphasize.strong.rows(which(tukey_model[,4]<0.05))\n",
    "emphasize.strong.rows(c(5,8,10))\n",
    "pander(tukey_model,plain.ascii = FALSE)\n"
   ]
  },
  {
   "cell_type": "markdown",
   "id": "6ededaff",
   "metadata": {},
   "source": [
    "These results indicate that there is a significant difference between\n",
    "supervisors for each shift, but that while supervisor 2 appears to\n",
    "perform better over all (and on the swing and night shifts), supervisor\n",
    "1 performs better on the day shift."
   ]
  },
  {
   "cell_type": "code",
   "execution_count": null,
   "id": "8d1eadeb",
   "metadata": {
    "message": false,
    "warning": false
   },
   "outputs": [],
   "source": [
    "df <- tibble(Supervisor = c(1,1,1,2,2,2)%>%as.factor(), \n",
    "             Day = c(571,610,625,480,516,465), \n",
    "             Swing = c(480,474,540,625,600,581),\n",
    "             Night = c(470,430,450,630,680,661))\n",
    "df_l <- pivot_longer(df,cols = c(Day,Swing,Night),names_to = \"Shift\")\n",
    "model <- lm(value~Supervisor+Shift+Supervisor:Shift,df_l)\n",
    "\n",
    "pander(df)\n"
   ]
  },
  {
   "cell_type": "code",
   "execution_count": null,
   "id": "d2059d32",
   "metadata": {
    "message": false,
    "warning": false
   },
   "outputs": [],
   "source": [
    "panderOptions('missing', \"\")\n",
    "panderOptions('round', 4)\n",
    "panderOptions('plain.ascii', 'TRUE')\n",
    "model%>%aov()%>%pander()"
   ]
  },
  {
   "cell_type": "code",
   "execution_count": null,
   "id": "65b10e75",
   "metadata": {
    "lines_to_next_cell": 0,
    "message": false,
    "warning": false
   },
   "outputs": [],
   "source": [
    "tukey_model <- (model%>%aov()%>%TukeyHSD(which = 3,ordered = TRUE))$'Supervisor:Shift'\n",
    "emphasize.strong.rows(c(5,8,10))\n",
    "pander(tukey_model,plain.ascii = FALSE)\n"
   ]
  },
  {
   "cell_type": "markdown",
   "id": "9ff9ff15",
   "metadata": {},
   "source": [
    " "
   ]
  },
  {
   "cell_type": "markdown",
   "id": "9f16dd96",
   "metadata": {},
   "source": [
    "## Worksheet Practical Question 1\n",
    "\n",
    "The variation of the strength of (coloring powder) of a dyestuff from one manufacturing batch to another was studied (Davies, 1960). Strength was measured by dyeing a square of cloth with a standard concentration of dyestuff and visually comparing the result with a standard. \n",
    "\n",
    "\\\n",
    "The result was numerically scored as the percentage strength of the dyestuff. Large samples were taken from six batches and from each batch six sub-samples were taken. The 36 subsamples were submitted to the laboratory in a random order for testing as described above. Analyse the data using a one-way ANOVA \n",
    "\n",
    "<!-- <center> -->\n",
    "<!-- ```{r,echo = FALSE, , message=FALSE, warning=FALSE} -->\n",
    "<!-- dye <- read_csv(\"https://www.dropbox.com/s/wpg5t081v5nym9z/dye.csv?dl=1\") -->\n",
    "<!-- dye%>% -->\n",
    "<!--   kable(align = \"c\",\"pipe\",digits = 2) -->\n",
    "<!-- ``` -->\n",
    "<!-- </center> -->\n"
   ]
  },
  {
   "cell_type": "code",
   "execution_count": null,
   "id": "b42bba28",
   "metadata": {
    "exercise": true,
    "lines_to_next_cell": 0,
    "message": false,
    "name": "pq1",
    "warning": false
   },
   "outputs": [],
   "source": [
    "##  Enter Data\n",
    "\n",
    "dye <- read_csv(\"https://www.dropbox.com/s/wpg5t081v5nym9z/dye.csv?dl=1\")\n",
    "dye <- pivot_longer(dye,cols = names(dye))\n",
    "names(dye) <- c(\"Batch\",\"Strength\")\n"
   ]
  },
  {
   "cell_type": "code",
   "execution_count": null,
   "id": "f55fc46d",
   "metadata": {
    "lines_to_next_cell": 0,
    "name": "pq1-hint-1"
   },
   "outputs": [],
   "source": [
    "model<-lm(Strength~Batch, data = dye)\n",
    "\n",
    "  anova(model)%>%\n",
    "  kable(digits = 3, \"html\",table.attr = \"style='width:80%;'\",align = \"c\")%>%\n",
    "  kable_styling(position = \"center\")\n"
   ]
  },
  {
   "cell_type": "code",
   "execution_count": null,
   "id": "fe74c161",
   "metadata": {
    "name": "pq1-hint-2"
   },
   "outputs": [],
   "source": [
    "model%>%\n",
    "  aov()%>%\n",
    "  TukeyHSD()%>%\n",
    "  extract2(1)%>%\n",
    "  kable(digits =  3,caption=\"Tukey Confidence Intervals for Difference in Treatment Means\",booktabs = TRUE,col.names = c(\"Difference of Means\",\"LCL\",\"UCL\",expression(p-value)),\"html\",table.attr = \"style='width:80%;'\",align = \"c\")%>%\n",
    "  kable_styling(position = \"center\")\n"
   ]
  },
  {
   "cell_type": "markdown",
   "id": "97dc6083",
   "metadata": {},
   "source": [
    "## Worksheet Practical Question 2\n",
    "\n",
    "The concentration (in nanograms per millilitre) of plasma epinephrinewere measured for ten dogs under isofluorane, halothane, cyclopropane anesthesia (Perry, et. al. 1974).\n",
    "\n",
    "<!-- ```{r, echo = FALSE, message=FALSE, warning=FALSE} -->\n",
    "<!-- dog<-read_csv(\"https://www.dropbox.com/s/fjp07jvd48si51z/dog.csv?dl=1\") -->\n",
    "\n",
    "<!-- dog%>% -->\n",
    "<!--   kable(col.names = c(\"Anethesia\", names(dog)[-1]), align = \"c\") -->\n",
    "\n",
    "<!-- ``` -->\n",
    "\n",
    "Analyse these data using an one-factor ANOVA on the anesthesia"
   ]
  },
  {
   "cell_type": "code",
   "execution_count": null,
   "id": "fd0b6db4",
   "metadata": {
    "exercise": true,
    "lines_to_next_cell": 2,
    "message": false,
    "name": "pq2",
    "warning": false
   },
   "outputs": [],
   "source": [
    "dog <- read_csv(\"https://www.dropbox.com/s/fjp07jvd48si51z/dog.csv?dl=1\")\n",
    "dog <- dog%>%\n",
    "        pivot_longer(cols = names(dog[-1]))\n",
    "names(dog) <- c(\"anesthesia\", \"dog\", \"epinephrine\")\n"
   ]
  },
  {
   "cell_type": "code",
   "execution_count": null,
   "id": "14abb8b1",
   "metadata": {
    "lines_to_next_cell": 0,
    "name": "pq2-hint-1"
   },
   "outputs": [],
   "source": [
    "model<-lm(epinephrine~anesthesia, data = dog)\n",
    "\n",
    "  anova(model)%>%\n",
    "  kable(digits = 3, \"html\",table.attr = \"style='width:80%;'\",align = \"c\")%>%\n",
    "  kable_styling(position = \"center\")\n"
   ]
  },
  {
   "cell_type": "markdown",
   "id": "c83151b0",
   "metadata": {
    "lines_to_next_cell": 0
   },
   "source": [
    "Now, perform the same ANOVA, but block on the variable \"dog\""
   ]
  },
  {
   "cell_type": "code",
   "execution_count": null,
   "id": "b3812f5a",
   "metadata": {
    "lines_to_next_cell": 0,
    "name": "pq2-hint-2"
   },
   "outputs": [],
   "source": [
    "model<-lm(epinephrine~anesthesia+dog, data = dog)\n",
    "\n",
    "  anova(model)%>%\n",
    "  kable(digits = 3, \"html\",table.attr = \"style='width:80%;'\",align = \"c\")%>%\n",
    "  kable_styling(position = \"center\")\n"
   ]
  },
  {
   "cell_type": "code",
   "execution_count": null,
   "id": "1fe80af8",
   "metadata": {
    "lines_to_next_cell": 0,
    "name": "pq2-hint-3"
   },
   "outputs": [],
   "source": [
    "model%>%\n",
    "  aov()%>%\n",
    "  TukeyHSD()%>%\n",
    "  extract2(1)%>%\n",
    "  kable(digits =  3,caption=\"Tukey Confidence Intervals for Difference in Treatment Means\",booktabs = TRUE,col.names = c(\"Difference of Means\",\"LCL\",\"UCL\",expression(p-value)),\"html\",table.attr = \"style='width:80%;'\",align = \"c\")%>%\n",
    "  kable_styling(position = \"center\")"
   ]
  },
  {
   "cell_type": "markdown",
   "id": "fa28f1be",
   "metadata": {},
   "source": [
    "Comments? Thought?\n",
    "\n",
    "## Worksheet Practical Question 3\n",
    "The following data describe the outcome of an experiment where the survival time of animals in hours is measured for anmials receiving one of three poisons and one of four treatments (Box and Cox 1964). \n",
    "\n",
    "Analyse these data using a one-factor ANOVA for Poison, a two-factor ANOVA for Poison and Treatment (without interaction) and a two-factor ANOVA with interaction between Treatment and Poison"
   ]
  },
  {
   "cell_type": "markdown",
   "id": "975215d7",
   "metadata": {},
   "source": [
    "<!-- ```{r, echo = FALSE, message=FALSE, warning=FALSE} -->\n",
    "<!-- poison <- read_csv(\"https://www.dropbox.com/s/5bk2sdrvddndl10/poison.csv?dl=1\") -->\n",
    "\n",
    "<!-- poison%>% -->\n",
    "<!--   kable() -->\n",
    "\n",
    "<!-- ``` -->\n"
   ]
  },
  {
   "cell_type": "code",
   "execution_count": null,
   "id": "8e90bc1f",
   "metadata": {
    "exercise": true,
    "lines_to_next_cell": 2,
    "message": false,
    "name": "pq3",
    "warning": false
   },
   "outputs": [],
   "source": [
    "poison <- read_csv(\"https://www.dropbox.com/s/5bk2sdrvddndl10/poison.csv?dl=1\")\n"
   ]
  },
  {
   "cell_type": "code",
   "execution_count": null,
   "id": "24375e5e",
   "metadata": {
    "name": "pq3-hint-1"
   },
   "outputs": [],
   "source": [
    "model <- lm(Survtime ~ Poison, poison)\n",
    "\n",
    "anova(model)%>%\n",
    "    kable(digits = 3, \"html\",table.attr = \"style='width:80%;'\",align = \"c\")%>%\n",
    "    kable_styling(position = \"center\")\n"
   ]
  },
  {
   "cell_type": "code",
   "execution_count": null,
   "id": "9f05c52a",
   "metadata": {
    "name": "pq3-hint-2"
   },
   "outputs": [],
   "source": [
    "model <- lm(Survtime ~ Poison + Treatment, poison)\n",
    "\n",
    "anova(model)%>%\n",
    "    kable(digits = 3, \"html\",table.attr = \"style='width:80%;'\",align = \"c\")%>%\n",
    "    kable_styling(position = \"center\")\n"
   ]
  },
  {
   "cell_type": "code",
   "execution_count": null,
   "id": "90a36d00",
   "metadata": {
    "lines_to_next_cell": 0,
    "name": "pq3-hint-3"
   },
   "outputs": [],
   "source": [
    "poison <- read_csv(\"https://www.dropbox.com/s/5bk2sdrvddndl10/poison.csv?dl=1\")\n",
    "\n",
    "model <- lm(Survtime ~ Poison + Treatment + Poison:Treatment , poison)\n",
    "\n",
    "anova(model)%>%\n",
    "    kable(digits = 3, \"html\",table.attr = \"style='width:80%;'\",align = \"c\")%>%\n",
    "    kable_styling(position = \"center\")\n"
   ]
  },
  {
   "cell_type": "code",
   "execution_count": null,
   "id": "4dc855e5",
   "metadata": {
    "lines_to_next_cell": 0,
    "name": "pq3-hint-4"
   },
   "outputs": [],
   "source": [
    "model%>%\n",
    "  aov()%>%\n",
    "  TukeyHSD()%>%\n",
    "  extract2(1)%>%\n",
    "  kable(digits =  3,caption=\"Tukey Confidence Intervals for Difference in Treatment Means\",booktabs = TRUE,col.names = c(\"Difference of Means\",\"LCL\",\"UCL\",expression(p-value)),\"html\",table.attr = \"style='width:80%;'\",align = \"c\")%>%\n",
    "  kable_styling(position = \"center\")"
   ]
  },
  {
   "cell_type": "code",
   "execution_count": null,
   "id": "c934553a",
   "metadata": {
    "name": "pq3-hint-5"
   },
   "outputs": [],
   "source": [
    "\n",
    "model%>%\n",
    "  aov()%>%\n",
    "  TukeyHSD()%>%\n",
    "  extract2(2)%>%\n",
    "  kable(digits =  3,caption=\"Tukey Confidence Intervals for Difference in Poison Means\",booktabs = TRUE,col.names = c(\"Difference of Means\",\"LCL\",\"UCL\",expression(p-value)),\"html\",table.attr = \"style='width:80%;'\",align = \"c\")%>%\n",
    "  kable_styling(position = \"center\")\n"
   ]
  },
  {
   "cell_type": "markdown",
   "id": "cb5ed2ad",
   "metadata": {},
   "source": [
    "##    Additional Questions for Practice\n",
    "\n",
    "1.    Experimenters infect a group of rates with worms.  Eight days later, the experimenters select five rats at random and treat them with carbon tetrachloride. Two days later researchers count the number of worms in each of the rats.  This experiemt is repeated four times.\n",
    "\n",
    "\\\n",
    "Is there reason to suspect that there is a significant difference between replications?"
   ]
  },
  {
   "cell_type": "code",
   "execution_count": null,
   "id": "d3d73c50",
   "metadata": {
    "lines_to_next_cell": 2,
    "message": false,
    "tags": [
     "remove_input"
    ],
    "warning": false
   },
   "outputs": [],
   "source": [
    "rats <- read_csv(\"https://www.dropbox.com/s/cigh9i484q51x6h/wormkiller.txt?dl=1\")\n",
    "\n",
    "kable(rats)\n",
    "\n",
    " ## HINT: \n"
   ]
  },
  {
   "cell_type": "code",
   "execution_count": null,
   "id": "847f7d55",
   "metadata": {
    "exercise": true,
    "lines_to_next_cell": 0,
    "message": false,
    "name": "aq1",
    "warning": false
   },
   "outputs": [],
   "source": [
    "rats <- read_csv(\"https://www.dropbox.com/s/cigh9i484q51x6h/wormkiller.txt?dl=1\")%>%\n",
    "  pivot_longer(cols = names(rats))\n",
    "\n"
   ]
  },
  {
   "cell_type": "code",
   "execution_count": null,
   "id": "d476f0ef",
   "metadata": {
    "lines_to_next_cell": 0,
    "name": "aq1-solution"
   },
   "outputs": [],
   "source": [
    "rats <- read_csv(\"https://www.dropbox.com/s/cigh9i484q51x6h/wormkiller.txt?dl=1\")\n",
    "  rats <- pivot_longer(rats,cols = names(rats))\n",
    "\n",
    "model <- lm(value~name, rats)\n",
    "\n",
    "model%>%\n",
    "  anova()%>%\n",
    "    kable(digits = 3, \"html\",table.attr = \"style='width:80%;'\",align = \"c\")%>%\n",
    "    kable_styling(position = \"center\")\n",
    "\n",
    "model%>%\n",
    "  aov()%>%\n",
    "  TukeyHSD()%>%\n",
    "  extract2(1)%>%\n",
    "  kable(digits =  3,caption=\"Tukey Confidence Intervals for Difference in Treatment Means\",booktabs = TRUE,col.names = c(\"Difference of Means\",\"LCL\",\"UCL\",expression(p-value)),\"html\",table.attr = \"style='width:80%;'\",align = \"c\")%>%\n",
    "  kable_styling(position = \"center\")\n"
   ]
  },
  {
   "cell_type": "markdown",
   "id": "8c1d62ba",
   "metadata": {},
   "source": [
    "2.    Researchers studying the effects of lutenizing hormone (LH) conducted an experiment where male rats were either kept under constant light, or were exposed to 14 hours of light followed by ten hours of darkness and given varying doses of lutenizing release hormone (LRH). The researchers recorded the rats' LH levels. \n",
    "\n",
    "\\\n",
    "Analyse the data to determine the effect of the light regime and LRH dosage on the production of LH in male rats. "
   ]
  },
  {
   "cell_type": "code",
   "execution_count": null,
   "id": "0aca2d16",
   "metadata": {
    "exercise": true,
    "lines_to_next_cell": 0,
    "message": false,
    "name": "aq2",
    "warning": false
   },
   "outputs": [],
   "source": [
    "rats<-read_csv(\"https://www.dropbox.com/s/65evgh4eztsitjq/lhmale.txt?dl=1\")\n",
    "\n"
   ]
  },
  {
   "cell_type": "code",
   "execution_count": null,
   "id": "cb75132c",
   "metadata": {
    "lines_to_next_cell": 0,
    "name": "aq2-solution"
   },
   "outputs": [],
   "source": [
    "rats<-read_csv(\"https://www.dropbox.com/s/65evgh4eztsitjq/lhmale.txt?dl=1\")\n",
    "colnames(rats) <- c(\"dose\",\"normal\",\"constant\")\n",
    "rats$dose<-as.factor(rats$dose)\n",
    "\n",
    "rats<-pivot_longer(rats,cols = c(normal,constant))\n",
    "colnames(rats) <- c(\"dose\",\"light\",\"response\")\n",
    "\n",
    "model <- lm(response~dose+light+dose:light, rats)\n",
    "\n",
    "model%>%\n",
    "  anova()%>%\n",
    "    kable(digits = 3, \"html\",table.attr = \"style='width:80%;'\",align = \"c\")%>%\n",
    "    kable_styling(position = \"center\")\n",
    "\n",
    "model%>%\n",
    "  aov()%>%\n",
    "  TukeyHSD()%>%\n",
    "  extract2(1)%>%\n",
    "  kable(digits =  3,caption=\"Tukey Confidence Intervals for Difference in Treatment Means\",booktabs = TRUE,col.names = c(\"Difference of Means\",\"LCL\",\"UCL\",expression(p-value)),\"html\",table.attr = \"style='width:80%;'\",align = \"c\")%>%\n",
    "  kable_styling(position = \"center\")\n",
    "\n",
    "model%>%\n",
    "  aov()%>%\n",
    "  TukeyHSD()%>%\n",
    "  extract2(2)%>%\n",
    "  kable(digits =  3,caption=\"Tukey Confidence Intervals for Difference in Treatment Means\",booktabs = TRUE,col.names = c(\"Difference of Means\",\"LCL\",\"UCL\",expression(p-value)),\"html\",table.attr = \"style='width:80%;'\",align = \"c\")%>%\n",
    "  kable_styling(position = \"center\")\n"
   ]
  },
  {
   "cell_type": "markdown",
   "id": "8d015581",
   "metadata": {},
   "source": [
    "\n"
   ]
  },
  {
   "cell_type": "code",
   "execution_count": null,
   "id": "6367ae79",
   "metadata": {
    "tags": [
     "remove_input"
    ]
   },
   "outputs": [],
   "source": [
    "htmltools::includeHTML(\"footer.html\")"
   ]
  }
 ],
 "metadata": {
  "jupytext": {
   "cell_metadata_filter": "fig.align,message,name,tags,exercise,warning,-all",
   "main_language": "R",
   "notebook_metadata_filter": "-all"
  },
  "kernelspec": {
   "display_name": "Python 3 (ipykernel)",
   "language": "python",
   "name": "python3"
  },
  "language_info": {
   "codemirror_mode": {
    "name": "ipython",
    "version": 3
   },
   "file_extension": ".py",
   "mimetype": "text/x-python",
   "name": "python",
   "nbconvert_exporter": "python",
   "pygments_lexer": "ipython3",
   "version": "3.9.13"
  }
 },
 "nbformat": 4,
 "nbformat_minor": 5
}
