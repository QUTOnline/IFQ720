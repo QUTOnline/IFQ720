{
 "cells": [
  {
   "cell_type": "markdown",
   "id": "485bf78d-50ea-412a-83c9-08332aaa0025",
   "metadata": {},
   "source": [
    "---\n",
    "title: \"IFQ720 Worksheet 05 - Analysis of Variance\"\n",
    "output:\n",
    "  html_document\n",
    "---"
   ]
  },
  {
   "cell_type": "code",
   "execution_count": null,
   "id": "8a4cd216",
   "metadata": {
    "name": "ws-setup",
    "tags": [
     "remove_cell"
    ]
   },
   "outputs": [],
   "source": [
    "\n"
   ]
  },
  {
   "cell_type": "code",
   "execution_count": null,
   "id": "35f8647a",
   "metadata": {
    "tags": [
     "remove_cell"
    ]
   },
   "outputs": [],
   "source": [
    "import pandas\n",
    "import plotnine\n",
    "import numpy\n",
    "import scipy\n",
    "import math\n",
    "import statsmodels\n",
    "from plotnine import *\n"
   ]
  },
  {
   "cell_type": "markdown",
   "id": "170dd0bb",
   "metadata": {},
   "source": [
    "# The Analysis of Variance\n",
    "\n",
    "When considering hypothesis testing we looked at one-sample and two-sample cases, but is many instances,especially in experimental settings (e.g. lab experiments or clinical trials) we want to compare the effects of various _factors_ that have more than one or two possible _levels_.  In this case we need a more generalised approach to analysing results and testing hypotheses.\n",
    "The statistical technique used to analyse these data and test\n",
    "for the statistical significance of effects is called the analysis of\n",
    "variance (ANOVA).\n",
    "\n",
    "## Designing Experiments \n",
    "\n",
    "An experiment is a trial that attempts to isolate the effects of factors\n",
    "of interest on specific outcomes while eliminating as much as possible\n",
    "extraneous effects on outcomes. Experiments are typically designed to\n",
    "focus on a few factors and include some degree of repetition and\n",
    "randomisation to make statistical inferences.\n"
   ]
  },
  {
   "cell_type": "markdown",
   "id": "8c018c1d",
   "metadata": {},
   "source": [
    "An **experimental unit** is the object whose outcome or response is\n",
    "measured and is of interest in the process of the experiment. The\n",
    "outcome or response measured is called the dependent variable.\n",
    "\n",
    "A **factor** is an independent variable controlled and varied by the\n",
    "experimenter. Factors are measured and varied in terms of levels or\n",
    "discrete states rather than as continuous or discrete numerical\n",
    "measures.\n",
    "\n",
    "A **treatment** is a specific combination of factor levels.\n",
    "\n",
    "A **response** is the variable measured by the experimenter, typically a\n",
    "continuous numeric response.\n"
   ]
  },
  {
   "cell_type": "markdown",
   "id": "9e4428a1",
   "metadata": {},
   "source": [
    "###  Analysis of Variance (ANOVA) Explained {#analysis-of-variance-anova-explained .unnumbered}\n",
    "\n",
    "We can explain the concept of Analysis of Variance (ANOVA) as a generalisation of a two-sample $t$-test.  Historically, ANOVA predates the maximum likelihood principle, and the Neyman-Pearson paradigm for hypothesis testing, and can be derived separately, but it is useful to think of it in terms of hypothesis testing for the purposes of inferencs.  "
   ]
  },
  {
   "cell_type": "markdown",
   "id": "4c82f970",
   "metadata": {},
   "source": [
    "**Paint Coverage: Deriving the Sum of Squares for ANOVA**\\\n",
    "\n",
    "House paint is sold in containers labelling the coverage and drying time\n",
    "for a single coat of paint. If manufacturers' packaging claims that a\n",
    "four-litre can of their paint will cover the same area, how can we test if all three brands have the same coverage?  \n",
    "\n",
    "**Solution:**\n",
    "\n",
    "We can think of this experiment\n",
    "as an example of a simple experiment testing a single factor (brand of\n",
    "paint) with multiple levels (brands of paint). \n",
    "If we are testing a single factor with two levels (Brand A versus Brand B), measuring the response\n",
    "(coverage in $m^2$), results are analysed using a two-sample\n",
    "$t$-test. Assuming that $n_1=n_2=n$, we could write this out as a model\n",
    "for our responses as\n",
    "$$y_{ij} = \\mu_i+\\epsilon_{ij}, i = A,B\\mbox{ and } j = 1,\\ldots,n$$\n",
    "where $\\mu_i$ is the mean for Brand A or Brand B, and $j$ is sample $j$\n",
    "of the sample for Brand A or Brand B.\n",
    "\n",
    "<br>\n",
    "Now suppose that we wanted to investigate three brands of paint? (Brand\n",
    "A, Brand B, and Brand C). The two-sample $t$-test is no longer a valid\n",
    "approach to analysing the data. Instead, can extend this statistical\n",
    "model for the experiment to analyse the data (assuming that each sample\n",
    "is of equal size, i.e. $n_1+n_2+n_3=n$\n",
    "$$y_{ij} = \\mu_i+\\epsilon_{ij}, i = A, B, C \\mbox{ and } j = 1,\\ldots,n$$\n",
    "\n",
    "Let's assume that the outcome of the experiment for replication $j$ of\n",
    "treatment $i$ that is the result for is $y_{ij}$, then the total outcome\n",
    "of the experiment is $$\\mathbf{y} = (y_{11},y_{12},\\ldots,y_{IJ})$$ where\n",
    "there are $I$ different treatments each replicated $J$ times, and\n",
    "$n = IJ$. We can describe the total variation in experimental outcomes\n",
    "as the **total sum of squares** (**SST**) is defined as\n",
    "$$SST = \\sum_{i=1}^I\\sum_{j=1}^J(y_{ij}-\\bar{y}_{..})^2.$$ where\n",
    "$$\\bar{y}_{..}=\\frac{1}{IJ}\\sum_{i=1}^I\\sum_{j=1}^Jy_{ij}$$ is the grand\n",
    "mean, the overall average response over all treatments and repetitions.\n",
    "The total sum of squares can be decomposed into two parts. First the sum\n",
    "of the squares of the error **SSE** is the pooled variation *within*\n",
    "treatment group $i$ $$\\begin{aligned}\n",
    "SSE &= (n_1-1)s_1^2+\\cdots+(n_I-1)s_I^2\\\\\n",
    "&=\\sum_{i=1}^I \\sum_{j=1}^J (y_{ij}-\\bar{y}_i)^2\\end{aligned}$$ where\n",
    "$$\\bar{y}_{i}=\\frac{1}{J}\\sum_{j=1}^Jy_{ij}$$ or the mean for treatment\n",
    "$i$. Second, the sum of the squares of the treatments **SSTR** is\n",
    "$$SSTR = \\sum_{i=1}^IJ(\\bar{y}_{i}-\\bar{y}_{..})^2$$ resulting in\n",
    "$$SST = SSTR + SSE$$\n",
    "\n",
    "We can show that we can decompose the total sum of squares into the sum of the\n",
    "squares of the treatments and the sum of the squares of the error.\n",
    "\n",
    "Each source of variation is computed as a sum of squares, and can be\n",
    "divided by their degrees of freedom, as an estimate of their\n",
    "contribution to the total variance. These results are presented in an\n",
    "ANOVA table.\n",
    "\n",
    "  Source       degrees of freedom   Sum of Squares     Mean Squares        $F$\n",
    "  ----------- -------------------- ---------------- ------------------- ----------\n",
    "  Treatment           I-1                SSTR        MSTR = SSTR/(I-1)   MSTR/MSE\n",
    "  Error               n-I                SSE          MSE = SSE/(n-I)   \n",
    "  Total               n-1                SST                            \n",
    "\n",
    "Note that $n = IJ$ and the mean squares are just the sum of squares\n",
    "divided by their degrees of freedom. The statistic $F$ is the ratio of\n",
    "the MSTR and the MSE; or the ratio of the between treatment variation\n",
    "and the within treatment variation.\n",
    " "
   ]
  },
  {
   "cell_type": "markdown",
   "id": "71ec9f6c",
   "metadata": {},
   "source": [
    "## ANOVA Inference\n",
    "\n",
    "We assume that the observations $y_{ij}$ are distributed following a Gaussian distribution with a common variance $\\sigma^2$, but not necessarily the\n",
    "same mean.  Under these assumeotions, the statistic $F$, the ratio of the mean squares of ther treatment and the mean square of the error will follow an $F$-distribution. \n",
    "\n",
    "The $F$ distribution is\n",
    "a continuous probability distribution that describes the sampling\n",
    "distribution of the ratio of two sample variances. The $F$ distribution has\n",
    "two parameters, which are the degrees of freedom of the numerator and\n",
    "the degrees of freedom of the denominator. \n",
    "$$\n",
    "\\frac{s_1^2}{s^2_2}\\sim F_{\\nu_1,\\nu_2}\n",
    "$$\n",
    "where if\n",
    "$$\n",
    "s_1^2=\\frac{1}{n_1-1}\\sum_{i=1}^{n_1}(x_i-\\bar{x})^2\\quad\\mbox{and}\n",
    "\\quad s^2_2=\\frac{1}{n_2-1}\\sum_{j=1}^{n_2}(y_j-\\bar{y})^2\n",
    "$$\n",
    "then \n",
    "$$\n",
    "\\nu_1 = n_1-1\\quad \\mbox{and}\\quad \\nu_2=n_2-1.\n",
    "$$\n",
    "\n",
    "We can think about this in\n",
    "terms of a hypothesis test; if you wanted to test whether or not one of\n",
    "your treatments produced a different outcome than the others, then you\n",
    "would use the hypotheses\n",
    "$$\n",
    "H_0: \\mu_1=\\mu_2=\\cdots=\\mu_I\\qquad\\mbox{and}\\qquad H_A: \\mbox{ at least one treatment mean is different}.\n",
    "$$\n",
    "Under these hypotheses, the null assumption means that\n",
    "$$\n",
    "SSTR\\approx SSE\n",
    "$$\n",
    "i.e. that the variance between treatments was\n",
    "approximately equal to the variance within treatments, or that all\n",
    "treatment means are the same. So, in this case, you would reject the\n",
    "null hypothesis if MSTR was larger than MSE, or that basically, the\n",
    "treatment accounted for more of the total variance than the error. This\n",
    "decision translates to rejecting for large values of $F$, so we can\n",
    "state that our rejection rule would be: $$F>F_{\\mbox{critical}}$$ and\n",
    "just as in previous cases we can choose our critical value based on a\n",
    "Type I Error rate so that\n",
    "$$\n",
    "F_{\\mbox{critical}} = F_{\\nu_1,\\nu_2,\\alpha}\n",
    "$$\n",
    "where\n",
    "$$\n",
    "Pr(F<F_{\\mbox{critical}})= 1-\\alpha.\n",
    "$$ \n",
    "Finding the critical value for\n",
    "$F$ can be easily done using `R` or other statistical software. In\n",
    "practice, most statistical software will produce an ANOVA table with $F$\n",
    "statistics computed and some indication of the results of testing."
   ]
  },
  {
   "cell_type": "markdown",
   "id": "b15586db",
   "metadata": {},
   "source": [
    "**Example:**\n",
    "\n",
    "A study in Kirchhoefer (1979) reviewed the results of an experiment\n",
    "evaluating a semi-automated method for measuring chlorpheniramine\n",
    "maleate in tablets. The experimenter allocated ten samples to each of\n",
    "seven labs, and the results were analysed to determine if there were\n",
    "differences between the labs. The results in tabular form are:"
   ]
  },
  {
   "cell_type": "code",
   "execution_count": null,
   "id": "05c5d756",
   "metadata": {
    "lines_to_next_cell": 2,
    "tags": [
     "remove_input"
    ]
   },
   "outputs": [],
   "source": [
    "y = numpy.array([4.13,4.07,4.04,4.07,4.05,4.04,4.02,4.06,4.10,4.04,\n",
    "3.86,3.85,4.08,4.11,4.08,4.01,4.02,4.04,3.97,3.95,\n",
    "4.00,4.02,4.01,4.01,4.04,3.99,4.03,3.97,3.98,3.98,\n",
    "3.88,3.88,3.91,3.95,3.92,3.97,3.92,3.90,3.97,3.90,\n",
    "4.02,3.95,4.02,3.89,3.91,4.01,3.89,3.89,3.99,4.00,\n",
    "4.02,3.86,3.96,3.97,4.00,3.82,3.98,3.99,4.02,3.93,\n",
    "4.00,4.02,4.03,4.04,4.10,3.81,3.91,3.96,4.05,4.06])\n",
    "\n",
    "labs = numpy.concatenate(([\"Lab 1\"]*10,[\"Lab 2\"]*10,[\"Lab 3\"]*10, [\"Lab 4\"]*10,[\"Lab 5\"]*10, [\"Lab 6\"]*10,[\"Lab 7\"]*10))\n",
    "\n",
    "df = pandas.DataFrame({\"y\":y,\"lab\":labs})\n",
    "\n",
    "print(df) \n",
    "\n"
   ]
  },
  {
   "cell_type": "markdown",
   "id": "e8024920",
   "metadata": {},
   "source": [
    "**Solution:**\n",
    "\n",
    "If we want to test the hypotheses\n",
    "$$\n",
    "H_0: \\mbox{There is no difference between labs}\\quad\\mbox{and}\\quad H_A: \\mbox{At least one lab is different}\n",
    "$$\n",
    "Then we can use the $F$ statistic and perform a $F$-test. The degrees of\n",
    "freedom for the numerator and denominator can be taken from the table as\n",
    "6 and 63 respectively use `R` to determine that \n",
    "$$\n",
    "F_{\\mbox{critical}}=`r qf(0.95,6,63)%>%round(2)`\n",
    "$$ \n",
    "for $\\alpha = 0.05$. "
   ]
  },
  {
   "cell_type": "code",
   "execution_count": null,
   "id": "d2133e00",
   "metadata": {
    "lines_to_next_cell": 0,
    "name": "ex1"
   },
   "outputs": [],
   "source": [
    "y = numpy.array([4.13,4.07,4.04,4.07,4.05,4.04,4.02,4.06,4.10,4.04,\n",
    "3.86,3.85,4.08,4.11,4.08,4.01,4.02,4.04,3.97,3.95,\n",
    "4.00,4.02,4.01,4.01,4.04,3.99,4.03,3.97,3.98,3.98,\n",
    "3.88,3.88,3.91,3.95,3.92,3.97,3.92,3.90,3.97,3.90,\n",
    "4.02,3.95,4.02,3.89,3.91,4.01,3.89,3.89,3.99,4.00,\n",
    "4.02,3.86,3.96,3.97,4.00,3.82,3.98,3.99,4.02,3.93,\n",
    "4.00,4.02,4.03,4.04,4.10,3.81,3.91,3.96,4.05,4.06])\n",
    "\n",
    "labs = numpy.concatenate(([\"Lab 1\"]*10,[\"Lab 2\"]*10,[\"Lab 3\"]*10, [\"Lab 4\"]*10,[\"Lab 5\"]*10, [\"Lab 6\"]*10,[\"Lab 7\"]*10))\n",
    "\n",
    "df = pandas.DataFrame({\"y\":y,\"lab\":labs})\n",
    "\n",
    "model = statsmodels.api.formula.ols(\"y~labs\",df).fit()\n",
    "\n",
    "aov_model = statsmodels.stats.anova.anova_lm(model)\n",
    "\n",
    "print(aov_model)\n"
   ]
  },
  {
   "cell_type": "code",
   "execution_count": null,
   "id": "7a914929",
   "metadata": {},
   "outputs": [],
   "source": [
    "\n",
    "print(\"Mean Squares Error = \",aov_model.mean_sq[1])\n",
    "print(\"Mean Squares Treatment = \",aov_model.mean_sq[0])\n",
    "print(\"F Statstic = \",aov_model.F[0])\n"
   ]
  },
  {
   "cell_type": "markdown",
   "id": "fcbe1929",
   "metadata": {},
   "source": [
    "\\\n",
    "<br>\n",
    "We can see from the results that the _MSE_=0.003 and _MSTR_=0.021 resulting in _F_=5.66, since the critical value of _F_ is 2.25, we can reject the null hypothesis and assume that the measuring process in at least one lab is different than the others.\n",
    "\n",
    "This example describes a single factor experiment\n",
    "where treatments are assigned to individuals completely at random or a\n",
    "fully randomised trial. The results from rejecting the null hypothesis\n",
    "tell us that at least one of the treatments results in different\n",
    "outcomes compared to the rest, but beyond that, it doesn't tell us much,\n",
    "in fact, we need some more sophisticated tools.\n",
    "\n"
   ]
  },
  {
   "cell_type": "markdown",
   "id": "3cb426bb",
   "metadata": {},
   "source": [
    "### The Problem of Multiple Comparisons  {#the-problem-of-multiple-comparisons .unnumbered}\n",
    "\n",
    "THe $F$-test for ANOVA is robust, and relatively straightforward; it is based on comparing the variance _within_ groups (or treatments) and the variance _between_ groups (or treatments).  If we see that the variance between groups is much greater than the variance within groups we reject $H_0$ the null hypothesis that all groups or treatments have the same effect.  Rejecting the null hypothesis however simply tells us that _at least one_ of the treatments is different; not which one. \n",
    "\n",
    "Instinctively we might suggest that a way of testing to see which\n",
    "treatment is different would be to perform multiple two-sample $t$-test\n",
    "like we learned previously."
   ]
  },
  {
   "cell_type": "markdown",
   "id": "3f2b6efb",
   "metadata": {},
   "source": [
    "In the example from Kirchhoefer (1979) there are seven labs, and to test all the possible\n",
    "pairwise comparisons we would have to perform $${7\\choose 2} = 21$$\n",
    "two-sample $t$-tests. Each of these tests has a Type I Error Rate of\n",
    "$\\alpha$, thus in performing 21 tests the actual Type I Error Rate is\n",
    "the probability that you make at least one Type I error or\n",
    "$$1-Pr(\\mbox{you make no Type I errors}=1-(1-\\alpha)^{21}.$$ We can\n",
    "calculate this for $\\alpha = 0.05$ as $$1-(1-0.05)^{21}=0.659$$ This\n",
    "result means that our testing procedure is far less reliable than we\n",
    "thought, and our inferences could be very wrong, meaning that we have a\n",
    "very high probability of making a mistake in deciding that two treatment\n",
    "means differ.\n",
    "\n",
    "There are a variety of methods for addressing this, and it is recommended that in practice you seek out additional advice and information for identifying specific significant differences in multiple comparison situtations. \n"
   ]
  },
  {
   "cell_type": "markdown",
   "id": "d930d963",
   "metadata": {},
   "source": [
    "## Randomised Block Designs: Two-Way Classification\n",
    "\n",
    "The single factor completely randomised designs previously described are\n",
    "extensions of two-sample $t$-tests using $F$-tests for inference and\n",
    "adjusting the Type I Error Rates to account for multiple comparisons.\n",
    "This model assumes that the only sources for observed variation in\n",
    "responses are either the treatment effects or random effects or\n",
    "experimental errors. Sometimes however it is obvious to the designer of\n",
    "an experiment that not all subjects are homogeneous, so the idea of\n",
    "allocating treatments completely at random might induce bias or\n",
    "otherwise invalidate our results. Often this heterogeneity is not able\n",
    "to be controlled by the experimenter, and is not of primary interest,\n",
    "but must be controlled. Controlling for this source of variation is done\n",
    "by using a **randomised block design**, which is a direct extension of\n",
    "the *matched pairs* or *paired difference* designs shown in Week 9.\n",
    "\n",
    "###  Blocking {#blocking .unnumbered}\n",
    "\n",
    "In a randomised experimental design, if there are $I$ treatments of\n",
    "interest, the experimenter chooses $J$ blocks ($J>I$) each with $I$\n",
    "subjects, one for each treatment. This scheme is to isolate the block to\n",
    "block variability that might obscure the treatment effects.\n",
    "\n",
    "A researcher wants to know the average yield for three different species\n",
    "of fruit trees, but there is variation in yield depending on the field\n",
    "that the trees are planted in. The researcher is not interested in the\n",
    "variation due to the fields, so the researcher picks five different\n",
    "fields and divides each into three plots, and plants each of the three\n",
    "species in one of the plots.\n",
    "\n",
    "In this example, two factors account for variation in the responses: the\n",
    "treatments and the blocks. Thus our model is now:\n",
    "$$y_{ij} = \\alpha_i+\\beta_j+\\epsilon_{ij}$$ where $\\alpha_i$ is the mean\n",
    "effect for treatment $i$ and $\\beta_j$ is the mean effect for block $j$.\n",
    "We use ANOVA to explore the variation of both of these factors and\n",
    "random experimental error.\n"
   ]
  },
  {
   "cell_type": "markdown",
   "id": "df29672e",
   "metadata": {},
   "source": [
    "###  The ANOVA Table for Randomised Block Designs {#the-anova-table-for-randomised-block-designs .unnumbered}\n",
    "\n",
    "To partition the variance let $y_{ij}$ be the response for treatment $i$\n",
    "in block $j$. Then the total variation for $n=IJ$ responses can be\n",
    "partitioned into three parts: $$SST = SSB+SSTR+SSE$$ where SSB is the\n",
    "sum of the squares of the blocks, which measures the variability between\n",
    "blocks. $$SSB = I\\sum_{j=1}^J(\\bar{y}_{j}-\\bar{y}_{..})^2$$ where\n",
    "$$\\bar{y}_j = \\frac{1}{I}\\sum_{i=1}^Iy_{ij}.$$ and\n",
    "$$SSE = \\sum_{i=1}^I\\sum_{j = 1}^J(y_{ij}-\\bar{y}_j-\\bar{y}_I-\\bar{y}_{..})^2.$$\n",
    "In this case the general form of the ANOVA table is\n",
    "\n",
    "  Source       Sum of Squares   degrees of freedom          MS             F\n",
    "  ----------- ---------------- -------------------- ------------------ ----------\n",
    "  Block             SSB                J-1              SSB/(J-1)       MSB/MSE\n",
    "  Treatment         SSTR              (I-1)             SSTR/(I-1)      MSTR/MSE\n",
    "  Error             SSE             (I-1)(J-1)       SSE/((I-1)(J-1))  \n",
    "  Total             SST                n-1                             \n",
    "\n",
    "Note that the $F$ statistics can be used as in the single-factor design\n",
    "to the test the hypotheses:\n",
    "$$\n",
    "H_0:\\mbox{All treatment means are the same.}\\: \\mbox{ vs }\\: H_A:\\mbox{At least one treatment mean is different.}\n",
    "$$\n",
    "or\n",
    "$$\n",
    "H_0:\\mbox{All block means are the same}\\:\\mbox{ vs }\\: H_A:\\mbox{At least one block mean is different}.\n",
    "$$\n",
    "Also, we can use Tukey's Honest Significant Differences (HSD) to rank\n",
    "and evaluate the differences between means for both treatments and\n",
    "blocks.\n",
    "\n",
    " \n",
    "\n",
    " "
   ]
  },
  {
   "cell_type": "code",
   "execution_count": null,
   "id": "c8719078-8ce6-49cd-a44b-aada6ff88364",
   "metadata": {
    "tags": [
     "remove_input"
    ]
   },
   "outputs": [],
   "source": [
    "y = numpy.array([27,68,308,24,76,326,31,65,312,23,67,300])\n",
    "company = numpy.repeat((\"A\",\"B\",\"C\",\"D\"),3)\n",
    "u = (\"low\", \"med\", \"high\")\n",
    "usage = numpy.concatenate((u,u,u,u))\n",
    "\n",
    "df = pandas.DataFrame({\"y\":y,\"company\":company, \"usage\":usage})\n",
    "\n",
    "model_1 = statsmodels.api.formula.ols(\"y~company\",df).fit()\n",
    "res_1 = statsmodels.stats.anova.anova_lm(model_1)\n",
    "\n",
    "model_2 = statsmodels.api.formula.ols(\"y~company+usage\",df).fit()\n",
    "res_2 = statsmodels.stats.anova.anova_lm(model_2)"
   ]
  },
  {
   "cell_type": "markdown",
   "id": "c877e9e3",
   "metadata": {},
   "source": [
    "**Example:**\\\n",
    "\n",
    "A researcher is interested in the differences in price for different\n",
    "mobile phone providers. They want to compare prices from 4 different\n",
    "companies (A,B,C,D), but to account for differences between plans they\n",
    "create blocks based on different plan types: low, medium, and high\n",
    "usage. The resulting data are:"
   ]
  },
  {
   "cell_type": "code",
   "execution_count": null,
   "id": "05bf21fe",
   "metadata": {},
   "outputs": [],
   "source": [
    "df"
   ]
  },
  {
   "cell_type": "markdown",
   "id": "110d0281",
   "metadata": {},
   "source": [
    "**Solution:**\n",
    "\n",
    "The results for the ANOVA without blocking on the usage level are:"
   ]
  },
  {
   "cell_type": "code",
   "execution_count": null,
   "id": "a29c68c9",
   "metadata": {
    "tags": [
     "remove_input"
    ]
   },
   "outputs": [],
   "source": [
    "print(res_1)"
   ]
  },
  {
   "cell_type": "markdown",
   "id": "3718344c",
   "metadata": {},
   "source": [
    "<br>\n",
    "The results for the ANOVA blocking by usage level are:"
   ]
  },
  {
   "cell_type": "code",
   "execution_count": null,
   "id": "3def5774",
   "metadata": {
    "lines_to_next_cell": 0,
    "tags": [
     "remove_input"
    ]
   },
   "outputs": [],
   "source": [
    "print(res_2)"
   ]
  },
  {
   "cell_type": "markdown",
   "id": "b9048b09",
   "metadata": {},
   "source": [
    "Notice that when we block on the usage level, the $p$-value for `Company` decreases, though it is still _not_ statistically significant at the Type I error rate of $\\alpha = 0.05$, it is a substantial change. \n",
    "\n",
    "Note that there appear to be significant differences between costs for\n",
    "various usage levels, but not between companies. So while it is evident\n",
    "that there is a difference between the costs for usage levels (and this\n",
    "is not of interest), it appears that even when accounting for usage\n",
    "level, there are still no significant differences in costs between\n",
    "service providers.\n",
    " "
   ]
  },
  {
   "cell_type": "markdown",
   "id": "83ac5d19",
   "metadata": {},
   "source": [
    "## Two-Factor Experiments"
   ]
  },
  {
   "cell_type": "code",
   "execution_count": null,
   "id": "f6ab70ec",
   "metadata": {
    "lines_to_next_cell": 2
   },
   "outputs": [],
   "source": [
    "\n",
    "y = numpy.array([571,610,625,480,516,465,480,474,540,625,600,581,470,430,450,630,680,661])\n",
    "\n",
    "Shift = numpy.repeat((\"Day\",\"Swing\",\"Night\"),6)\n",
    "s = numpy.repeat((\"1\",\"2\"),3)\n",
    "Supervisor = numpy.concatenate((s,s,s))\n",
    "\n",
    "df = pandas.DataFrame({\"y\":y,\"Supervisor\":Supervisor, \"Shift\":Shift})\n",
    "\n",
    "model_3 = statsmodels.api.formula.ols(\"y~Supervisor+Shift+Supervisor*Shift\",df).fit()\n",
    "\n",
    "res_3 = statsmodels.stats.anova.anova_lm(model_3)\n",
    "print(res_3)\n"
   ]
  },
  {
   "cell_type": "markdown",
   "id": "d89a1606",
   "metadata": {},
   "source": [
    "A randomised block design provides some structure as to allocating\n",
    "treatments to account for between block variation to control for\n",
    "extraneous sources of variation that are not of interests. But in many\n",
    "cases a researcher may want to explore the effects of two different\n",
    "factors (both of interest) as well as their interaction (definitely of\n",
    "interest). Experiments of this kind are called Two-Factorial\n",
    "Experiments.\n",
    "\n",
    "Medical researchers often want to test the effects of various drugs, but\n",
    "in many cases, patients may be taking more than one medication. In this\n",
    "case, researchers need to test the effects of multiple medications and\n",
    "their interactions on patient outcomes using the model\n",
    "$$\n",
    "y_{ijk} = \\alpha_i+\\beta_j+(\\alpha\\beta)_{ij}+\\epsilon_{ijk}\n",
    "$$ \n",
    "where\n",
    "$\\alpha_i$ is the mean effect for drug 1, $\\beta_j$ is the mean effect\n",
    "of drug 2, and $(\\alpha\\beta)_{ij}$ is the mean effect of the\n",
    "interaction between drug 1 and drug 2."
   ]
  },
  {
   "cell_type": "markdown",
   "id": "aefe09b0",
   "metadata": {},
   "source": [
    "### ANOVA for Two-Factor Experiments {#anova-for-two-factor-experiments .unnumbered}\n",
    "\n",
    "In a two factor experiment, factor A may have $I$ levels, factor B may\n",
    "have $J$ levels and each of these replicated $K$ times, making $y_{ijk}$\n",
    "observation $k$ of the combination of treatments $i$ and $j$. We then\n",
    "can partition the total sum of squares into four parts\n",
    "$$\n",
    "SST  = SSA + SSB + SSAB + SSE\n",
    "$$ \n",
    "where:\n",
    "\n",
    "-   SSA measures the variation among the means of factor A.\n",
    "\n",
    "-   SSB measures the variation among the means of factor B.\n",
    "\n",
    "-   SSAB measures the variation among the different combinations of\n",
    "    levels for A and B.\n",
    "\n",
    "-   SSE measures the variation among the observations within each\n",
    "    combination of levels for A and B.\n",
    "\n",
    "Given that there are $I$ levels for factor A, $J$ levels for factor B,\n",
    "and $K$ replicates of each combination, the total number of observations\n",
    "is $n = IJK$.\n",
    "\n",
    "Setting aside the exact formulae for computing the sums of squares, the\n",
    "resulting ANOVA table for analysis is\n",
    "\n",
    "  Source    Degrees of Freedom   Sum of Squares     Mean Squares         F\n",
    "  -------- -------------------- ---------------- ------------------- ----------\n",
    "  A                I-1                SSA             SSA/(I-1)       MSA/MSE\n",
    "  B                J-1                SSB             SSB/(J-1)       MSB/MSE\n",
    "  AB            (I-1)(J-1)            SSAB        SSAB/((I-1)(J-1))   MSAB/MSE\n",
    "  Error          IJ(K-1)              SSE            SSE/IJ(K-1)     \n",
    "  Total           IJK-1               SST                            \n",
    "\n",
    "Much of the analyses and inference carries over from the previous\n",
    "examples but extended to the two-factor case. The hypotheses of interest\n",
    "then become.\n",
    "$$\n",
    "H_0: \\mbox{Factor A treatment means are equal}\\:\\mbox{ vs }\\: H_A: \\mbox{At least one treatment mean is different}\n",
    "$$\n",
    "$$\n",
    "H_0: \\mbox{Factor B treatment means are equal}\\:\\mbox{ vs }\\: H_A: \\mbox{At least one treatment mean is different}\n",
    "$$\n",
    "$$\n",
    "H_0: \\mbox{There is no interaction between A and B}\\quad\\mbox{vs}\\quad H_A: \\mbox{Factors A and B interact}\n",
    "$$"
   ]
  },
  {
   "cell_type": "markdown",
   "id": "e62946b2",
   "metadata": {},
   "source": [
    "We can test these hypotheses using a specified Type I Error Rate\n",
    "(typically $\\alpha = 0.05$) and identifying the appropriate rejection\n",
    "region for their $F$ statistics. Also, Tukey's HSD can be used to assess\n",
    "the individual treatment differences.\n"
   ]
  },
  {
   "cell_type": "markdown",
   "id": "eac051b0",
   "metadata": {},
   "source": [
    "**Example:**\\"
   ]
  },
  {
   "cell_type": "markdown",
   "id": "1c40b0b6",
   "metadata": {
    "lines_to_next_cell": 0
   },
   "source": [
    "The manager of a manufacturing plant knows that the output of a\n",
    "production line depends on two factors:\n",
    "\n",
    "-   Which of two supervisors is in charge of the line\n",
    "\n",
    "-   Which of three shifts (day, night, or swing) is working\n",
    "\n",
    "The following data are collected\n",
    "echo\n",
    "<div style=\"padding: 0 50px\">"
   ]
  },
  {
   "cell_type": "markdown",
   "id": "be39a350",
   "metadata": {
    "lines_to_next_cell": 0
   },
   "source": [
    "</div>\n",
    "\n",
    "***Solution:**\n",
    "\n",
    "The results for the ANOVA analysis in tabular form are:"
   ]
  },
  {
   "cell_type": "code",
   "execution_count": null,
   "id": "49dcb429",
   "metadata": {
    "lines_to_next_cell": 2
   },
   "outputs": [],
   "source": [
    "print(res_3)\n"
   ]
  },
  {
   "cell_type": "markdown",
   "id": "0a809901",
   "metadata": {},
   "source": [
    "## Worksheet Practical Question 1\n",
    "\n",
    "The variation of the strength of (coloring powder) of a dyestuff from one manufacturing batch to another was studied (Davies, 1960). Strength was measured by dyeing a square of cloth with a standard concentration of dyestuff and visually comparing the result with a standard. \n",
    "\n",
    "\\\n",
    "The result was numerically scored as the percentage strength of the dyestuff. Large samples were taken from six batches and from each batch six sub-samples were taken. The 36 subsamples were submitted to the laboratory in a random order for testing as described above. Analyse the data using a one-way ANOVA \n",
    "\n"
   ]
  },
  {
   "cell_type": "code",
   "execution_count": null,
   "id": "4897f7f5",
   "metadata": {},
   "outputs": [],
   "source": [
    "##  Enter Data\n",
    "\n",
    "df = pandas.read_csv(\"../DATA/dye.csv\")\n"
   ]
  },
  {
   "cell_type": "markdown",
   "id": "4faeea92",
   "metadata": {},
   "source": [
    "**Solution:**"
   ]
  },
  {
   "cell_type": "code",
   "execution_count": null,
   "id": "b4bafaba",
   "metadata": {
    "lines_to_next_cell": 2
   },
   "outputs": [],
   "source": [
    "\n",
    "model = statsmodels.api.formula.ols(\"Strength~Batch\",df)\n",
    "\n",
    "results = model.fit()\n",
    "\n",
    "results.summary()\n",
    "\n"
   ]
  },
  {
   "cell_type": "markdown",
   "id": "1ae4ffef",
   "metadata": {},
   "source": [
    "## Worksheet Practical Question 2\n",
    "\n",
    "The concentration (in nanograms per millilitre) of plasma epinephrinewere measured for ten dogs under isofluorane, halothane, cyclopropane anesthesia (Perry, et. al. 1974).\n"
   ]
  },
  {
   "cell_type": "markdown",
   "id": "9ed5cb7a",
   "metadata": {},
   "source": [
    "Analyse these data using an one-factor ANOVA on the anesthesia"
   ]
  },
  {
   "cell_type": "code",
   "execution_count": null,
   "id": "f532645c",
   "metadata": {
    "lines_to_next_cell": 2
   },
   "outputs": [],
   "source": [
    "df = pandas.read_csv(\"../DATA/dog.csv\")\n"
   ]
  },
  {
   "cell_type": "markdown",
   "id": "f33266c5",
   "metadata": {},
   "source": [
    "**Solution:**"
   ]
  },
  {
   "cell_type": "code",
   "execution_count": null,
   "id": "d43701ea",
   "metadata": {
    "lines_to_next_cell": 0
   },
   "outputs": [],
   "source": [
    "df = pandas.read_csv(\"../DATA/dog.csv\")\n",
    "\n",
    "model = statsmodels.api.formula.ols(\"epinephrine~anesthesia\",df).fit()\n",
    "\n",
    "results = statsmodels.stats.anova.anova_lm(model)\n",
    "\n",
    "print(results)\n",
    "\n"
   ]
  },
  {
   "cell_type": "markdown",
   "id": "b89f31ae",
   "metadata": {
    "lines_to_next_cell": 0
   },
   "source": [
    "Now, perform the same ANOVA, but block on the variable \"dog\""
   ]
  },
  {
   "cell_type": "code",
   "execution_count": null,
   "id": "ac64bc1f",
   "metadata": {},
   "outputs": [],
   "source": [
    "df = pandas.read_csv(\"../DATA/dog.csv\")\n",
    "\n"
   ]
  },
  {
   "cell_type": "markdown",
   "id": "8990d0fd",
   "metadata": {},
   "source": [
    "**Solution:**"
   ]
  },
  {
   "cell_type": "code",
   "execution_count": null,
   "id": "70d4eec5",
   "metadata": {},
   "outputs": [],
   "source": [
    "model_2 = statsmodels.api.formula.ols(\"epinephrine~anesthesia+dog\",df).fit()\n",
    "\n",
    "result_2 = statsmodels.stats.anova.anova_lm(model_2)\n",
    "\n",
    "print(result_2)\n"
   ]
  },
  {
   "cell_type": "markdown",
   "id": "ed07a3d5",
   "metadata": {},
   "source": [
    "Comments? Thought?\n",
    "\n",
    "## Worksheet Practical Question 3\n",
    "The following data describe the outcome of an experiment where the survival time of animals in hours is measured for anmials receiving one of three poisons and one of four treatments (Box and Cox 1964). \n",
    "\n",
    "Analyse these data using a one-factor ANOVA for Poison, a two-factor ANOVA for Poison and Treatment (without interaction) and a two-factor ANOVA with interaction between Treatment and Poison\n",
    "\n"
   ]
  },
  {
   "cell_type": "code",
   "execution_count": null,
   "id": "1cad111f",
   "metadata": {},
   "outputs": [],
   "source": [
    "df = pandas.read_csv(\"../DATA/poison.csv\")\n"
   ]
  },
  {
   "cell_type": "markdown",
   "id": "b305f0ff",
   "metadata": {},
   "source": [
    "**Solution:**"
   ]
  },
  {
   "cell_type": "code",
   "execution_count": null,
   "id": "47c96b63",
   "metadata": {},
   "outputs": [],
   "source": [
    "df = pandas.read_csv(\"../DATA/poison.csv\")\n",
    "\n",
    "model = statsmodels.api.formula.ols(\"Survtime~Poison\",df).fit()\n",
    "\n",
    "result = statsmodels.stats.anova.anova_lm(model)\n",
    "\n",
    "print(result)\n"
   ]
  },
  {
   "cell_type": "markdown",
   "id": "b206f588",
   "metadata": {},
   "source": [
    "**Solution:**"
   ]
  },
  {
   "cell_type": "code",
   "execution_count": null,
   "id": "753f2699",
   "metadata": {},
   "outputs": [],
   "source": [
    "df = pandas.read_csv(\"../DATA/poison.csv\")\n",
    "\n",
    "model = statsmodels.api.formula.ols(\"Survtime~Poison+Treatment\",df).fit()\n",
    "\n",
    "result = statsmodels.stats.anova.anova_lm(model)\n",
    "\n",
    "print(result)\n"
   ]
  },
  {
   "cell_type": "code",
   "execution_count": null,
   "id": "f1a09d72",
   "metadata": {
    "lines_to_next_cell": 0
   },
   "outputs": [],
   "source": [
    "df = pandas.read_csv(\"../DATA/poison.csv\")\n",
    "\n",
    "model = statsmodels.api.formula.ols(\"Survtime~Poison+Treatment+Poison*Treatment\",df).fit()\n",
    "\n",
    "result = statsmodels.stats.anova.anova_lm(model)\n",
    "\n",
    "print(result)\n"
   ]
  },
  {
   "cell_type": "markdown",
   "id": "3a440374",
   "metadata": {},
   "source": []
  }
 ],
 "metadata": {
  "jupytext": {
   "cell_metadata_filter": "name,tags,-all",
   "main_language": "python",
   "notebook_metadata_filter": "-all"
  },
  "kernelspec": {
   "display_name": "Python 3 (ipykernel)",
   "language": "python",
   "name": "python3"
  },
  "language_info": {
   "codemirror_mode": {
    "name": "ipython",
    "version": 3
   },
   "file_extension": ".py",
   "mimetype": "text/x-python",
   "name": "python",
   "nbconvert_exporter": "python",
   "pygments_lexer": "ipython3",
   "version": "3.9.13"
  }
 },
 "nbformat": 4,
 "nbformat_minor": 5
}
