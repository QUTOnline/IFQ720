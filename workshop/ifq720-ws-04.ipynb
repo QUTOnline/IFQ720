{
 "cells": [
  {
   "cell_type": "raw",
   "id": "84a50122",
   "metadata": {},
   "source": [
    "---\n",
    "title: \"IFQ720 Worksheet 04 - Parameter Estimation\"\n",
    "output:\n",
    "  html_document\n",
    "---"
   ]
  },
  {
   "cell_type": "markdown",
   "id": "1a6f4a79",
   "metadata": {
    "lines_to_next_cell": 0
   },
   "source": []
  },
  {
   "cell_type": "code",
   "execution_count": null,
   "id": "10fc0247",
   "metadata": {
    "lines_to_next_cell": 2,
    "tags": [
     "remove_cell"
    ]
   },
   "outputs": [],
   "source": [
    "import pandas\n",
    "import plotnine\n",
    "import numpy\n",
    "import scipy\n",
    "import math\n",
    "from plotnine import *\n"
   ]
  },
  {
   "cell_type": "markdown",
   "id": "32c7aa4c",
   "metadata": {},
   "source": [
    "#    Large Sample Estimation\n",
    "\n",
    "Estimation is part of the process of inference using data to estimate the value of underlying population parameters.  \n",
    "\n",
    "Two methods for finding point estimates include:\n",
    "\n",
    "1.    the method of moments \n",
    "2.    the method of maximum likelihood.  \n",
    "\n",
    "In addition the concept of interval estimation and confidence level is introduced and discussed for large samples.  Examples of this include \n",
    "\n",
    "1.    Constructing confidence intervals for the population mean\n",
    "2.    Constructing confidence intervals for proportions\n",
    "3.    Constructing confidence intervals for the difference between two population means, \n",
    "4.    Constructing confidence intervals for the difference between two population proportions  "
   ]
  },
  {
   "cell_type": "markdown",
   "id": "627c77f3",
   "metadata": {},
   "source": [
    "**What is \"large\"?**\\\n",
    "The term \"large\" is not strictly defined in a mathematical sense but is\n",
    "heuristically derived as  $n>30$, which is deemed a robust lower limit for \n",
    "the application of the Central Limit Theorem (CLT) for use in constructing \n",
    "confidence intervals.  \n"
   ]
  },
  {
   "cell_type": "markdown",
   "id": "6f649b0c",
   "metadata": {},
   "source": [
    "##    Parameter Point Estimation\n",
    "\n",
    "The goal of collecting data is not only to create summaries of observed data, but to extend the information gained in those summaries to make inference about the properties of the population, in particular to make estimates of the population parameters.  \n",
    "\n",
    "When we estimate a scalar value for a single parameter this is called a *point estimate* as it is an estimate of a parameter expressed as a single point on the real number line. \n",
    "\n",
    "There are two methods presented here for estimating parameters, the method of moments and the method of maximum likelihood.  These are not the only two approaches but they are historically the most common and optimal means of creating point estimates.  \n",
    "\n",
    "##   The Method of Moments\n",
    "\n",
    "The method of moments dates to the early work of Karl Pearson in statistics, and borrows heavily from physics by using moments to describe the characteristics or \"shape\" of probability distributions.\n",
    "\n",
    "The method of moments depends on the formal definition of moment as:\n",
    "\\begin{eqnarray*}\n",
    "\\mu_1 & = &  \\int_{-\\infty}^{\\infty}xf(x)dx\\\\\n",
    "\\mu_2 & = & \\int_{-\\infty}^{\\infty}x^2f(x)dx\\\\\n",
    "\\vdots & & \\\\\n",
    "\\mu_k & = & \\int_{-\\infty}^{\\infty}x^kf(x)dx.\n",
    "\\end{eqnarray*}\n",
    "The first moment is known in physics as the first moment of inertia, or the centre of mass. In statistics this is called the expected value or mean. In physics the second moment represents the resistance to rotational acceleration of a body subjected to torque. In statistics we can use the second moment to compute the variance.\n",
    "\n",
    "The method of moments relies on the definition of sample moments as estimates of the actual moments (the proof of this is omitted for expediency)\n",
    "\\begin{eqnarray*}\n",
    "m_1 & = & \\frac{1}{n}\\sum_{i = 1}^nx_i\\\\\n",
    "m_2 & = & \\frac{1}{n}\\sum_{i = 1}^nx_i^2\\\\\n",
    "\\vdots & & \\\\\n",
    "m_k & = & \\frac{1}{n}\\sum_{i = 1}^nx_i^k.\n",
    "\\end{eqnarray*}\n",
    "Pearson noted that the moments of distributions could be written as functions of parameters or more usefully that the parameters of probability distributions can be written as functions of the moments, and thus point estimates for parameters can be constructed by substituting sample moments into the expressions for distribution parameters. "
   ]
  },
  {
   "cell_type": "markdown",
   "id": "9bd89787",
   "metadata": {},
   "source": [
    "**Example: Method of Moments Estimators**\n",
    "\n",
    "We have already seen that the sample mean $\\bar{x}$ as the first sample moment is an estimator for the sample mean.  And we have seen that the variance $\\sigma^2$ can be defined as a function of the moments \n",
    "$$\n",
    "\\mbox{Var}(X)=\\mu_2-\\mu_1^2,\n",
    "$$ \n",
    "thus substituting the sample moments the sample variance can be shown to be\n",
    "\\begin{eqnarray*}\n",
    "s^2 &=& m_2-(m_1)^2\\\\ \n",
    "&=& \\frac{1}{n}\\sum_{i=1}^nx_i^2-\\left(\\frac{1}{n}\\sum_{i=1}^nx_i\\right)^2.\n",
    "\\end{eqnarray*}"
   ]
  },
  {
   "cell_type": "markdown",
   "id": "f5c181a2",
   "metadata": {},
   "source": [
    "The Poisson distribution provides a simple example where \n",
    "$X\\sim Pois(\\lambda)$\n",
    "implies that $E(X)=\\lambda$ thus the method of moments estimator for $\\lambda$ is $\\tilde{\\lambda}=\\bar{x}$. The exponential distribution where\n",
    "$$\n",
    "f(x) = e^{-\\lambda x}\\mbox{ and }E(X) = \\frac{1}{\\lambda}\n",
    "$$\n",
    "because\n",
    "$$\n",
    "\\mu_1 = E(X) =\\mbox{ the estimator is }m_1 = \\widetilde{E(X)}\n",
    "$$\n",
    "thus\n",
    "\\begin{eqnarray*}\n",
    "m_1 &=& \\tilde{\\frac{1}{\\lambda}}\\\\\n",
    "\\tilde{\\lambda} & = &\\frac{1}{m_1}\\\\\n",
    "\\tilde{\\lambda} & = & \\frac{1}{\\bar{x}}\n",
    "\\end{eqnarray*}\n"
   ]
  },
  {
   "cell_type": "markdown",
   "id": "3046bb05",
   "metadata": {},
   "source": [
    "##   The Method of Maximum Likelihood\n",
    "\n",
    "In the 1920's and 1930's the statistician R. A. Fisher developed an alternative approach to finding point estimates.  Instead of relying on matching the moments of probability distributions, Fisher developed a concept know as likelihood, and defined the likelihood function\n",
    "$$\n",
    "L(\\theta|\\mathbf{x}) = \\prod_{i=1}^np(x_i;\\theta)\n",
    "$$\n",
    "in the discrete case and \n",
    "$$\n",
    "L(\\theta|\\mathbf{x}) = \\prod_{i=1}^nf(x_i;\\theta)\n",
    "$$\n",
    "in the continuous case.  \n",
    "\n",
    "Note that the notation for the pmf, pdf, and the likelihood show that they are functions of both the data $x$ and the parameter $\\theta$, but be careful to remember that while $\\theta$ may be unknown it is not a random variable.\n",
    "\n",
    "Fisher then defined a point estimator of $\\theta$ as \n",
    "$$\n",
    "\\hat{\\theta}=\\max_{\\Theta}L(\\theta|\\mathbf{x})\n",
    "$$\n",
    "where $\\hat{\\theta}$ is the maximum likelihood estimator (MLE). \n",
    "\n",
    "Note that directly maximising the likelihood is often not very feasible, and it can be simpler to work with the log-likelihood, e.g.\\\n",
    "\\begin{eqnarray*}\n",
    "l(\\theta|\\mathbf{x}) &=& \\log(L(\\theta|\\mathbf{x}))\\\\\n",
    "&&\\sum_{i=1}^n\\log(f(x_i;\\theta))\n",
    "\\end{eqnarray*}\n",
    "Because the $\\log$ function is monotonic, then the maxima of the log-likelihood is the maxima of the likelihood and we can find the MLE via the log-likelihood, i.e.\n",
    "$$\n",
    "\\hat{\\theta}=\\max_{\\Theta}l(\\theta|\\mathbf{x})\n",
    "$$\n",
    "the maxima is found by the usual means, either analytically or numerically. "
   ]
  },
  {
   "cell_type": "markdown",
   "id": "a89cbfb1",
   "metadata": {},
   "source": [
    "**Example: Maximum Likelihood Estimators**\n",
    "\n",
    "\\begin{eqnarray*}\n",
    "L(\\lambda|\\mathbf{x})&=&\\prod_{i=1}^n\\frac{\\lambda^{x_i}}{x_i!}e^{-\\lambda}\\\\\n",
    "l(\\lambda|\\mathbf{x})&=&\\sum_{i=1}^n x_i\\log(\\lambda)-\\log(x_i)-n\\lambda\n",
    "\\end{eqnarray*}\n",
    "Find the maximum by taking the derivative of the log-likelihood w.r.t. $\\lambda$ and solving for $0$\n",
    "$$\n",
    "\\frac{d}{d\\lambda}l(\\lambda|\\mathbf{x})=\\frac{\\sum_{i=1}^nx_i}{\\lambda}-n\n",
    "$$\n",
    "\\begin{eqnarray*}\n",
    "\\frac{\\sum_{i=1}^nx_i}{\\lambda}-n& = &0\\\\\n",
    "\\frac{\\sum_{i=1}^nx_i}{\\lambda} & = & n\\\\\n",
    "\\sum_{i=1}^nx_i & = & n\\lambda\\\\\n",
    "\\frac{\\sum_{i=1}^nx_i}{n} & = &\\hat{ \\lambda}\n",
    "\\end{eqnarray*}\n"
   ]
  },
  {
   "cell_type": "markdown",
   "id": "cf0f327c",
   "metadata": {},
   "source": [
    "Note that in this example the MLE and the method of moments estimators are identical.  Next we will see an example where they differ and discuss the implications."
   ]
  },
  {
   "cell_type": "markdown",
   "id": "8edf8b5c",
   "metadata": {},
   "source": [
    "**Example: Method of Moments Estimators versus MLEs**\\\n",
    "\n",
    "Consider $x_i\\sim U(0,a)$, where we have a sample of data $x_1,x_2,\\ldots,x_n$ and we want to estimate $a$. Using the method of moments based estimator  we get\n",
    "\\begin{eqnarray*}\n",
    " \\frac{a}{2} & = & E(X)\\\\\n",
    "\\tilde{\\frac{a}{2}}& = & \\widetilde{E(X)}\\\\\n",
    "\\tilde{\\frac{a}{2}} & = & \\bar{x}\\\\\n",
    "\\tilde{a}=2\\bar{x}\n",
    "\\end{eqnarray*}\n",
    "and the MLE is\n",
    "\\begin{eqnarray*}\n",
    "\\hat{a}&=&max_a\\prod_{i=1}^n\\frac{1}{a}I_{x\\in (0,a)}(x_i)\\\\\n",
    "\\hat{a}& = & \\max(x_i) = x^{(n)}\n",
    "\\end{eqnarray*}\n",
    "Note that $I_{x\\in (0,a)}(x_i)$ is an indicator function that is equal to one if $x_i$ is in the interval $(0,a)$, and zero otherwise.  So the MLE is the smallest value of $a$ possible that still meets the condition $x_i\\in (0,a)\\forall i$, which is the largest value of $x_i$ or $x^{(n)}$.\n",
    "\n",
    "Both of these estimators are unbiased, but note that the problem with the method of moments based estimator is that (particularly for small $n$) it is quite possible for $\\bar{x}>a/2$, that is a value of $\\tilde{a}$ that is greater than the true value, and is outside the parameter space, or it is also possible to obtain a moment estimator such that $2\\bar{x}<a$, in which case there may be observations in the data that are larger then $\\tilde{a}$, which would make them outside the sample space. The MLE is guaranteed to not exhibit this behaviour and is the preferred estimator. \n",
    " \n"
   ]
  },
  {
   "cell_type": "markdown",
   "id": "4aef2207",
   "metadata": {},
   "source": [
    "##   Properties of Estimators\n",
    "\n",
    "Both method of moments and the maximum likelihood produce estimates of population parameters.  But choosing which one to use depends on the situation, in come cases it is computationally difficult to compute the MLE, and the method of moments can be easier to find.  In general there are two properties that are used to evaluate estimators. \n",
    "\n",
    "###   Bias\n",
    "\n",
    "Bias in a parameter estimate is measured as the difference between the expected value of the estimator and the true value of the parameter, i.e.\\ where $\\theta_0$ is the true value of the parameter, the bias of an estimator $\\hat{\\theta}$ is\n",
    "$$\n",
    "\\mbox{Bias} = E(\\hat{\\theta})-\\theta_0\n",
    "$$\n",
    "Ideally, we want estimators that are unbiased, from the central limit theorem we can see that the sample mean is unbiased, but there are other estimators that are not unbiased, but can still be useful. \n",
    "\n",
    "###   Variance\n",
    "\n",
    "Variance refers to the variance of the estimator, given two unbiased estimators of $\\theta$, we would prefer to use the one with the smaller variance, i.e.\\ choose $\\hat{\\theta}$ over $\\tilde{\\theta}$ when\n",
    "$$\n",
    "\\mbox{Var}(\\hat{\\theta})<\\mbox{Var}(\\tilde{\\theta}).\n",
    "$$\n",
    "Sometimes the choice of estimator is governed by what is known as the bias-variance trade-off.  Given data $x_i$ with variance $\\sigma^2$, estimators of $\\theta=E(X)$ are selected that minimise the mean-squared error\n",
    "$$\n",
    "\\frac1n\\sum_{i=1}^n(x_i-\\hat{\\theta})^2=\\mbox{Bias}^2+\\mbox{Var}(\\hat{\\theta})\n",
    "$$\n",
    "It is apparent that for two unbiased estimators (i.e.\\ Bias=0 for both), then the choice becomes the estimator with the smallest variance, however ins once cases there may be biased estimators that have small enough variances to make them preferable to an unbiased estimator. \n",
    "\n",
    "##    Interval Estimators\n",
    "\n",
    "An interval estimator is a rule for creating an interval that hopefully captures the parameter's true value. We specify the interval rule on the basis of some probability or confidence coefficient $1-\\alpha$ that describes the probability that a confidence interval constructed according to the rule will capture the parameter's true value.   "
   ]
  },
  {
   "cell_type": "markdown",
   "id": "4d4668a3",
   "metadata": {},
   "source": [
    "**Example**\n",
    "\n",
    "Consider the classic ring toss game, rings are thrown by contestants seeking to throw a ring such that it captures a peg.  The confidence coefficient is the probability or proportion of tosses that will capture the target peg.  The interval estimator is the rule for creating a ring so that you have a $1-\\alpha\\%$ chance of capturing the peg.  \n",
    "\n",
    "For a given $1-\\alpha$ confidence coefficient, the $(1-\\alpha)\\%$ confidence interval is defined as:\n",
    "$$\n",
    "\\hat{\\theta}\\pm Z_{\\alpha/2}\\mbox{SE}_{\\theta}\n",
    "$$\n",
    "where $Z_{\\alpha/2}$ is the tail value for $Z$ with area $\\alpha/2$, and SE$_{\\theta}$ is the standard error of $\\hat{\\theta}$. The resulting formula gives an **upper confidence limit (UCL)** and a **lower confidence limit (LCL)**.\n",
    "\n",
    "In the plot below, the area bounded by the shaded regions is the $95\\%$ confidence interval based on $\\bar{x}$ for $\\bar{x}=3$, $\\sigma = 2$, and $n=10$. The area of the two shaded tails is $\\alpha/2$. "
   ]
  },
  {
   "cell_type": "code",
   "execution_count": 4,
   "id": "89d77af0",
   "metadata": {
    "lines_to_next_cell": 2,
    "tags": [
     "remove_input"
    ]
   },
   "outputs": [
    {
     "data": {
      "image/png": "[encoded data removed]",
      "text/plain": [
       "<Figure size 640x480 with 1 Axes>"
      ]
     },
     "metadata": {},
     "output_type": "display_data"
    },
    {
     "data": {
      "text/plain": [
       "<ggplot: (8786347229507)>"
      ]
     },
     "execution_count": 4,
     "metadata": {},
     "output_type": "execute_result"
    }
   ],
   "source": [
    "mean_ = 3\n",
    "sd_ = 2/numpy.sqrt(10)\n",
    "\n",
    "ll = scipy.stats.norm.ppf(0.001,loc = mean_, scale = sd_)\n",
    "ul = scipy.stats.norm.ppf(0.999, loc = mean_, scale = sd_)\n",
    "ll_95 = scipy.stats.norm.ppf(0.025,loc = mean_, scale = sd_)\n",
    "ul_95 = scipy.stats.norm.ppf(0.975,loc = mean_, scale = sd_)\n",
    "\n",
    "x = numpy.linspace(ll,ul,num = 1000)\n",
    "x_95 = numpy.linspace(ll_95,ul_95,num = 1000)\n",
    "y = scipy.stats.norm.pdf(x, loc = mean_, scale = sd_)\n",
    "y_95 = scipy.stats.norm.pdf(x_95, loc = mean_, scale = sd_)\n",
    "\n",
    "df = pandas.DataFrame({\"x\":x, \"y\":y, \"x_95\":x_95, \"y_95\":y_95})\n",
    "\n",
    "(\n",
    "ggplot(df,aes(x =\"x\", y=\"y\"))+\n",
    "geom_line()+\n",
    "geom_ribbon(aes(x = \"x_95\", ymax = \"y_95\", ymin = 0),fill = \"green\", alpha =0.4)\n",
    ")\n"
   ]
  },
  {
   "cell_type": "markdown",
   "id": "e5f3b1dc",
   "metadata": {},
   "source": [
    "**Values for commonly used confidence coefficients**\n",
    "\n",
    "|Confidence Coefficient $(1-\\alpha)$|  $\\alpha$ | $\\alpha/2$ | $Z_{\\alpha/2}$|\n",
    "|:---------------------------------:|:---------:|:----------:|:--------------|\n",
    "|0.90                               | 0.10      | 0.05       | 1.645         |\n",
    "|0.95                               | 0.05      | 0.025      | 1.96          |\n",
    "|0.98                               | 0.02      | 0.01       | 2.33          |\n",
    "|0.99                               | 0.01      | 0.005      |     2.58      |\n",
    "\n",
    " "
   ]
  },
  {
   "cell_type": "markdown",
   "id": "1c547932",
   "metadata": {},
   "source": [
    "##    Confidence Interval for the Population Mean\n",
    "\n",
    "Many practical problems deal with making inference or estimating population means.  For large samples $(n>30)$ we know that $\\bar{x}$ is the best estimator for the population mean $\\mu$ and that\n",
    "$$\n",
    "\\bar{x}\\sim N\\left(\\mu,\\frac{\\sigma^2}{n}\\right).\n",
    "$$\n",
    "Given the sampling distribution then the confidence interval is \n",
    "$$\n",
    "\\bar{x}\\pm Z_{\\alpha/2}\\frac{\\sigma}{\\sqrt{n}}\n",
    "$$"
   ]
  },
  {
   "cell_type": "markdown",
   "id": "7837aade",
   "metadata": {},
   "source": [
    "**NOTE:** If $\\sigma$ is unknown then for large samples $n>30$ it is reasonable to use the approximation $s\\approx\\sigma$ to compute the standard error and the test statistic $Z$."
   ]
  },
  {
   "cell_type": "markdown",
   "id": "a0433325",
   "metadata": {},
   "source": [
    "###    Deriving the Large-Sample Confidence Interval for the Population Mean\n",
    "Let $Z_{\\alpha/2}$ be the value corresponding to the upper tail area of $\\alpha/2$. \n",
    "$$\n",
    "Z = \\frac{\\bar{x}-\\mu}{\\sigma/\\sqrt{n}}\n",
    "$$\n",
    "then\n",
    "$$\n",
    "Pr\\left(-Z_{\\alpha/2}\\leq\\frac{\\bar{x}-\\mu}{\\sigma/\\sqrt{n}}\\leq Z_{\\alpha/2}\\right)=1-\\alpha\n",
    "$$\n",
    "Rearranging the inequality\n",
    "$$\n",
    "Pr\\left(\\bar{x}-Z_{\\alpha/2}\\frac{\\sigma}{\\sqrt{n}}\\leq\\mu\\leq \\bar{x}+Z_{\\alpha/2}\\frac{\\sigma}{\\sqrt{n}}\\right)=1-\\alpha\n",
    "$$\n",
    "The UCL and LCL are the actually random quantities depending on the value of $\\bar{x}$, therefore the probability for the inequality arises from the fact that for repeated samples the interval will only capture the true value of $\\mu$ with probability $1-\\alpha$. "
   ]
  },
  {
   "cell_type": "markdown",
   "id": "221a90b5",
   "metadata": {},
   "source": [
    "**Example: Computing a Confidence Interval for the Population Mean**\\\n",
    "\n",
    "A sample of $n=50$ adult men reveals that their average daily intake of protein is $\\bar{x}=75.6$ grams per day with a standard deviation of $s=3.5$ grams.  Construct a 95\\% confidence interval for the average daily intake of protein for men.  \n",
    "\n",
    "The confidence interval is\n",
    "\\begin{eqnarray*}\n",
    "\\bar{x}&\\pm& Z_{\\alpha/2}SE_{\\bar{x}}\\\\\n",
    "75.6&\\pm& 1.96\\frac{3.5}{\\sqrt{50}}\\\\\n",
    "75.6&\\pm& 0.97\n",
    "\\end{eqnarray*}\n",
    "Thus the confidence interval is $(74.63,76.57)$. "
   ]
  },
  {
   "cell_type": "markdown",
   "id": "83058229",
   "metadata": {},
   "source": [
    "###    Confidence Interval for the Population Proportion\n",
    "\n",
    "In many cases population proportions are the primary quantity of interest.  As we have seen previously that there is a convenient sampling distribution for the sample proportion $\\hat{p}$ which can be used to construct a confidence interval for the population proportion $p$\n",
    "$$\n",
    "\\hat{p}\\sim N\\left(p,\\frac{p(1-p)}{n}\\right).\n",
    "$$\n",
    "**NOTE:** that when $p$ is unknown the value of $\\hat{p}$ can be substituted into the conditions, yielding the constraints that $n\\hat{p}>5$ and $n(1-\\hat{p})>5$, and it is possible to estimate the standard error as \n",
    "$$\n",
    "\\mbox{SE}=\\sqrt{\\frac{\\hat{p}(1-\\hat{p})}{n}}\n",
    "$$\n",
    "Given this sampleing distribution, the form of the confidence interval is the same as that for the population mean\n",
    "$$\n",
    "\\hat{p}\\pm Z_{\\alpha/2}SE_{\\hat{p}}\n",
    "$$\n"
   ]
  },
  {
   "cell_type": "markdown",
   "id": "62df2db3",
   "metadata": {},
   "source": [
    "**Confidence Intervals for a Population Proportion**\n",
    "\n",
    "A random sample of $n=985$ Queensland residents seeking their opinions on how the Queensland State Government was handling the COVID-19 crisis.  Of those surveyed, $x=592$ indicated that they approved of the current government's handling of the COVID-19 crisis.  Construct a $90\\%$ confidence interval for the proportion of the population that approves of the current government's handling of the COVID-19 crisis.\n",
    "\n",
    "The estimator $\\hat{p} = x/n$ is $0.60$, $n\\hat{p}=592>5$ and $n(1-\\hat{p})= 393>5$ so the assumptions surrounding the use of the Central Limit Theorem are valid. The resulting confidence interval is \n",
    "\\begin{eqnarray*}\n",
    "\\hat{p}&\\pm& Z_{\\alpha/2}SE_{\\hat{p}}\\\\\n",
    "0.60&\\pm& 1.96\\sqrt{\\frac{(0.6)(0.4)}{985}}\\\\\n",
    "0.60&\\pm& 0.016\n",
    "\\end{eqnarray*}\n",
    "Thus the confidence interval is $(0.584,0.616)$. "
   ]
  },
  {
   "cell_type": "markdown",
   "id": "2d5458ab",
   "metadata": {},
   "source": [
    "###    Confidence Interval for the Difference Between Two Population Means\n",
    "\n",
    "In addition to estimating populations means, often (and more interestingly) we are interested in the difference between two population means.  \n",
    "This means that now there are two populations means $\\mu_1$ and $\\mu_2$,  two variances $\\sigma_1^2$ and $\\sigma_2^2$, and two sample sizes $n_1$ and $n_2$.  And of course there are two sets of estimates $\\bar{x}_1$, $s_1^2$, $\\bar{x}_2$, and $s^2_2$.  \n",
    "\n",
    "It is reasonable (and correct) to assume that the best estimate of the difference between population means $\\mu_1-\\mu_2$ is the difference between the sample means $\\bar{x}_1-\\bar{x}_2$.  The question is then, what is the sampling distribution of $\\bar{x}_1-\\bar{x}_2$?  \n",
    "\n",
    "The expected value of $\\bar{x}_1-\\bar{x}_2$ is\n",
    "$$\n",
    "E(\\bar{x}_1-\\bar{x}_2) = \\mu_1-\\mu_2\n",
    "$$\n",
    "and the standard error is\n",
    "$$\n",
    "\\mbox{SE} = \\sqrt{\\frac{\\sigma^2_1}{n_1}+\\frac{\\sigma_2^2}{n_2}}\n",
    "$$\n",
    "which for large $n_1$ and $n_2$ can be approximated as \n",
    "$$\n",
    "\\mbox{SE} = \\sqrt{\\frac{s^2_1}{n_1}+\\frac{s_2^2}{n_2}}\n",
    "$$\n",
    "\n",
    "1. If the two populations follow a Gaussian distribution, then the sampling distribution is exactly Gaussian.\n",
    "\n",
    "2. If the two populations are not Gaussian, then the sampling distribution is approximately Gaussian, for $n_1>30$ and $n_2>30$. "
   ]
  },
  {
   "cell_type": "markdown",
   "id": "92b47d53",
   "metadata": {},
   "source": [
    "From this we can construct the $(1-\\alpha)\\%$ confidence interval for the difference $\\mu_1-\\mu_2$ as:\n",
    "$$\n",
    "(\\bar{x}_1-\\bar{x}_2)\\pm Z_{\\alpha/2}\\sqrt{\\frac{s^2_1}{n_1}+\\frac{s_2^2}{n_2}}\n",
    "$$"
   ]
  },
  {
   "cell_type": "markdown",
   "id": "469c47df",
   "metadata": {},
   "source": [
    "**Example: Confidence interval for the difference between two population means**\\\n",
    "\n",
    "Given some data on the life cycle of two different makes of car tyres.  Given sample sizes of $n_1=n_2=100$ results are collected for the service life of tyres in kilometres.  Given the data\n",
    "\n",
    "|Tyre A                  | Tyre B                  |\n",
    "|------------------------|-------------------------|\n",
    "|$$\\bar{x}_1 = 26,400 \\text{KM}$$ | $$\\bar{x}_2 = 25,100 \\text{KM}$$ |\n",
    "$$s_1^2 = 1,444,000 \\text{(KM)}^2$$ | $$s_2^2 = 1,960,000 \\text{(KM)}^2$$|\n",
    "\n",
    "compute the $99\\%$ confidence interval for the difference between the expected life-cycle for these two makes of tyre. \n",
    "The difference between the sample means is $\\bar{x}_1-\\bar{x}_2=1300$ and the standard error is\n",
    "\\begin{eqnarray*}\n",
    "SE_{\\bar{x}_1-\\bar{x}_2}&=&\\sqrt{\\frac{s^2_1}{n_1}+\\frac{s_2^2}{n_2}}\\\\\n",
    "&=&\\sqrt{\\frac{1,444,000}{100}+\\frac{1,960,000}{100}}\\\\\n",
    "&=&184.5\n",
    "\\end{eqnarray*}\n",
    "\\begin{eqnarray*}\n",
    "(\\bar{x}_1-\\bar{x}_2)&\\pm& Z_{\\alpha/2}SE_{\\bar{x}_1-\\bar{x}_2}\\\\\n",
    "1300&\\pm& 2.576(184.5)\\\\\n",
    "1300&\\pm& 475\n",
    "\\end{eqnarray*}\n",
    "Thus the confidence interval is $(855,1755)$. \n"
   ]
  },
  {
   "cell_type": "markdown",
   "id": "a78872e1",
   "metadata": {},
   "source": [
    "##    Confidence Interval for the Difference Between Two Population Proportions\n",
    "\n",
    "Just as we are often interested in estimating the difference between the means or two populations, we may often be interested in the difference between the proportions of two populations.  As in the case of the difference between two populations means, the best estimator for the difference between two population proportions  $p_1-p_2$, is $\\hat{p}_1-\\hat{p}_2$.   \n",
    "\n",
    "The expected value of $\\hat{p}_1-\\hat{p}_2$ is \n",
    "$$\n",
    "E(\\hat{p}_1-\\hat{p}_2)=p_1-p_2\n",
    "$$\n",
    "and the standard error is \n",
    "$$\n",
    "\\mbox{SE}=\\sqrt{\\frac{p_1(1-p_1)}{n_1}+\\frac{p_2(1-p_2)}{n_2}}\n",
    "$$\n",
    "which is estimated as \n",
    "$$\n",
    "\\mbox{SE}=\\sqrt{\\frac{\\hat{p}_1(1-\\hat{p}_1)}{n_1}+\\frac{\\hat{p}_2(1-\\hat{p}_2)}{n_2}}\n",
    "$$\n",
    "Note that by the Central Limit Theorem,  the sampling distribution is approximately Gaussian when $n_1$ and $n_2$ are large.\n",
    "\n",
    "From this the $(1-\\alpha)\\%$ confidence interval for the difference in two population proportions is:\n",
    "$$\n",
    "(\\hat{p}_1-\\hat{p}_2)\\pm Z_{\\alpha/2}\\sqrt{\\frac{\\hat{p}_1(1-\\hat{p}_1)}{n_1}+\\frac{\\hat{p}_2(1-\\hat{p}_2)}{n_2}}\n",
    "$$\n",
    "Note that the additional constraints that $n_1\\hat{p}_1$,$n_1(1-\\hat{p}_1)$, $n_2\\hat{p}_2$, and $n_2(1-\\hat{p}_2)$ all be greater than 5.  "
   ]
  },
  {
   "cell_type": "markdown",
   "id": "c7ec1c84",
   "metadata": {},
   "source": [
    "**Example: The confidence interval for the difference between two population proportions**\\\n",
    "Returning to Example 7.4.1, now consider that residents are divided into urban and rural voters with the results\n",
    "\n",
    "| | Rural | Urban |\n",
    "|:---:|:-----:|:-----:|\n",
    "|  Sample Size | 328 | 657 |\n",
    "|  Number Approve | 249 | 427 |\n",
    "| Proportion Approve | 0.76 | 0.65 |\n",
    "\n",
    "Compute the $95\\%$ confidence interval for the difference in the population proportions.  \n",
    "\n",
    "First we can note that $\\hat{p}_1 = 0.76$ and $\\hat{p}_2 = 0.65$. Thus we can compute \n",
    "\\begin{eqnarray*}\n",
    "n_1\\hat{p_1} & = & 249\\\\\n",
    "n_1(1-\\hat{p}_1) & = & 79\\\\\n",
    "n_2\\hat{p}_2 & = & 427\\\\\n",
    "n_2(1-\\hat{p}_2) & = & 230\n",
    "\\end{eqnarray*}\n",
    "All of which are $>5$ making the assumoptions surrounding the use of the Gaussian distribution as the sampling distribution are valid.  The difference $\\hat{p}_1-\\hat{p}_2$ is $0.11$ and the standard error is\n",
    "\\begin{eqnarray*}\n",
    "\\mbox{SE}_{\\hat{p}_1-\\hat{p}_2}&=&\\sqrt{\\frac{(0.76)(0.24)}{328}+\\frac{(0.65)(0.35)}{657}}\\\\\n",
    "&=& 0.030\n",
    "\\end{eqnarray*}\n",
    "\n",
    "Thus the resulting confidence interval is\n",
    "$$\n",
    "0.11\\pm Z_{\\alpha/2}\\sqrt{\\frac{(0.76)(0.24)}{328}+\\frac{(0.65)(0.35)}{657}}\n",
    "$$\n",
    "$(0.070,0.140)$.\n",
    "\n",
    " \n"
   ]
  },
  {
   "cell_type": "markdown",
   "id": "ace8d4b7",
   "metadata": {
    "lines_to_next_cell": 0
   },
   "source": [
    "## Worksheet Practical Question 1\n",
    "\n",
    "Find the confidence interval for the mean of the `IMDB.Ranking` for *Star Trek* (The Original Series). "
   ]
  },
  {
   "cell_type": "code",
   "execution_count": null,
   "id": "b59effee",
   "metadata": {
    "lines_to_next_cell": 0,
    "name": "q2"
   },
   "outputs": [],
   "source": [
    "df = pandas.read_csv(\"../DATA/star_trek_data.csv\")\n"
   ]
  },
  {
   "cell_type": "markdown",
   "id": "8b338e05",
   "metadata": {
    "lines_to_next_cell": 0
   },
   "source": [
    "Recall that the confidence interval has the form\n",
    "$$\n",
    "\\hat{\\theta}\\pm SE_{\\hat{\\theta}}Z_{\\alpha/2}.\n",
    "$$\n",
    "In this case $\\hat{\\theta}=\\bar{x}$ and the $SE_{\\bar{x}}$ is \n",
    "$$\n",
    "SE_{\\bar{x}}=\\frac{s}{\\sqrt{n}}\n",
    "$$\n",
    "and $Z_{\\alpha/2}=1.96$.\n",
    "\n",
    "**Solution:**\\"
   ]
  },
  {
   "cell_type": "code",
   "execution_count": 5,
   "id": "5aec3e4e",
   "metadata": {
    "lines_to_next_cell": 0
   },
   "outputs": [
    {
     "name": "stdout",
     "output_type": "stream",
     "text": [
      "7.36010366779833 7.7123963322016715\n"
     ]
    }
   ],
   "source": [
    "\n",
    "df = pandas.read_csv(\"../DATA/star_trek_data.csv\")\n",
    "\n",
    "df_tos = df[df[\"Series\"]==\"TOS\"]\n",
    "\n",
    "xbar = df_tos[\"IMDB.Ranking\"].mean()\n",
    "s = df_tos[\"IMDB.Ranking\"].std()\n",
    "n = df_tos.shape[0]\n",
    "\n",
    "SE = s/numpy.sqrt(n)\n",
    "\n",
    "UCL = xbar+1.96*SE\n",
    "\n",
    "LCL = xbar-1.96*SE\n",
    "print(LCL,UCL)\n"
   ]
  },
  {
   "cell_type": "markdown",
   "id": "ddaa7aca",
   "metadata": {},
   "source": [
    " \n",
    " "
   ]
  },
  {
   "cell_type": "markdown",
   "id": "d8abe9e5",
   "metadata": {
    "lines_to_next_cell": 0
   },
   "source": [
    "## Worksheet Practical Question 2\n",
    "\n",
    "Find the confidence interval for the difference of the mean `IMDB.Ranking` for *Star Trek* (The Original Series) and *Star Trek: The Next Generation*. "
   ]
  },
  {
   "cell_type": "code",
   "execution_count": null,
   "id": "d97a5812",
   "metadata": {
    "lines_to_next_cell": 0,
    "name": "q3"
   },
   "outputs": [],
   "source": [
    "df = pandas.read_csv(\"../DATA/star_trek_data.csv\")\n"
   ]
  },
  {
   "cell_type": "markdown",
   "id": "7a4ad437",
   "metadata": {
    "lines_to_next_cell": 0
   },
   "source": [
    "Recall that the confidence interval has the form\n",
    "$$\n",
    "\\hat{\\theta}\\pm SE_{\\hat{\\theta}}Z_{\\alpha/2}.\n",
    "$$\n",
    "In this case $\\hat{\\theta}=\\bar{x}_1-\\bar{x}_2$ and the $SE_{\\bar{x}_1-\\bar{x}_2}$ is \n",
    "$$\n",
    "SE_{\\bar{x}}=\\sqrt{\\frac{s_1^2}{n_1}+\\frac{s_2^2}{n_2}}\n",
    "$$\n",
    "and $Z_{\\alpha/2}=1.96$.\n",
    "\n",
    "**Solution:**\\"
   ]
  },
  {
   "cell_type": "code",
   "execution_count": 6,
   "id": "2295cf5f",
   "metadata": {
    "lines_to_next_cell": 0
   },
   "outputs": [
    {
     "name": "stdout",
     "output_type": "stream",
     "text": [
      "-0.13246722545781822 0.30946160748029816\n"
     ]
    }
   ],
   "source": [
    "df = pandas.read_csv(\"../DATA/star_trek_data.csv\")\n",
    "\n",
    "df_tos = df[df[\"Series\"]==\"TOS\"]\n",
    "df_tng = df[df[\"Series\"]==\"TNG\"]\n",
    "\n",
    "xbar_tos = df_tos[\"IMDB.Ranking\"].mean()\n",
    "var_tos = df_tos[\"IMDB.Ranking\"].var()\n",
    "n_tos = df_tos.shape[0]\n",
    "\n",
    "xbar_tng = df_tng[\"IMDB.Ranking\"].mean()\n",
    "var_tng = df_tng[\"IMDB.Ranking\"].var()\n",
    "n_tng = df_tng.shape[0]\n",
    "\n",
    "SE = numpy.sqrt(var_tos/n_tos+var_tng/n_tng)\n",
    "\n",
    "UCL = (xbar_tos-xbar_tng)+1.96*SE\n",
    "\n",
    "LCL = (xbar_tos-xbar_tng)-1.96*SE\n",
    "\n",
    "print(LCL,UCL)"
   ]
  },
  {
   "cell_type": "markdown",
   "id": "126156d1",
   "metadata": {},
   "source": [
    " \n",
    " "
   ]
  },
  {
   "cell_type": "markdown",
   "id": "30e8fdbe",
   "metadata": {
    "lines_to_next_cell": 0
   },
   "source": [
    "## Worksheet Practical Question 3\n",
    "Find the proportion of *Star Trek: The Next Generation* epsiodes that pass the Bechdel-Wallace test.\n",
    "\n",
    "Find the $0.95\\%$ confidence interval for the proportion of *Star Trek: The Next Generation* episodes that pass the Bechdel-Wallace Test."
   ]
  },
  {
   "cell_type": "code",
   "execution_count": null,
   "id": "4e12cd40",
   "metadata": {
    "lines_to_next_cell": 0,
    "name": "q4"
   },
   "outputs": [],
   "source": [
    "df = pandas.read_csv(\"../DATA/star_trek_data.csv\")\n"
   ]
  },
  {
   "cell_type": "markdown",
   "id": "f1adc46a",
   "metadata": {
    "lines_to_next_cell": 0
   },
   "source": [
    "Recall that the confidence interval has the form\n",
    "$$\n",
    "\\hat{\\theta}\\pm SE_{\\hat{\\theta}}Z_{\\alpha/2}.\n",
    "$$\n",
    "In this case $\\hat{\\theta}=\\hat{p}$ and the $SE_{\\hat{p}}$ is \n",
    "$$\n",
    "SE_{\\hat{p}}=\\sqrt{\\frac{\\hat{p}(1-\\hat{p})}{n}}\n",
    "$$\n",
    "and $Z_{\\alpha/2}=1.96$.\n",
    "\n",
    "**Solution:**\\"
   ]
  },
  {
   "cell_type": "code",
   "execution_count": 7,
   "id": "04e557de",
   "metadata": {
    "lines_to_next_cell": 0
   },
   "outputs": [
    {
     "name": "stdout",
     "output_type": "stream",
     "text": [
      "0.3408333363399306 0.782762169278047\n"
     ]
    }
   ],
   "source": [
    "df = pandas.read_csv(\"../DATA/star_trek_data.csv\")\n",
    "\n",
    "df_tng = df[df[\"Series\"]==\"TNG\"]\n",
    "\n",
    "p_tng = df_tng[\"Bechdel.Wallace.Test\"].value_counts(normalize = True)[0]\n",
    "n_tng = df_tng.shape[0]\n",
    "\n",
    "SE<-numpy.sqrt(p_tng*(1-p_tng)/n_tng)\n",
    "\n",
    "UCL = p_tng+1.96*SE\n",
    "\n",
    "LCL = p_tng-1.96*SE\n",
    "print(LCL,UCL)"
   ]
  },
  {
   "cell_type": "markdown",
   "id": "f594503e",
   "metadata": {},
   "source": [
    " \n",
    " "
   ]
  },
  {
   "cell_type": "markdown",
   "id": "68d5006d",
   "metadata": {},
   "source": [
    "## Worksheet Practical Question 4\n",
    "\n",
    "Find the overall proportion of episodes that pass the Bechdel-Wallace test, and the proportion of *Star Trek: The Next Generation* epsiodes that pass the Bechdel-Wallace test.\n",
    "\n",
    "Fnd the $95\\%$ confidence interval for the difference in proportions between *Star Trek: The Next Generation* and *Star Trek: Voyager*. "
   ]
  },
  {
   "cell_type": "code",
   "execution_count": null,
   "id": "a5b2cc53",
   "metadata": {
    "name": "q5"
   },
   "outputs": [],
   "source": [
    "df = pandas.read_csv(\"../DATA/star_trek_data.csv\")\n",
    "\n"
   ]
  },
  {
   "cell_type": "markdown",
   "id": "1675d698",
   "metadata": {
    "lines_to_next_cell": 0
   },
   "source": [
    "Recall that the confidence interval has the form\n",
    "$$\n",
    "\\hat{\\theta}\\pm SE_{\\hat{\\theta}}Z_{\\alpha/2}.\n",
    "$$\n",
    "In this case $\\hat{\\theta}=\\hat{p}_1-\\hat{p}_2$ and $SE_{\\hat{p}_1-\\hat{p}_2}$ is\n",
    "$$\n",
    "SE_{\\hat{p}_1-\\hat{p}_2}=\\sqrt{\\frac{\\hat{p}_1(1-\\hat{p}_1)}{n_1}+\\frac{\\hat{p}_2(1-\\hat{p}_2)}{n_2}}\n",
    "$$\n",
    "and $Z_{\\alpha/2}$ is 1.96.\n",
    "\n",
    "**Solution:**\\"
   ]
  },
  {
   "cell_type": "code",
   "execution_count": 8,
   "id": "02728cb9",
   "metadata": {
    "lines_to_next_cell": 0
   },
   "outputs": [
    {
     "name": "stdout",
     "output_type": "stream",
     "text": [
      "0.18385659215388409 0.6257854250920005\n"
     ]
    }
   ],
   "source": [
    "df = pandas.read_csv(\"../DATA/star_trek_data.csv\")\n",
    "\n",
    "df_tng = df[df[\"Series\"]==\"TNG\"]\n",
    "df_voy = df[df[\"Series\"]==\"VOY\"]\n",
    "\n",
    "p_tng = df_tng[\"Bechdel.Wallace.Test\"].value_counts(normalize = True)[0]\n",
    "n_tng = df_tng.shape[0]\n",
    "\n",
    "p_voy = df_voy[\"Bechdel.Wallace.Test\"].value_counts(normalize = True)[0]\n",
    "n_voy = df_voy.shape[0]\n",
    "\n",
    "\n",
    "SEnu = numpy.sqrt(p_tng*(1-p_tng)/n_tng)+(p_voy*(1-p_voy)/n_voy)\n",
    "\n",
    "UCL = (p_tng-p_voy)+1.96*SE  ##  Upper Confidence Limit\n",
    "\n",
    "LCL = (p_tng-p_voy)-1.96*SE  ##  Lower Confidence Limit\n",
    "\n",
    "print(LCL,UCL)"
   ]
  },
  {
   "cell_type": "markdown",
   "id": "f438dc83",
   "metadata": {},
   "source": [
    " \n",
    "\n",
    " "
   ]
  },
  {
   "cell_type": "markdown",
   "id": "68741545",
   "metadata": {},
   "source": [
    "##    Additional Questions for Practice\n",
    "\n",
    "Load the `epa_data` and answer the following:\n",
    "\n",
    "1.    Find the $95\\%$ confidence interval for the average city fuel economy of cars produces in 1990."
   ]
  },
  {
   "cell_type": "code",
   "execution_count": null,
   "id": "6440cc8e",
   "metadata": {
    "name": "q6"
   },
   "outputs": [],
   "source": [
    "df = pandas.read_csv(\"../DATA/epa_data.csv\")\n"
   ]
  },
  {
   "cell_type": "markdown",
   "id": "13ed0f15",
   "metadata": {},
   "source": [
    "**Solution:**\\"
   ]
  },
  {
   "cell_type": "code",
   "execution_count": 9,
   "id": "28c60a20",
   "metadata": {
    "lines_to_next_cell": 0,
    "name": "q6-solution"
   },
   "outputs": [
    {
     "name": "stdout",
     "output_type": "stream",
     "text": [
      "16.76329100170592 17.30349935079872\n"
     ]
    }
   ],
   "source": [
    "df = pandas.read_csv(\"../DATA/epa_data.csv\")\n",
    "\n",
    "df_1990 = df[df[\"year\"]==1990]\n",
    "\n",
    "xbar = df_1990[\"city\"].mean()\n",
    "s = df_1990[\"city\"].std()\n",
    "n = df_1990.shape[0]\n",
    "\n",
    "LCL = xbar-1.96*(s/numpy.sqrt(n))\n",
    "UCL = xbar+1.96*(s/numpy.sqrt(n))\n",
    "\n",
    "print(LCL,UCL)\n"
   ]
  },
  {
   "cell_type": "markdown",
   "id": "24f2738e",
   "metadata": {},
   "source": [
    "2.    Find the $95\\%$ confidence interval for the difference between the average city and highway fuel economy for cars produced in 1990."
   ]
  },
  {
   "cell_type": "code",
   "execution_count": null,
   "id": "2f0a1399",
   "metadata": {
    "name": "q7"
   },
   "outputs": [],
   "source": [
    "df = pandas.read_csv(\"../DATA/epa_data.csv\")\n"
   ]
  },
  {
   "cell_type": "markdown",
   "id": "0a758f0d",
   "metadata": {},
   "source": [
    "**Solution:**\\"
   ]
  },
  {
   "cell_type": "code",
   "execution_count": 10,
   "id": "84fa9f69",
   "metadata": {
    "lines_to_next_cell": 2,
    "name": "q7-solution"
   },
   "outputs": [
    {
     "name": "stdout",
     "output_type": "stream",
     "text": [
      "-5.736889029941181 -4.871645292878854\n"
     ]
    }
   ],
   "source": [
    "df = pandas.read_csv(\"../DATA/epa_data.csv\")\n",
    "\n",
    "df = df[df[\"year\"]==1990]\n",
    "\n",
    "xbar_city = df[\"city\"].mean()\n",
    "var_city = df[\"city\"].var()\n",
    "n_city = df.shape[0]\n",
    "\n",
    "xbar_hwy = df[\"hwy\"].mean()\n",
    "var_hwy = df[\"hwy\"].var()\n",
    "n_hwy = df.shape[0]\n",
    "\n",
    "SE = numpy.sqrt(var_hwy/n_hwy+var_city/n_city)\n",
    "\n",
    "LCL = (xbar_city-xbar_hwy)-1.96*SE\n",
    "UCL = (xbar_city-xbar_hwy)+1.96*SE\n",
    "\n",
    "print(LCL,UCL)"
   ]
  },
  {
   "cell_type": "markdown",
   "id": "224a14fb",
   "metadata": {},
   "source": [
    "3.    Find the $95\\%$ confidence interval for the proportion of cars produced with manual transmissions in 1990. "
   ]
  },
  {
   "cell_type": "code",
   "execution_count": null,
   "id": "62e669ed",
   "metadata": {
    "name": "q8"
   },
   "outputs": [],
   "source": [
    "df = pandas.read_csv(\"../DATA/epa_data.csv\")\n"
   ]
  },
  {
   "cell_type": "markdown",
   "id": "e1ce5dc6",
   "metadata": {},
   "source": [
    "**Solution:**\\"
   ]
  },
  {
   "cell_type": "code",
   "execution_count": 11,
   "id": "455cf654",
   "metadata": {
    "name": "q8-solution"
   },
   "outputs": [
    {
     "name": "stdout",
     "output_type": "stream",
     "text": [
      "0.4063900612026801 0.4655950964967633\n"
     ]
    }
   ],
   "source": [
    "df = pandas.read_csv(\"../DATA/epa_data.csv\")\n",
    "df_1990 = df[df[\"year\"]==1990]\n",
    "\n",
    "phat = df_1990[\"trans\"].value_counts(normalize = True)[1]\n",
    "\n",
    "SE = numpy.sqrt(phat*(1-phat)/n)\n",
    "\n",
    "LCL = phat-1.96*SE\n",
    "UCL = phat+1.96*SE\n",
    "\n",
    "print(LCL,UCL)\n"
   ]
  },
  {
   "cell_type": "markdown",
   "id": "cdee1a6c",
   "metadata": {},
   "source": [
    "4.    Find the $95\\%$ confidence interval for the difference between the proportion of cars produced with manual transmissions for the years 1990 and 2010. "
   ]
  },
  {
   "cell_type": "code",
   "execution_count": null,
   "id": "46d07579",
   "metadata": {
    "name": "q9"
   },
   "outputs": [],
   "source": [
    "df = pandas.read_csv(\"../DATA/epa_data.csv\")\n"
   ]
  },
  {
   "cell_type": "code",
   "execution_count": 12,
   "id": "ca4ea49e",
   "metadata": {
    "name": "q9-solution"
   },
   "outputs": [
    {
     "name": "stdout",
     "output_type": "stream",
     "text": [
      "0.15361545023191714 0.2314445496677066\n"
     ]
    }
   ],
   "source": [
    "df = pandas.read_csv(\"../DATA/epa_data.csv\")\n",
    "df_1990 = df[df[\"year\"]==1990]\n",
    "df_2010 = df[df[\"year\"]==2010]\n",
    "\n",
    "phat_1990 = df_1990[\"trans\"].value_counts(normalize = True)[1]\n",
    "phat_2010 = df_2010[\"trans\"].value_counts(normalize = True)[1]\n",
    "n_1990 = df_1990.shape[0]\n",
    "n_2010 = df_2010.shape[0]\n",
    "\n",
    "SE = numpy.sqrt(phat_1990*(1-phat_1990)/n_1990+phat_2010*(1-phat_2010)/n_2010)\n",
    "\n",
    "LCL = (phat_1990-phat_2010)-1.96*SE\n",
    "UCL = (phat_1990-phat_2010)+1.96*SE\n",
    "\n",
    "print(LCL,UCL)"
   ]
  },
  {
   "cell_type": "code",
   "execution_count": null,
   "id": "e75aeb6d",
   "metadata": {},
   "outputs": [],
   "source": []
  }
 ],
 "metadata": {
  "jupytext": {
   "cell_metadata_filter": "tags,name,-all",
   "main_language": "python",
   "notebook_metadata_filter": "-all"
  },
  "kernelspec": {
   "display_name": "Python 3 (ipykernel)",
   "language": "python",
   "name": "python3"
  },
  "language_info": {
   "codemirror_mode": {
    "name": "ipython",
    "version": 3
   },
   "file_extension": ".py",
   "mimetype": "text/x-python",
   "name": "python",
   "nbconvert_exporter": "python",
   "pygments_lexer": "ipython3",
   "version": "3.9.13"
  }
 },
 "nbformat": 4,
 "nbformat_minor": 5
}
