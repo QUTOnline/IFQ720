{
 "cells": [
  {
   "cell_type": "markdown",
   "id": "39afe470-119e-44ce-b276-fc71c167917f",
   "metadata": {},
   "source": [
    "---\n",
    "title: \"IFQ720 Worksheet 3 - Sampling Distributions\"\n",
    "output:\n",
    "  html_document\n",
    "---"
   ]
  },
  {
   "cell_type": "code",
   "execution_count": null,
   "id": "fee6355e",
   "metadata": {
    "lines_to_next_cell": 2,
    "tags": [
     "remove_cell"
    ]
   },
   "outputs": [],
   "source": [
    "import pandas\n",
    "import plotnine\n",
    "import numpy\n",
    "import scipy\n",
    "import math\n",
    "#import warnings\n",
    "#warnings.filterwarnings(\"ignore\")\n",
    "from plotnine import *\n"
   ]
  },
  {
   "cell_type": "markdown",
   "id": "bba3a7cf",
   "metadata": {},
   "source": [
    "#    Sampling and Data Collections\n",
    "\n",
    "The first part of the readings this week deal with concepts of how to sample and collect data, as well as the distinction between observational and experimental data.\n",
    "\n",
    "-   Our interest in collecting data is to gain information about population-level characteristics\n",
    "we represent as **parameters** of the probability distribution.\n",
    "\n",
    "-   If a sample is *representative* of the population then sample statistics or statistics calculated from samples should be good estimates of the population-level parameters. \n",
    "\n",
    "-   We assume that observations are well-modelled as random variables.  This implies that samples are collections of random values from a population, and that an statistic that is calculated from a sample are also random variables.  \n",
    "\n",
    "-   Thus we can make probabilistic statements about the sample statistics with respect to the population as a basis for inference.  \n",
    "\n",
    "##    Observational versus Experimental Data\n"
   ]
  },
  {
   "cell_type": "markdown",
   "id": "c9e12d5c",
   "metadata": {},
   "source": [
    "###   Experimental Data\n",
    "\n",
    "-   The \"gold-standard\" for the collection of data is the designed experiment, typically as a *randomised controlled trial (RCT)*.  \n",
    "\n",
    "-   Subjects are selected and then randomly assigned either the treatment or a control (e.g. a placebo) and subjected to identical experimental conditions. \n",
    "\n",
    "-   As a result the effects of any other factors that might effect the experimental outcome are \"cancelled\" out across the treatment and control groups. \n",
    "\n",
    "-   Experimental outcomes can be assumed to be causally related to the treatment, i.e. one can infer that the variation is caused by the treatment, not merely correlated.  \n",
    "\n",
    "-   Data collected in there circumstances is referred to as **experimental data**. \n",
    "\n",
    " \n"
   ]
  },
  {
   "cell_type": "markdown",
   "id": "bb0da1b9",
   "metadata": {},
   "source": [
    "###   Observational Data\n",
    "\n",
    "-   In cases where it is impractical or impossible to design and conduct an experiment researchers have to rely on **observational data** collected by observation rather than design.  \n",
    "\n",
    "-   Example of this include the use of historic data sets (actually all data is historic) like government records.\n",
    "\n",
    "-   Observational data are typically much more common and much easier to obtain in comparison to experimental data. \n"
   ]
  },
  {
   "cell_type": "markdown",
   "id": "c29fef47",
   "metadata": {},
   "source": [
    "##    Sampling Methods\n",
    "\n",
    "There are multiple ways to collect data through sampling, most are based on some form of randomisation which is designed to eliminate potential sources of bias.  There are also systematic methods of sampling that can be much more economical and easy to implement, but by their nature are succeptible to bias and erroroneous interpretations. \n",
    "\n",
    "### Simple Random Sampling\n",
    " Simple random sampling is the most basic approach to sampling data, like the process outlined above for randomised controlled trials, in simple random a sample of size $n$ sample is constructed by selecting completely at random $n$ individuals from a population of size $N>>n$. "
   ]
  },
  {
   "cell_type": "markdown",
   "id": "13b4e822",
   "metadata": {},
   "source": [
    " **Example:**\\\n",
    "In a study designed to determine students preference for on-line versus in-person workshops QUT randomly selected 300 students and asked them to express their preference.  173 students stated that they preferred in-person workshops, 127 students stated that they preferred on-line workshops.\n",
    "\n",
    "This is an example of simple random sampling, as students were selected at random without regard to any of their characteristics or behaviours. "
   ]
  },
  {
   "cell_type": "markdown",
   "id": "1aedbb46",
   "metadata": {},
   "source": [
    "###   Stratified Random Sampling\n",
    "\n",
    "Stratified random sampling is a more sophisticated method of sampling designed take into account known information about the dempographic characteristics of a non-homogenous population.  In stratified random sampling the population is partitioned into discrete non-overlapping strata, and a simple random sample is taken from each stratum.  This type of stratification is known as *pre-stratification*. *Post-stratification* is when a sample is partitioned in strata post-facto and results can be re-weighted to reflect the dempgraphic makeup of the population. "
   ]
  },
  {
   "cell_type": "markdown",
   "id": "28ca02e0",
   "metadata": {},
   "source": [
    "**Example:**\\\n",
    "According to QUT records approximately 15% of students are international students,  30% of students from are domestic students who live outside the greater Brisbane area, and 55% of students live within the Greater Brisbane Area. In order to improve the accuraccy of the survey in the previous example, students are partitioned into three groups based on where the students live.  100 students are drawn at random from each group and asked their preference for on-line versus in-person workshops. \n",
    "\n",
    "This is an example of _pre-stratificastion_, the students are divided into groups _before_ they are sampled. "
   ]
  },
  {
   "cell_type": "markdown",
   "id": "3a202099",
   "metadata": {},
   "source": [
    "###   Cluster Sampling \n",
    "\n",
    "*Cluster sampling* is useful in cases where either the unit of analysis is a group of individuals, or access to information about individuals is difficult or impossible to obtain. In cluster sampling simple random sampling is applied to clusters or subsets of a population. "
   ]
  },
  {
   "cell_type": "markdown",
   "id": "c810f334",
   "metadata": {},
   "source": [
    "**Example:**\\\n",
    "Researchers are interested in household water usage as it varies over regions and gathering information from individuals households is expensive and time consuming.  Instead they use Statistical Local Areas (SLAs) to create clusters of households by geographic regions and sample data from the collection of clusters. \n",
    "\n",
    " "
   ]
  },
  {
   "cell_type": "markdown",
   "id": "f2e31755",
   "metadata": {},
   "source": [
    "###   Non-random sampling\n",
    "\n",
    "There are a variety of systematic or non-random sampling methods.  These methods have many caveats attached, but in some cases may be the only option available to gather any information about a population or phenomenon.  These methods include $1$ in $k$ systematic sampling where a random starting point is chosen for a sequence of observations and every subsequent $k$th observation is selected to comprise the sample. Other approaches include quota sampling, and convenience samples which are constrained by either the researchers decision on quota limits, or in the case of conveneince samples, respondent self-selection for participation. "
   ]
  },
  {
   "cell_type": "markdown",
   "id": "ddb3e875",
   "metadata": {},
   "source": [
    "**Example:**\\\n",
    " The User Reviews on IMDB are based on voluntary contributions, that is individuals choose to review shows. This is an example of convenience sampling where respondents self-select thus reviewers are not randomly selected or assigned a show or movie to review. \n",
    " \n",
    " Explain how this might bias or effect the results of user reviews?  \n",
    " \n",
    " What alternatives could be used to get a more accurate reflection of audience response to a show or movie?\n",
    " "
   ]
  },
  {
   "cell_type": "markdown",
   "id": "05c83c50",
   "metadata": {},
   "source": [
    "##    Sampling Distributions and the Central Limit Theorem\n",
    "\n",
    "Sample statistics as function of random variables are themselves random variables, and the resulting probability distribution of the sample statistic can be derived by several means:\n",
    "\n",
    "1.    Mathematical derivation directly from the underlying population probability distribution. \n",
    "2.    Heuristic or empirical deduction via numerical simulation where a large number of random samples from a populations are drawn and the empirical probability distribution is derived based on the empirical cumulative probability distribution function. \n",
    "3.    Asymptotic approximation, where under certain conditions there are theoretical grounds for inferring certain properties of the sampling distribution.  \n"
   ]
  },
  {
   "cell_type": "markdown",
   "id": "b4c610c7",
   "metadata": {},
   "source": [
    "###   The Central Limit Theorem (CLT)\n",
    "\n",
    "The first two methods mentioned above are not as common in practice as the reliance on asymptotic methods which rely in the central limit theorem:\n",
    "\n",
    "For a sample of size $n$ the as $n\\rightarrow\\infty$\n",
    "$$\n",
    "\\frac{\\sqrt{n}(\\bar{x}-\\mu)}{\\sigma}\\stackrel{p}{\\rightarrow} N(0,1)\n",
    "$$\n",
    "or as $n\\rightarrow\\infty$ we can assume that \n",
    "$$\n",
    "\\bar{x}\\sim N\\left(\\mu,\\frac{\\sigma^2}{n}\\right)\n",
    "$$\n",
    "in order to make probalistic statements about the sample statistic.  Notice that under the CLT, the sample mean converges in probability to the population mean, amking it an unbiased estimator of the population mean, but that the standard error of the estimator (SE),  $\\sigma/\\sqrt{n}$ converges to $0$.\n",
    "\n",
    " "
   ]
  },
  {
   "cell_type": "markdown",
   "id": "b01e90a4",
   "metadata": {
    "lines_to_next_cell": 0
   },
   "source": [
    "**Example:**\n",
    "A dairy produces packages of butter using a machine that is set to produce $250$ g block of butter with a standard deviation of $10$ g.  A sample of size $n=13$ blocks of butter produce an average weight of $\\bar{x} = 253$ g.  What is the probability of observing a sample average weight of $253$ g or more? \n",
    "\n",
    "Set up the solution by hand and use `Python` to compute the probability.\n",
    "<p style=\"font-size=5px\">&nbsp;</p>\n",
    "**Hint:** use the `scipy.stats` functions to compute the probability, but read the documentation to carefully to be sure it is returning the answer you need. \n",
    "<p style=\"font-size=5px\">&nbsp;</p>"
   ]
  },
  {
   "cell_type": "code",
   "execution_count": null,
   "id": "c2b169e5",
   "metadata": {
    "include": true,
    "lines_to_next_cell": 0,
    "name": "q1"
   },
   "outputs": [],
   "source": [
    "\n",
    "import scipy\n",
    "\n",
    "\n"
   ]
  },
  {
   "cell_type": "markdown",
   "id": "40b4bdef",
   "metadata": {},
   "source": [
    "\n",
    "\n"
   ]
  },
  {
   "cell_type": "markdown",
   "id": "d3df4556",
   "metadata": {},
   "source": [
    " **Solution:**\n",
    " \n",
    "The probability is \n",
    "$$\n",
    "Pr(\\bar{x}>253)\n",
    "$$\n",
    "which we can convert to a $Z$-score and compute\n",
    "$$\n",
    "Pr(\\bar{x}>253)=Pr\\left(Z>\\frac{\\bar{x}-\\mu}{\\sigma/\\sqrt{n}}\\right)\n",
    "$$\n",
    "$$\n",
    "Pr\\left(Z>\\frac{\\bar{x}-\\mu}{\\sigma/\\sqrt{n}}\\right)=Pr(Z>1.08)\n",
    "$$"
   ]
  },
  {
   "cell_type": "code",
   "execution_count": null,
   "id": "87780102",
   "metadata": {
    "lines_to_next_cell": 0
   },
   "outputs": [],
   "source": [
    "scipy.stats.norm.pdf(1.08)"
   ]
  },
  {
   "cell_type": "markdown",
   "id": "71644ae1",
   "metadata": {},
   "source": [
    "\n",
    " "
   ]
  },
  {
   "cell_type": "markdown",
   "id": "eb669925",
   "metadata": {},
   "source": [
    "## Sampling Distribution of a Sample Proportion\n",
    "\n",
    "The Central Limit Theorem applies to the sample mean, which is often the main characteristic of interest in our research.  But often we are interested instead in proportions of the population, and in that case we need to know the sampling distribution of a sample proportion.  \n",
    "\n"
   ]
  },
  {
   "cell_type": "markdown",
   "id": "f0963985",
   "metadata": {},
   "source": [
    "Assume that we collect a sample of size $n$ from a population and let $x$ be the number of members of that sample that possess some characteristic of interest. Based on the definition of the binomial distribution we can assume that\n",
    "$$\n",
    "\\hat{p}=\\frac{x}{n}\n",
    "$$\n",
    "is an estimate of the true proportion of the population $p$. From that defintion we can write that \n",
    "$$\n",
    "E(x) = np\\qquad\\mbox{and}\\qquad\\mbox{Var}(x) = np(1-p)\n",
    "$$\n",
    "thus from the properties of random variables and the expectation and variance\n",
    "$$\n",
    "E(\\hat{p}) = p\\qquad\\mbox{and}\\qquad\\mbox{Var}(\\hat{p}) = \\frac{p(1-p)}{n}.\n",
    "$$\n",
    "Because $x$ is the sum of independent Bernoulli trials, then we can apply the central limit theorem to the sample proportion and state that under certain conditions for $n$ and $p$\n",
    "$$\n",
    "\\hat{p}\\stackrel{p}{\\rightarrow}N\\left(p\\frac{p(1-p)}{n}\\right)\n",
    "$$\n",
    "the rule of thumb for the conditions on $p$ and $n$ are that if $np>5$ and $n(1-p)>5$ then we can assume that \n",
    "$$\n",
    "\\hat{p}\\sim N\\left(p,\\frac{p(1-p)}{n}\\right).\n",
    "$$\n",
    " \n"
   ]
  },
  {
   "cell_type": "markdown",
   "id": "ff3b3a0c",
   "metadata": {},
   "source": [
    "**Example**\n",
    "\n",
    "Assume that in Semester 2 of a sample of 100 QUT students living in the Greater Brisbane Area, 47 replied that they preferred on-line workshops.  Results of previous surveys from Semester 1 indicated that 35% of students preferred on-line workshops.  What is the probability of observing the proportion from Semester 2, or more given the Semester 1 results are accurate?\n",
    "<p style=\"font-size=5px\">&nbsp;</p>\n",
    "**Hint**: Use the property that the sample proportionis approximately Gaussian; be sure to check the assumptions.\n",
    "<p style=\"font-size=5px\">&nbsp;</p>\n",
    "\n",
    "**Solution:**\n",
    "\n",
    "From the data we can see that \n",
    "$$\n",
    "\\begin{align}\n",
    "\\hat{p}&=\\frac{x}{n}\\\\\n",
    "&=\\frac{47}{100}\\\\\n",
    "&=0.47\n",
    "\\end{align}\n",
    "$$\n",
    "$$\n",
    "np=(100)(0.47)=47,\\mbox{ and }n(1-p)=(100)(0.53)=53\n",
    "$$\n",
    "So the Gaussian assumption is valid\n",
    "$$\n",
    "Pr(\\hat{p}>p)=Pr(\\hat{p}>0.47)\n",
    "$$\n",
    "$$\n",
    "Pr(\\hat{p}>0.47)=Pr\\left(Z>\\frac{\\sqrt{n}(\\hat{p}-p)}{\\sqrt{p(1-p)}}\\right)\n",
    "$$\n",
    "$$\n",
    "Pr(Z>2.52)\n",
    "$$\n"
   ]
  },
  {
   "cell_type": "code",
   "execution_count": null,
   "id": "44ff5d83",
   "metadata": {},
   "outputs": [],
   "source": [
    "\n",
    "1-scipy.stats.norm.cdf(2.52)\n"
   ]
  },
  {
   "cell_type": "markdown",
   "id": "67b8dee2",
   "metadata": {},
   "source": [
    "$$\n",
    "Pr(Z>2.52)=0.006\n",
    "$$\n",
    " "
   ]
  },
  {
   "cell_type": "markdown",
   "id": "93427786",
   "metadata": {},
   "source": [
    "##    Assessing Normality\n",
    "\n",
    "Assessing normality, or at least some degree of normality in your data is an important task to determine the validity of your results when applying statistical tools of inference based on asymptotic properties of estimators.  \n",
    "\n",
    "###   Graphically Assessing Normality\n",
    "There are several tools available for graphically assessing the normality of the data:\n",
    "\n",
    "*   *Histograms* can be useful for an initial graphical summary of the data that reveals the basic shape of the distribution.  If the shape of the histogram deviates too much from a symmetric uni-modal shape, it can be assumed that the normality assumptions are not valid. \n",
    "*   *Boxplots* can be useful for showing both outliers and can often give a better picture of skew in the data than histograms. Extreme clusters of an excessive number of outliers can be evidence of non-normality. \n",
    "*   *Normal Probability Plots* are constructed by plotting the sorted data values against their expected $Z$-scores.  Data from a normal distribution should fall on a straight diagonal line.  If the data do not form an approximately straight diagonal line, this is evidence of non-normality. "
   ]
  },
  {
   "cell_type": "markdown",
   "id": "96a7c696",
   "metadata": {
    "lines_to_next_cell": 0
   },
   "source": [
    "**Example**\n",
    "\n",
    "A sample of size $n=100$ from an exponential distribution is plotted on a $q-q$ plot, a histogram and a boxplot,"
   ]
  },
  {
   "cell_type": "code",
   "execution_count": null,
   "id": "66d68597",
   "metadata": {
    "lines_to_next_cell": 0
   },
   "outputs": [],
   "source": [
    "tmp = pandas.DataFrame({\"y\":numpy.random.exponential(2,size = 100)})\n",
    "\n",
    "plot1 = (ggplot(tmp,aes(\"y\"))+geom_histogram(aes(y = after_stat(\"density\")),bins = 9)).draw();\n",
    "\n",
    "plot2 = (ggplot(tmp,aes(sample = \"y\"))+stat_qq()+stat_qq_line()).draw();\n",
    "\n",
    "plot3 = (ggplot(tmp,aes(y = \"y\", x = 0))+geom_boxplot()).draw();"
   ]
  },
  {
   "cell_type": "code",
   "execution_count": null,
   "id": "a0a3deb8",
   "metadata": {
    "lines_to_next_cell": 0
   },
   "outputs": [],
   "source": [
    "plot1"
   ]
  },
  {
   "cell_type": "code",
   "execution_count": null,
   "id": "dbaacabb",
   "metadata": {
    "lines_to_next_cell": 0
   },
   "outputs": [],
   "source": [
    "plot2"
   ]
  },
  {
   "cell_type": "code",
   "execution_count": null,
   "id": "5b471361",
   "metadata": {
    "lines_to_next_cell": 2
   },
   "outputs": [],
   "source": [
    "plot3"
   ]
  },
  {
   "cell_type": "markdown",
   "id": "360ec105",
   "metadata": {},
   "source": [
    "## Worksheet Practical Question 1\n",
    "\n",
    "An automotive battery producer makes a certain model of battery with an average life of 1110 days with a standard deviation of 80 days.  Given a sample of size $n=40$ find the probability that:\n",
    "\n",
    "*   The average battery for the sample is between 1100 and 1110 days"
   ]
  },
  {
   "cell_type": "code",
   "execution_count": null,
   "id": "306b5fb5",
   "metadata": {
    "name": "q1a"
   },
   "outputs": [],
   "source": [
    "##  Answer here!\n"
   ]
  },
  {
   "cell_type": "markdown",
   "id": "9ccc005e",
   "metadata": {},
   "source": [
    "*   The average battery life for the sample is greater than 1120 days"
   ]
  },
  {
   "cell_type": "code",
   "execution_count": null,
   "id": "ea78ed6a",
   "metadata": {
    "lines_to_next_cell": 0,
    "name": "q1b"
   },
   "outputs": [],
   "source": [
    "##  Answer here!\n"
   ]
  },
  {
   "cell_type": "markdown",
   "id": "0d69401f",
   "metadata": {},
   "source": [
    "*   The average battery life for the sample is less than 900"
   ]
  },
  {
   "cell_type": "code",
   "execution_count": null,
   "id": "6070b22a",
   "metadata": {
    "name": "q1c"
   },
   "outputs": [],
   "source": [
    "##  Answer here!\n"
   ]
  },
  {
   "cell_type": "markdown",
   "id": "d61279db",
   "metadata": {},
   "source": [
    "**Solutions:**\n",
    "\n",
    "Note that \n",
    "$$\n",
    "\\begin{align}\n",
    "\\bar{x}&\\sim N(1100,80^2)\\\\\n",
    "n&=40\\\\\n",
    "\\operatorname{E}(\\bar{x})&=1100\\\\\n",
    "\\operatorname{Var}(\\bar{x})=\\frac{80^2}{40}=160\n",
    "\\end{align}\n",
    "$$\n",
    "$$\n",
    "\\begin{align}\n",
    "Pr(1100<\\bar{x}<1110)&=Pr\\left(\\frac{1100-\\mu}{\\sigma/\\sqrt{n}}<\n",
    "\\frac{\\bar{x}-\\mu}{\\sigma/\\sqrt{n}}<\n",
    "\\frac{1110-\\mu}{\\sigma/\\sqrt{n}}\n",
    "\\right)\\\\\n",
    "&=Pr\\left(\\frac{1100-1110}{80/\\sqrt{40}}<\n",
    "Z<\n",
    "\\frac{1110-1110}{80/\\sqrt{40}}\\right)\\\\\n",
    "&=Pr\\left(0<Z<-0.79\\right)\\\\\n",
    "&=Pr(Z< 0 )-Pr(Z<-0.79)\n",
    "\\end{align}\n",
    "$$"
   ]
  },
  {
   "cell_type": "code",
   "execution_count": null,
   "id": "46c56b00",
   "metadata": {
    "lines_to_next_cell": 2
   },
   "outputs": [],
   "source": [
    "Z = -10/(80/numpy.sqrt(40))\n",
    "scipy.stats.norm.cdf(0)-scipy.stats.norm.cdf(Z)"
   ]
  },
  {
   "cell_type": "markdown",
   "id": "16efb89f",
   "metadata": {},
   "source": [
    "$$\n",
    "\\begin{align}\n",
    "Pr(\\bar{x}>1120)&=Pr\\left(\\frac{\\bar{x}-\\mu}{\\sigma/\\sqrt{n}}>\\frac{1120-\\mu}{\\sigma/\\sqrt{n}}\\right)\\\\\n",
    "&=Pr\\left(Z>\\frac{1120-1110}{80/\\sqrt{40}}\\right)\\\\\n",
    "&=Pr(Z> 0.79)\n",
    "\\end{align}\n",
    "$$"
   ]
  },
  {
   "cell_type": "code",
   "execution_count": null,
   "id": "d8cf0bb3",
   "metadata": {},
   "outputs": [],
   "source": [
    "Z = (1120-1110)/(80/numpy.sqrt(40))\n",
    "\n",
    "1-scipy.stats.norm.cdf(Z)"
   ]
  },
  {
   "cell_type": "markdown",
   "id": "6f8d4a5c",
   "metadata": {},
   "source": [
    "$$\n",
    "\\begin{align}\n",
    "Pr(\\bar{x}<900)&=Pr\\left(\\frac{\\bar{x}-\\mu}{\\sigma/\\sqrt{n}}<\n",
    "\\frac{900-\\mu}{\\sigma/\\sqrt{n}}\n",
    "\\right)\\\\\n",
    "&=Pr\\left(Z<\\frac{900-1110}{80/\\sqrt{40}}\n",
    "\\right)\\\\\n",
    "&=P(Z< -16.60 )\n",
    "\\end{align}\n",
    "$$"
   ]
  },
  {
   "cell_type": "code",
   "execution_count": null,
   "id": "bb773637",
   "metadata": {
    "lines_to_next_cell": 0
   },
   "outputs": [],
   "source": [
    "Z = (900-1110)/(80/numpy.sqrt(40))\n",
    "scipy.stats.norm.cdf(Z)"
   ]
  },
  {
   "cell_type": "markdown",
   "id": "7527b40a",
   "metadata": {},
   "source": [
    "\n",
    " \n",
    " \n"
   ]
  },
  {
   "cell_type": "markdown",
   "id": "6c8d2617",
   "metadata": {},
   "source": [
    "## Worksheet Practical Question 2\n",
    "Load the `star_trek_data` data and find the overall proportion of episodes that pass the Bechdel-Wallace test, and the proportion of *Star Trek: The Next Generation* episodes that pass the Bechdel-Wallace test.\n",
    "\n",
    "What is the probability that the sample proportion of $n=30$ *Star Trek: The Next Generation* episodes that pass the Bechdel-Wallace test is less than the average for all series? "
   ]
  },
  {
   "cell_type": "code",
   "execution_count": null,
   "id": "9f148618",
   "metadata": {
    "exercise.setup": "wpe-setup",
    "name": "q2a"
   },
   "outputs": [],
   "source": [
    "df = pandas.read_csv(\"../DATA/star_trek_data.csv\")\n"
   ]
  },
  {
   "cell_type": "markdown",
   "id": "6a5b9a1e",
   "metadata": {},
   "source": [
    "**Solution:**"
   ]
  },
  {
   "cell_type": "code",
   "execution_count": null,
   "id": "97c5f1fc",
   "metadata": {},
   "outputs": [],
   "source": [
    "df = pandas.read_csv(\"../DATA/star_trek_data.csv\")\n",
    "\n",
    "##  Proportion of all episodes that pass\n",
    "\n",
    "df.value_counts(\"Bechdel.Wallace.Test\",normalize = True)\n",
    "\n",
    "##  Proportion of TNG episodes that pass \n",
    "\n",
    "df[df[\"Series\"]==\"TNG\"].value_counts(\"Bechdel.Wallace.Test\",normalize = True)\n"
   ]
  },
  {
   "cell_type": "markdown",
   "id": "d3428af2",
   "metadata": {},
   "source": [
    "We can see that\n",
    "$$\n",
    "\\hat{p}\\sim N\\left(p,\\frac{p(1-p)}{n}\\right)\n",
    "$$\n",
    "where $p = 0.561$.  The question is \n",
    "$$\n",
    "\\begin{align}\n",
    "Pr(\\hat{p}<0.52)&=Pr\\left(\\frac{\\hat{p}-p}{\\sqrt{p(1-p)/n}}<\\frac{0.52-p}{\\sqrt{p(1-p)/n}}\n",
    "\\right)\\\\\n",
    "&=Pr\\left(\\frac{\\hat{p}-0.561}{\\sqrt{(0.561)(1-0.561)/30}}<\\frac{0.52-0.561}{\\sqrt{(0.438)(1-0.561)/30}}\n",
    "\\right)\\\\\n",
    "&=Pr\\left(Z<\\frac{-0.082}{0.091}\n",
    "\\right)\\\\\n",
    "&=Pr\\left(Z<-0.91\\right)\n",
    "\\end{align}\n",
    "$$"
   ]
  },
  {
   "cell_type": "code",
   "execution_count": null,
   "id": "7d0651b1",
   "metadata": {
    "lines_to_next_cell": 0
   },
   "outputs": [],
   "source": [
    "scipy.stats.norm.cdf(-0.91)"
   ]
  },
  {
   "cell_type": "markdown",
   "id": "9d50672f",
   "metadata": {},
   "source": [
    "\n",
    " \n",
    " \n"
   ]
  },
  {
   "cell_type": "markdown",
   "id": "8dd71726",
   "metadata": {
    "lines_to_next_cell": 0
   },
   "source": [
    "## Worksheet Practical Question 3\n",
    "\n",
    "Load the data files `epa_data` and `star_trek_data` and create $q-q$ plots, histograms, and boxplots for the variables `city` from `epa_data` and `IMDB.Ranking` from `star_trek_data`. "
   ]
  },
  {
   "cell_type": "code",
   "execution_count": null,
   "id": "5084d5b8",
   "metadata": {
    "exercise.setup": "wpe-setup",
    "lines_to_next_cell": 0,
    "name": "q3"
   },
   "outputs": [],
   "source": [
    "df_1 = pandas.read_csv(\"../DATA/star_trek_data.csv\")\n",
    "df_2 = pandas.read_csv(\"../DATA/epa_data.csv\")\n",
    "\n"
   ]
  },
  {
   "cell_type": "markdown",
   "id": "b0dc0263",
   "metadata": {},
   "source": [
    "Do either of these variables appear to be Gaussian? If not what distributions do they resemble (if any) from the previous examples?\n",
    "\n",
    "**Solution:**"
   ]
  },
  {
   "cell_type": "code",
   "execution_count": null,
   "id": "9baff533",
   "metadata": {
    "lines_to_next_cell": 0
   },
   "outputs": [],
   "source": [
    "\n",
    "df_1 = pandas.read_csv(\"../DATA/star_trek_data.csv\")\n",
    "df_2 = pandas.read_csv(\"../DATA/epa_data.csv\")\n",
    "\n",
    "\n",
    "### star_trek_data data\n",
    "\n",
    "(ggplot(df_1,aes(x = \"IMDB.Ranking\"))+\n",
    "  geom_histogram(aes(y = after_stat(\"density\"))))\n",
    "\n",
    "(ggplot(df_1,aes(sample = \"IMDB.Ranking\"))+\n",
    "  stat_qq()+stat_qq_line())\n",
    "\n",
    "(ggplot(df_1,aes(y = \"IMDB.Ranking\",x = 0))+\n",
    "  geom_boxplot())\n",
    "\n",
    "### epa_data\n",
    "\n",
    "(ggplot(df_2,aes(x = \"city\"))+\n",
    "  geom_histogram(aes(y = after_stat(\"density\"))))\n",
    "\n",
    "(ggplot(df_2,aes(sample = \"city\"))+\n",
    "  stat_qq()+stat_qq_line())\n",
    "\n",
    "(ggplot(df_2,aes(y = \"city\",x = 0))+\n",
    "  geom_boxplot())\n"
   ]
  },
  {
   "cell_type": "markdown",
   "id": "370717b9",
   "metadata": {},
   "source": [
    " "
   ]
  }
 ],
 "metadata": {
  "jupytext": {
   "cell_metadata_filter": "name,include,exercise.setup,tags,-all",
   "main_language": "python",
   "notebook_metadata_filter": "-all"
  },
  "kernelspec": {
   "display_name": "Python 3 (ipykernel)",
   "language": "python",
   "name": "python3"
  },
  "language_info": {
   "codemirror_mode": {
    "name": "ipython",
    "version": 3
   },
   "file_extension": ".py",
   "mimetype": "text/x-python",
   "name": "python",
   "nbconvert_exporter": "python",
   "pygments_lexer": "ipython3",
   "version": "3.9.13"
  }
 },
 "nbformat": 4,
 "nbformat_minor": 5
}
