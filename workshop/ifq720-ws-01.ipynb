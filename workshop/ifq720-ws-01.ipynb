{
 "cells": [
  {
   "cell_type": "markdown",
   "id": "506dd2b9-d658-4e12-ae64-84611bb00f66",
   "metadata": {},
   "source": [
    "---\n",
    "title: \"IFQ720 Worksheet 1 - Data Summaries\"\n",
    "output:\n",
    "  html_document\n",
    "---"
   ]
  },
  {
   "cell_type": "code",
   "execution_count": null,
   "id": "89e77e66",
   "metadata": {
    "lines_to_next_cell": 2,
    "tags": [
     "remove_cell"
    ]
   },
   "outputs": [],
   "source": [
    "import pandas\n",
    "import plotnine\n",
    "import numpy\n",
    "import scipy\n",
    "import math\n",
    "from plotnine import *\n"
   ]
  },
  {
   "cell_type": "markdown",
   "id": "4bc97ba6",
   "metadata": {},
   "source": [
    "#    Best Practices for Graphical Summaries of Data\n",
    "\n",
    "Depending on how we create graphical depictions of data, we can alter the viewer's impression of the data; in other words, if a picture is worth a thousand words, then how we make the picture can change the story.  Ideally, we want our graphical summaries to be as objective as possible; we want the data to speak for themselves.  There are no hard and fast rules for creating graphical summaries. Still, there are some basic principles to follow^[There are more specific \"rules\" that might occur to you or you might read elsewhere, but in general, these principles are intended to encourage good practice in making clear, accurate, and objective representations of the data.].  \n",
    "\n",
    "* Always have a title for your graphical summary. Titles should accurately describe the variables and the relationship shown in the summary.  If one of the axes is time or the data are for a specific period, that should be in the title. \n",
    "* Clearly label the axes and include units.\n",
    "* When comparing two data sets, the axes for each summary should match. \n",
    "\n",
    "Other principles and rules of thumb apply to specific types of plots that we will address as we work through these workshop exercises. \n",
    "\n",
    "##   Lecture Examples  \n",
    "Let's examine choices that we can make with the examples from Week 1. \n",
    "and load the epa_data dataset."
   ]
  },
  {
   "cell_type": "code",
   "execution_count": null,
   "id": "5cb777dd",
   "metadata": {
    "lines_to_next_cell": 2,
    "message": false
   },
   "outputs": [],
   "source": [
    "epa_data = pandas.read_csv(\"../DATA/epa_data.csv\")"
   ]
  },
  {
   "cell_type": "markdown",
   "id": "4608ed9b",
   "metadata": {},
   "source": [
    "##   Creating the Pareto Plot\n",
    "To create the Pareto plot^[Named for Vilfredo Pareto https://en.wikipedia.org/wiki/Vilfredo_Pareto].  \n",
    "\n",
    "The simplest way to make a barplot is to just use <tt>geom_bar()</tt>:"
   ]
  },
  {
   "cell_type": "code",
   "execution_count": null,
   "id": "dff7d55a",
   "metadata": {
    "fig.fullwidth": true
   },
   "outputs": [],
   "source": [
    "mydata = (ggplot(epa_data,aes(x = 'make'))+\n",
    "  geom_bar(stat = \"count\")).draw();\n",
    "\n",
    "mydata"
   ]
  },
  {
   "cell_type": "markdown",
   "id": "c7a37b43",
   "metadata": {},
   "source": [
    "But this is ugly, first of all there are:"
   ]
  },
  {
   "cell_type": "code",
   "execution_count": null,
   "id": "68936e11",
   "metadata": {
    "lines_to_next_cell": 0
   },
   "outputs": [],
   "source": [
    "epa_data[\"make\"].nunique()"
   ]
  },
  {
   "cell_type": "markdown",
   "id": "39449903",
   "metadata": {},
   "source": [
    "One hundred thirty-eight different makes represented in the data set; this makes the $x$-axis unreadable.\n",
    "\n",
    "* What are some other problems with this chart?\n",
    "* What if any information can you gather from this chart?\n",
    "* What should you do to improve this chart and make it more informative?\n",
    "\n",
    "Note that it probably makes more sense to look at only the major manufacturers.\n",
    "The first step is to create a data structure we will call <tt>make_data</tt>^[Note that the command shown uses \"pipes\". The <tt>%>%</tt> symbol tells <tt>R</tt> to take the output of one command and input it into the next command, starting with the first command on the left and moving to the right.] which will contain the top ten most common makes of cars in <tt>epa_data</tt>."
   ]
  },
  {
   "cell_type": "code",
   "execution_count": null,
   "id": "a39886bf",
   "metadata": {
    "lines_to_next_cell": 0
   },
   "outputs": [],
   "source": [
    "\n",
    "manufacturer_list = epa_data['make'].value_counts().index.tolist()\n",
    "\n",
    "manufacturer_cat = pandas.Categorical(epa_data['make'], categories=manufacturer_list)\n",
    "\n",
    "manufacturer_count = epa_data['make'].value_counts().nlargest(5)\n",
    "\n",
    "# assign to a new column in the DataFrame\n",
    "\n",
    "df = epa_data.assign(manufacturer_cat = manufacturer_cat)\n",
    "df['count'] = df.groupby('make')['make'].transform('count')\n",
    "df = df[df.make.isin(manufacturer_count.index)]\n",
    "\n",
    "make_par = ((ggplot(df)\n",
    " + aes(x='manufacturer_cat')\n",
    " + geom_bar(size=20)\n",
    ")).draw();\n",
    "\n"
   ]
  },
  {
   "cell_type": "markdown",
   "id": "0f716227",
   "metadata": {},
   "source": [
    "Now let's see what the bar plot looks like"
   ]
  },
  {
   "cell_type": "code",
   "execution_count": null,
   "id": "f497f97a",
   "metadata": {},
   "outputs": [],
   "source": [
    "make_par"
   ]
  },
  {
   "cell_type": "markdown",
   "id": "155e1d31",
   "metadata": {},
   "source": [
    "Now, modify the code below, adding appropriate labels for the axes, and a title to the plot\\"
   ]
  },
  {
   "cell_type": "markdown",
   "id": "99ba3f1f",
   "metadata": {
    "lines_to_next_cell": 0
   },
   "source": [
    "**Hint:** The commands <code>xlab()</code>, <code>ylab()</code>, and <code>ggtitle()</code> can be used to label the axes and add a title. And the command <code>theme()</code> can be used to adjust the text size.\n",
    " \n",
    "<p style=\"font-size:5px\">&thinsp;</p>"
   ]
  },
  {
   "cell_type": "code",
   "execution_count": null,
   "id": "a26b7417",
   "metadata": {
    "exercise": true,
    "fig.fullwidth": true,
    "name": "q1"
   },
   "outputs": [],
   "source": [
    "manufacturer_list = epa_data['make'].value_counts().index.tolist()\n",
    "\n",
    "manufacturer_cat = pandas.Categorical(epa_data['make'], categories=manufacturer_list)\n",
    "\n",
    "manufacturer_count = epa_data['make'].value_counts().nlargest(5)\n",
    "\n",
    "# assign to a new column in the DataFrame\n",
    "\n",
    "df = epa_data.assign(manufacturer_cat = manufacturer_cat)\n",
    "df['count'] = df.groupby('make')['make'].transform('count')\n",
    "df = df[df.make.isin(manufacturer_count.index)]\n",
    "\n",
    "make_par = ((ggplot(df)\n",
    " + aes(x='manufacturer_cat')\n",
    " + geom_bar(size=20)\n",
    ")).draw();\n",
    "\n",
    "make_par"
   ]
  },
  {
   "cell_type": "code",
   "execution_count": null,
   "id": "4059af13",
   "metadata": {
    "name": "q1-solution"
   },
   "outputs": [],
   "source": [
    "manufacturer_list = epa_data['make'].value_counts().index.tolist()\n",
    "\n",
    "manufacturer_cat = pandas.Categorical(epa_data['make'], categories=manufacturer_list)\n",
    "\n",
    "manufacturer_count = epa_data['make'].value_counts().nlargest(5)\n",
    "\n",
    "# assign to a new column in the DataFrame\n",
    "\n",
    "df = epa_data.assign(manufacturer_cat = manufacturer_cat)\n",
    "df['count'] = df.groupby('make')['make'].transform('count')\n",
    "df = df[df.make.isin(manufacturer_count.index)]\n",
    "\n",
    "make_par = (ggplot(df)\n",
    " + aes(x='manufacturer_cat')\n",
    " + geom_bar(size=20)\n",
    " + labs(y='Count', x='Manufacturer', title='Number of Cars by Make') + \n",
    "ggtitle(\"Number of Models by Make for the Top 5 Manufacturers\")\n",
    ").draw();\n",
    "\n",
    "make_par"
   ]
  },
  {
   "cell_type": "markdown",
   "id": "5787ab9d",
   "metadata": {
    "lines_to_next_cell": 0
   },
   "source": [
    "##   Creating the Line Plot\n",
    "To create a line plot showing how EPA ratings for fuel economy while driving on the highway have changed we could simply use <tt>ggplot()</tt> to create a generic plot for <tt>epa_data</tt> with <tt>year</tt> for the $x$-axis and <tt>city</tt> for the $y$-axis. Then add a line with <tt>geom_line()</tt>."
   ]
  },
  {
   "cell_type": "code",
   "execution_count": null,
   "id": "71065e5f",
   "metadata": {
    "fig.fullwidth": true,
    "lines_to_next_cell": 0
   },
   "outputs": [],
   "source": [
    "ln_plt = (ggplot(epa_data,aes(x = \"year\", y = \"city\"))+\n",
    "  geom_line()\n",
    "  ).draw();\n",
    "\n",
    "\n",
    "ln_plt"
   ]
  },
  {
   "cell_type": "markdown",
   "id": "a09b89a5",
   "metadata": {},
   "source": [
    "But these results are confusing and difficult to understand,\n",
    "\n",
    "* What are some other problems with this chart?\n",
    "* What if any information can you gather from this chart?\n",
    "* What should you do to improve this chart and make it more informative?\n",
    "\n",
    "Modify the code below to plot the average and median values of <tt>city</tt> for each year and add appropriate title, and labels for the axes^[Try plotting the maximum value of <tt>city</tt> for each year.  What changes?].\\\n",
    "<br>"
   ]
  },
  {
   "cell_type": "markdown",
   "id": "a6566b5d",
   "metadata": {},
   "source": [
    "**Hint:** You might use<code>\n",
    "  stat_summary()\n",
    "  </code>to create the line of yearly averages and use commands <code>xlab()</code>, <code>ylab()</code>, and <code>ggtitle()</code> to label the axes and add a title. And the command <code>theme()</code> can be used to adjust the text size."
   ]
  },
  {
   "cell_type": "markdown",
   "id": "2f83cfe5",
   "metadata": {
    "lines_to_next_cell": 0
   },
   "source": [
    "<p style=\"font-size:5px\">&thinsp;</p>"
   ]
  },
  {
   "cell_type": "code",
   "execution_count": null,
   "id": "d9eeacc5",
   "metadata": {
    "exercise": true,
    "fig.fullwidth": true,
    "lines_to_next_cell": 2,
    "name": "q2"
   },
   "outputs": [],
   "source": [
    "##  Create a new data frame of the yearly means using groupby() adnd create a \n",
    "##  Line plot of the yearly averages and a second plot of the yearly median values\n",
    "##  of the city fuel economy\n",
    "\n",
    "yearly_city = \n"
   ]
  },
  {
   "cell_type": "code",
   "execution_count": null,
   "id": "fb538677",
   "metadata": {
    "name": "q2-solution"
   },
   "outputs": [],
   "source": [
    "\n",
    "df = epa_data.groupby(['year'])['city'].mean().reset_index()\n",
    "df_2 = epa_data.groupby(['year'])['city'].median().reset_index()\n",
    "df[\"median\"] = df_2[\"city\"]\n",
    "df = df.rename(columns = {\"city\": \"average\"})\n",
    "\n",
    "mean_mpg_year = (ggplot(df,aes(x = 'year', y = 'average'))+\n",
    "  geom_line()+\n",
    "  xlab(\"Year\")+\n",
    "  ylab(\"City MPG\")+\n",
    "  ggtitle(\"EPA Average City MPG by Year\")\n",
    "  ).draw();\n",
    "  \n",
    "med_mpg_year = (ggplot(df,aes(x = 'year', y = 'median'))+\n",
    "  geom_line()+\n",
    "  xlab(\"Year\")+\n",
    "  ylab(\"City MPG\")+\n",
    "  ggtitle(\"EPA Median City MPG by Year\")\n",
    "  ).draw();\n",
    "  \n",
    "mean_mpg_year\n",
    "med_mpg_year\n"
   ]
  },
  {
   "cell_type": "markdown",
   "id": "0a162c0b",
   "metadata": {},
   "source": [
    "##   Histograms\n",
    "\n",
    "The line plot shows the trends over time in the average EPA City fuel economy ratings. Still, if we want to look more closely at a specific year to see the distribution or density of EPA City fuel economy ratings, we need to use a histogram."
   ]
  },
  {
   "cell_type": "code",
   "execution_count": null,
   "id": "a212f9f4",
   "metadata": {
    "fig.fullwidth": true,
    "message": false
   },
   "outputs": [],
   "source": [
    "mpg_1990 = (ggplot(epa_data[epa_data['year'].isin([1990])],aes('city'))+\n",
    "  geom_histogram(aes(y=after_stat('density')), binwidth = 2)+\n",
    "  xlab(\"City MPG\")+\n",
    "  ylab(\"Relative Frequency\")+\n",
    "  ggtitle(\"EPA City MPG for 1990\")\n",
    "  ).draw();\n",
    "\n",
    "mpg_1990"
   ]
  },
  {
   "cell_type": "markdown",
   "id": "f8ef68c8",
   "metadata": {
    "lines_to_next_cell": 0
   },
   "source": [
    "Let's compare the histogram of <tt>city</tt> to <tt>hwy</tt>.  To do this, we will need to \"melt\" our table, so we have one variable that indicates whether the mileage is \"city\" or \"highway\"."
   ]
  },
  {
   "cell_type": "code",
   "execution_count": null,
   "id": "e0da3c39",
   "metadata": {
    "fig.fullwidth": true,
    "lines_to_next_cell": 0,
    "message": false,
    "warning": false
   },
   "outputs": [],
   "source": [
    "\n",
    "##  Create a new table with just the stuff we need.\n",
    "\n",
    "df = epa_data[epa_data.year.isin([1990])]\n",
    "df = df[[\"city\",\"hwy\"]].reset_index()\n",
    "df = pandas.melt(df,id_vars = [\"index\"],value_vars= [\"city\",\"hwy\"], var_name = \"type\", value_name = \"mpg\")\n",
    "\n",
    "\n",
    "melt = (\n",
    "  ggplot(df,aes('mpg'))+\n",
    "  geom_histogram(aes(y = after_stat('count')),binwidth = 2)+\n",
    "  facet_wrap('type',scales=\"fixed\")+\n",
    "  xlab(\"MPG\")+\n",
    "  ggtitle(\"MPG 1990\")\n",
    "  ).draw();\n",
    "\n",
    "melt\n",
    "\n"
   ]
  },
  {
   "cell_type": "markdown",
   "id": "dc473a09",
   "metadata": {},
   "source": [
    "Is this a fair comparison? What principles of good graphical summaries does this violate?\n",
    "\n",
    "* Identify what needs to be done to ensure that this plot conforms with the best principles for graphical summaries and make the changes.\n",
    "\n",
    "* Adjust the bin width for the two charts and see how this changes your interpretation of the data.\n",
    "<br>"
   ]
  },
  {
   "cell_type": "markdown",
   "id": "b79a95c7",
   "metadata": {},
   "source": [
    "**Hint:** Modify your code to plot the density rather than counts, this makes it more easy to compare city versus highway mileage.\n",
    " \n",
    "<p style=\"font-size:5px\">&thinsp;</p>"
   ]
  },
  {
   "cell_type": "code",
   "execution_count": null,
   "id": "bfbc19e5",
   "metadata": {
    "exercise": true,
    "name": "q3"
   },
   "outputs": [],
   "source": [
    "\n"
   ]
  },
  {
   "cell_type": "code",
   "execution_count": null,
   "id": "2e62e716",
   "metadata": {
    "lines_to_next_cell": 2,
    "name": "q3-solution"
   },
   "outputs": [],
   "source": [
    "mpg_1990 = (\n",
    "  ggplot(df,aes('mpg'))+\n",
    "  geom_histogram(aes(y = after_stat('count')),binwidth = 2)+\n",
    "  facet_wrap('type',scales=\"fixed\")+\n",
    "  xlab(\"MPG\")+\n",
    "  ggtitle(\"MPG 1990\")\n",
    "  ).draw();\n",
    "\n",
    "mpg_1990"
   ]
  },
  {
   "cell_type": "markdown",
   "id": "07fa6999",
   "metadata": {},
   "source": [
    "##    Concluding Remarks\n",
    "\n",
    "Graphical summaries may seem trivial and simplistic, but as you can see, it is easy to produce confusing or misleading graphical summaries; by adhering to the principles of good graphical summaries, you can avoid many problems.\n",
    "\n",
    "## Worksheet Practical Questions\n"
   ]
  },
  {
   "cell_type": "markdown",
   "id": "e2d87fe1",
   "metadata": {},
   "source": [
    "### Question 1\n",
    "\n",
    "If you wanted to compare the city fuel economy for manual versus automatic transmissions, what would you need to do, and which graphical summary would you use? Use ggplot to produce this graphical summary.\\\n",
    "<br>"
   ]
  },
  {
   "cell_type": "markdown",
   "id": "e4480b4d",
   "metadata": {
    "lines_to_next_cell": 0
   },
   "source": [
    "**Hint:** Like the example with city versus highway we would need to create a new data frame.\n",
    " \n",
    "<p style=\"font-size:5px\">&thinsp;</p>"
   ]
  },
  {
   "cell_type": "code",
   "execution_count": null,
   "id": "718e3bb6",
   "metadata": {
    "exercise": true,
    "name": "pq1"
   },
   "outputs": [],
   "source": [
    "# Answer here!\n",
    "\n",
    "df = epa_data[epa_data.year.isin([1990])]\n"
   ]
  },
  {
   "cell_type": "code",
   "execution_count": null,
   "id": "3e10cd03",
   "metadata": {
    "lines_to_next_cell": 0,
    "name": "pq1-solution"
   },
   "outputs": [],
   "source": [
    "\n",
    "df = epa_data[epa_data.year.isin([1990])]\n",
    "\n",
    "answer = (\n",
    "  ggplot(df,aes('city'))+\n",
    "  geom_histogram(aes(y = after_stat('density')),binwidth = 2)+\n",
    "  facet_wrap('trans',scales=\"fixed\")+\n",
    "  xlab(\"MPG\")+\n",
    "  ggtitle(\"MPG 1990\")\n",
    "  ).draw();\n",
    "\n",
    "answer"
   ]
  },
  {
   "cell_type": "markdown",
   "id": "a43c9752",
   "metadata": {},
   "source": [
    "\n",
    " "
   ]
  },
  {
   "cell_type": "markdown",
   "id": "222f4e94",
   "metadata": {},
   "source": [
    "### Question 2\n",
    "\n",
    "If you wanted to explore the how engine displacement changed over time, what type of graph or chart would you use and why? Use ggplot to produce this graphical summary.\\"
   ]
  },
  {
   "cell_type": "markdown",
   "id": "58702638",
   "metadata": {
    "lines_to_next_cell": 0
   },
   "source": [
    "**Hint:** As in the example, we need to use <tt>groupby()</tt> to create the plot.\n",
    " \n",
    "<p style=\"font-size:5px\">&thinsp;</p>"
   ]
  },
  {
   "cell_type": "code",
   "execution_count": null,
   "id": "aef451fe",
   "metadata": {
    "exercise": true,
    "name": "pq2"
   },
   "outputs": [],
   "source": [
    "# Answer here!\n"
   ]
  },
  {
   "cell_type": "code",
   "execution_count": null,
   "id": "6de82a93",
   "metadata": {
    "lines_to_next_cell": 0,
    "name": "pq2-solution"
   },
   "outputs": [],
   "source": [
    "yearly_disp = epa_data.groupby(['year'])['disp'].mean().reset_index()\n",
    "yearly_disp[\"average\"] = yearly_city[\"disp\"]\n",
    "\n",
    "mean_disp_year = (ggplot(yearly_disp,aes(x = 'year', y = 'disp'))+\n",
    "  geom_line()+\n",
    "  xlab(\"Year\")+\n",
    "  ylab(\"Displacement\")+\n",
    "  ggtitle(\"Engine Displacement by Year\")\n",
    "  )\n",
    "  \n",
    "yearly_city = epa_data.groupby(['year'])['city'].mean().reset_index()\n",
    "mean_mpg_year = (ggplot(yearly_city,aes(x = 'year', y = 'city'))+\n",
    "  geom_line()+\n",
    "  xlab(\"Year\")+\n",
    "  ylab(\"City MPG\")+\n",
    "  ggtitle(\"EPA City MPG by Year\")\n",
    "  )\n",
    "\n",
    "citplot = (ggplot(epa_data,aes(x = 'year', y = 'disp'))+\n",
    "stat_summary(fun = \"mean\", geom=\"line\")+\n",
    "xlab(\"Year\")+\n",
    "ylab(\"Average Engine Displacement (l)\")+\n",
    "ggtitle(\"Yearly Average Engine Displacement (l)\")\n",
    "       ).draw();\n",
    "\n",
    "citplot\n"
   ]
  },
  {
   "cell_type": "markdown",
   "id": "e7f83e9b",
   "metadata": {},
   "source": [
    "\n",
    " "
   ]
  },
  {
   "cell_type": "markdown",
   "id": "6c6533bc",
   "metadata": {},
   "source": [
    "### Question 3\n",
    "\n",
    "Is the Pareto plot in the example useful? What information does it give you? How could it be modified to identify which manufacturers made the most fuel-efficient cars? Use `city` to measure fuel economy."
   ]
  },
  {
   "cell_type": "markdown",
   "id": "72d57ade",
   "metadata": {},
   "source": [
    "**Hint:** As in the previous example we will meed to do some data manipulation using `pandas`\n",
    " \n",
    "<p style=\"font-size:5px\">&thinsp;</p>"
   ]
  },
  {
   "cell_type": "code",
   "execution_count": null,
   "id": "24514bda",
   "metadata": {
    "exercise": true,
    "name": "pq3"
   },
   "outputs": [],
   "source": [
    "# Answer here!\n"
   ]
  },
  {
   "cell_type": "code",
   "execution_count": null,
   "id": "c64f7c0d",
   "metadata": {
    "lines_to_next_cell": 0,
    "name": "pq3-solution"
   },
   "outputs": [],
   "source": [
    "\n",
    "df = epa_data[epa_data[\"year\"]==1990]\n",
    "\n",
    "df = df[{\"make\",\"city\"}].groupby(\"make\").mean().nlargest(10,\"city\")\n",
    "\n",
    "manufacturer = df.index.tolist()\n",
    "\n",
    "df  = df.reset_index()\n",
    "\n",
    "manufacturer = pandas.Categorical(df[\"make\"], categories = manufacturer)\n",
    "\n",
    "df.assign(manufacturer=manufacturer)\n",
    "\n",
    "manuf = (ggplot(df,aes(x=\"manufacturer\", y = \"city\"))+\n",
    "  geom_bar(stat = \"identity\")\n",
    ").draw();\n",
    "\n",
    "manuf\n"
   ]
  },
  {
   "cell_type": "markdown",
   "id": "d9646cd0",
   "metadata": {},
   "source": [
    "\n",
    " \n",
    "\n",
    "\n"
   ]
  }
 ],
 "metadata": {
  "jupytext": {
   "cell_metadata_filter": "name,warning,fig.fullwidth,message,exercise,tags,-all",
   "main_language": "python",
   "notebook_metadata_filter": "-all"
  },
  "kernelspec": {
   "display_name": "Python 3 (ipykernel)",
   "language": "python",
   "name": "python3"
  },
  "language_info": {
   "codemirror_mode": {
    "name": "ipython",
    "version": 3
   },
   "file_extension": ".py",
   "mimetype": "text/x-python",
   "name": "python",
   "nbconvert_exporter": "python",
   "pygments_lexer": "ipython3",
   "version": "3.9.13"
  }
 },
 "nbformat": 4,
 "nbformat_minor": 5
}
