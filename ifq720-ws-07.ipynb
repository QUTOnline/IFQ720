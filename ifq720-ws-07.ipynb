{
 "cells": [
  {
   "cell_type": "raw",
   "id": "3a7aedef",
   "metadata": {},
   "source": [
    "---\n",
    "title: \"IFQ720 Worksheet 05 - Analysis of Variance\"\n",
    "output:\n",
    "  html_document\n",
    "---"
   ]
  },
  {
   "cell_type": "markdown",
   "id": "465aa429",
   "metadata": {},
   "source": []
  },
  {
   "cell_type": "code",
   "execution_count": null,
   "id": "6e653a06",
   "metadata": {
    "tags": [
     "remove_cell"
    ]
   },
   "outputs": [],
   "source": [
    "import pandas\n",
    "import plotnine\n",
    "import numpy\n",
    "import scipy\n",
    "import math\n",
    "from plotnine import *\n"
   ]
  },
  {
   "cell_type": "markdown",
   "id": "008cc74a",
   "metadata": {},
   "source": [
    "#   Logistic Regression\n",
    "\n",
    "So far we have seen how to use linear regression to identify relationships between two continuous quantities. In many cases we are actually interested in the probability of an event occurring and how it is affected by other factors.  In order to study this we use logistic regression.  \n",
    "\n",
    "**Example: Understanding Risk Factors**\n",
    "\n",
    "In medicine, it is often of interest to determine factors that are associated with the occurence or non-occurence of an illness. For example we might ask ourselves if eating refined sugar is a risk factor for diabetes.  In order to understand this we would identify variables \n",
    "$$\n",
    "y \\left\\{\n",
    "\\begin{array}{cl}\n",
    "1& \\mbox{If a patient has diabetes}\\\\\n",
    "0& \\mbox{else}\n",
    "\\end{array}\n",
    "\\right.\n",
    "$$\n",
    "and\n",
    "$$\n",
    "x = \\mbox{amount of sugar consumed in grams/day}.\n",
    "$$\n",
    "We might then want to assume that \n",
    "$$\n",
    "p(x)=\\Pr(\\mbox{patient has diabetes})=f(x)\n",
    "$$ \n",
    "where $y$ is a Bernoulli random with probability $p(x)$,\n",
    "$$\n",
    "y\\sim Bern\\left(p(x)\\right).\n",
    "$$\n",
    "\n",
    "We will see in this module how to estimate the function $f(x)$ using logistic regression."
   ]
  },
  {
   "cell_type": "markdown",
   "id": "98a48ecd",
   "metadata": {},
   "source": [
    "##    Linear Regression for Binomial Data\n",
    "\n",
    "We have seen linear regression as a straightforward method of ``fitting\" a line to data in order to understand the linear relationship between to variables $y$ and $x$, i.e. we assume that \n",
    "$$\n",
    "y\\propto x.\n",
    "$$\n",
    "In the case where we are interested the relationship between $x$ and $\\Pr(y=1)$, we typically have a a set of observations of $y\\in [0,1]$ where \n",
    "$$\n",
    "\\Pr(y=1;x)=p(x)\n",
    "$$\n",
    "and the resulting probability mass function is\n",
    "$$\n",
    "Pr(y;x)=p(x)^y(1-p(x))^{1-y}.\n",
    "$$\n",
    "The resulting likelihood function the data $\\mathbf{y}=(y_1,\\ldots,y_n)$ and $\\mathbf{x}=(x_1,\\ldots,x_n)$\n",
    "$$\n",
    "L(p(x)|\\mathbf{y})=\\prod_{i=1}^np(x_i)^{y_i}(1-p(x_i))^{1-y_i}.\n",
    "$$\n",
    "Notice that we assume that $x_i\\in\\mathcal{R}$ but that $p(x_i)\\in (0,1)$, so we can't simply write \n",
    "$$\n",
    "p(x_i)=x_i\\beta\n",
    "$$\n",
    "without having some complicated restrictions on $\\beta$.  Instead we assume that \n",
    "\n",
    "$$\n",
    "p(x_i) = \\frac{\\exp(x_i\\beta)}{1+\\exp(x_i\\beta)}\n",
    "$$\n",
    "solving for $p_i=p(x_i)$ we get\n",
    "$$\n",
    "\\log\\left(\\frac{p_i}{1-p_i}\\right)=x_i\\beta.\n",
    "$$\n",
    "Note that it is possible to include an intercept and additional parameters in that case then we would write\n",
    "$$\n",
    "\\log\\left(\\frac{p_i}{1-p_i}\\right)=\\beta_0+\\sum_{j=1}^p\\beta_jx_{ij}\n",
    "$$\n",
    "\n",
    "**NOTE**\n",
    "\n",
    "Alternatively we can write\n",
    "$$\n",
    "p(x_i) = \\frac{1}{1+\\exp(-x_i\\beta)}.\n",
    "$$\n",
    "The function \n",
    "$$\n",
    "\\log\\left(\\frac{p}{1-p}\\right)\n",
    "$$\n",
    "is referred to as the _logit_ function, hence we call the regression problem \n",
    "$$\n",
    "\\log\\left(\\frac{p}{1-p}\\right)=x\\beta\n",
    "$$\n",
    "of estimating $\\beta$ _logistic regression_.\n"
   ]
  },
  {
   "cell_type": "markdown",
   "id": "238b85f6",
   "metadata": {},
   "source": [
    "##    Computing Results\n",
    "\n",
    "If we make the substitution of\n",
    "$$\n",
    "p(x_i) = \\frac{\\exp(x_i\\beta)}{1+\\exp(x_i\\beta)}\n",
    "$$\n",
    "into the likelihood function we can see that the result is quite cumbersome and an analytic solution is not available\n",
    "$$\n",
    "L(\\beta|\\mathbf{y})=\\prod_{i=1}^n\\left(\\frac{\\exp(x_i\\beta)}{1+\\exp(x_i\\beta)}\\right)\n",
    "^{y_i}\\left(\\frac{1}{1+\\exp(x_i\\beta)}\\right)^{1-y_i}.\n",
    "$$\n",
    "The solution to this can be written as \n",
    "$$\n",
    "\\hat{\\beta}=\\max_{\\beta}\\prod_{i=1}^n\\left(\\frac{\\exp(x_i\\beta)}{1+\\exp(x_i\\beta)}\\right)\n",
    "^{y_i}\\left(\\frac{1}{1+\\exp(x_i\\beta)}\\right)^{1-y_i}\n",
    "$$\n",
    "but this presents a challenge for finding an analytical solution.  Instead we rely on numerical techniques to find estimates of the model parameters. "
   ]
  },
  {
   "cell_type": "markdown",
   "id": "c1be2d86",
   "metadata": {},
   "source": [
    "### Example: Diabetes Risk Factor Modelling \n",
    "Diabetes is a chronic disease affecting millions of people around the world. Diabetes occurs when the body either can't produce or properly use insulin, a hormone that regulates blood sugar. Hyperglycemia, or elevated blood sugar can damage many vital organs and systems in the human body, increasing risks of heart attacks and strokes, blindness, poor circulation and potential loss of limbs, and kidney failure. \n",
    "\n",
    "The Pima Indian Diabetes Data Set consists of 768 observations of 9 variables:\n",
    "\n",
    "`pregnant`\tNumber of times pregnant\n",
    "\n",
    "`glucose`\tPlasma glucose concentration (glucose tolerance test)\n",
    "\n",
    "`pressure`\tDiastolic blood pressure (mm Hg)\n",
    "\n",
    "`triceps`\tTriceps skin fold thickness (mm)\n",
    "\n",
    "`insulin`\t2-Hour serum insulin (mu U/ml)\n",
    "\n",
    "`mass`\tBody mass index (weight in kg/(height in m)\\^2)\n",
    "\n",
    "`pedigree`\tDiabetes pedigree function\n",
    "\n",
    "`age`\tAge (years)\n",
    "\n",
    "`diabetes`\tClass variable (test for diabetes)"
   ]
  },
  {
   "cell_type": "markdown",
   "id": "5c02d0e4",
   "metadata": {},
   "source": [
    "Fit a logistic regression model to determine which of these various factors affect the probability that an individual in the data set has diabetes. "
   ]
  },
  {
   "cell_type": "markdown",
   "id": "d6f9dd28",
   "metadata": {},
   "source": [
    "#### Solution\n",
    "\n",
    "A logistic regression model is a good choice to fit this data.  The response variable is \n",
    "\\begin{align}\n",
    "y=& \\left\\{\\begin{array}{cc}\n",
    "1,& \\text{if the patient has diabetes}\\\\\n",
    "0, & \\text {if the patient doesn't have diabetes}\n",
    "\\end{array}\\right.\n",
    "\\end{align} \n",
    "and the covariates are on continuous numeric scales (with the exception of age).\n",
    "\n",
    "The resulting model will be\n",
    "$$\n",
    "\\log\\left(\\frac{p_i}{1-p_i}\n",
    "\\right)=\\beta_0+\\beta_1x_{i1}+\\beta_2x_{i2}\\dots\\beta_8x_{i8}\n",
    "$$\n",
    "with the likelihood function\n",
    "$$\n",
    "L(\\mathbf{\\beta}|\\mathbf{y})=\\prod_{i=1}^n\\left(\\frac{\\exp\\left(\\beta_0+\\sum_{j=1}^8\\beta_jx_{ij}\\right)}{1+\\exp\\left(\\beta_0+\\sum_{j=1}^8\\beta_jx_{ij}\\right)}\\right)^{y_i}\\left(1-\\frac{\\exp\\left(\\beta_0+\\sum_{j=1}^8\\beta_jx_{ij}\\right)}{1+\\exp\\left(\\beta_0+\\sum_{j=1}^8\\beta_jx_{ij}\\right)}\n",
    "\\right)^{1-y_i}.\n",
    "$$\n",
    "Of course solving this requires using a software based solution to use a numerical optimisation routine.\n",
    "\n",
    "#### Code"
   ]
  },
  {
   "cell_type": "code",
   "execution_count": null,
   "id": "1124fea4",
   "metadata": {
    "lines_to_next_cell": 0
   },
   "outputs": [],
   "source": [
    "\n",
    "import statsmodels\n",
    "\n",
    "##  We load the data from a CSV file\n",
    "##  Note that the variable diabetes has been coded as a 0-1 variable\n",
    "\n",
    "df = pandas.read_csv(\"../DATA/diabetes.csv\")\n",
    "\n",
    "##  We fit the model using the XXXX function\n",
    "\n",
    "model = statsmodels.formula.api.logit('diabetes~pregnant+glucose+pressure+triceps+insulin+mass+pedigree+age',df) \n",
    "\n",
    "res = model.fit()\n",
    "\n",
    "res.summary()\n"
   ]
  },
  {
   "cell_type": "markdown",
   "id": "748e5d62",
   "metadata": {},
   "source": []
  },
  {
   "cell_type": "markdown",
   "id": "5ceb9200",
   "metadata": {},
   "source": [
    "##    Interpreting Results\n",
    "\n",
    "The results from linear regression have relatively straightforward interpretations. The parameters of the linear model are easily interpretable as the coefficients describing the linear relationships between dependent and independent variables. The results for a logistic regression are a bit more difficult as the linear relationship between the variables are between a non-linear function of the dependent variable and the independent variables.  In order to provide a means of interpreting the coefficients of the logistic regression we first define the concept of odds. "
   ]
  },
  {
   "cell_type": "markdown",
   "id": "947cff8d",
   "metadata": {},
   "source": [
    "###   Odds\n",
    "Odds are defined as the ratio of a probability and its compliment.  For example, consider an event $A$, the odds of $A$ are\n",
    "$$\n",
    "\\text{Odds of $A$}=\\frac{\\Pr(A)}{1-\\Pr(A)}.\n",
    "$$\n",
    "The odds are interpreted as a ratio in terms of ``for'' and ``against''.  For example if the odds of $A$ are 2, then we would say that the odds are 2 to 1 in favor of $A$, in other words the probability that $A$ occurs is twice the probability that $A$ _doesn't_ occur.  \n",
    "\n",
    "We can solve for $\\Pr(A)$ algebraically as follows.  Assuming the odds of $A$ are $2$ \n",
    "\\begin{align}\n",
    "2&=\\frac{\\Pr(A)}{1-\\Pr(A)}\\\\\n",
    "\\frac{1}{2}&=\\frac{1-\\Pr(A)}{\\Pr(A)}\\\\\n",
    "\\frac{3}{2}&=\\frac{1}{\\Pr(A)}\\\\\n",
    "\\frac{2}{3}&=\\Pr(A)\n",
    "\\end{align}\n",
    "\n",
    "### Logistic Regression Coefficients\n",
    "\n",
    "We can see immediately that the linear relationship in the logistic regression model is between the _log_ of the odds and the independent variables.  It is natural then to assume that if we expotentiate both sides of the equation we can interpret the effects on the odds\n",
    "$$\n",
    "\\begin{align}\n",
    "\\log\\left(\\frac{p_i}{1-p_i}\\right) &= \\beta_0+\\beta_1x_{1i}+\\cdots +\\beta_Kx_{iK}\\\\\n",
    "\\frac{p_i}{1-p_i}&=\\exp\\left(\\beta_0+\\beta_1x_{1i}+\\cdots +\\beta_Kx_{iK}\\right)\\\\\n",
    "\\frac{p_i}{1-p_i}&=e^{\\beta_0}e^{\\beta_1x_{1i}}\\cdots e^{\\beta_Kx_{ki}}.\n",
    "\\end{align}\n",
    "$$\n",
    "The interpretation is that a unit increase in an independent variable increases the odds (i.e. the probability of an event) by a factor of $\\exp{\\beta_K}$.  \n",
    "\n",
    "\n",
    "\n",
    "    $\\beta$    $\\exp(\\beta)$     $\\Delta X/\\Delta \\Pr(A)$\n",
    " ----------- ----------------- --------------------------------\n",
    "  $\\beta<0$   $\\exp{\\beta}<1$   $x\\uparrow$ $\\Pr(A)\\downarrow$ \n",
    "  $\\beta>0$   $\\exp(\\beta)>1$   $x\\uparrow$ $\\Pr(A)\\uparrow$ \n",
    "  $\\beta=0$   $\\exp(\\beta)=0$   $x\\uparrow$ no change \n",
    " "
   ]
  },
  {
   "cell_type": "markdown",
   "id": "e2cf3cf1",
   "metadata": {},
   "source": [
    "These results give us a means of interpreting the coefficients of a logistic regression model. Note that as the odds of $A$ increase, so does $\\Pr(A)$, so the general interpretation of the coefficients applys to $\\Pr(A)$. \n"
   ]
  },
  {
   "cell_type": "markdown",
   "id": "89894e4a",
   "metadata": {},
   "source": [
    "###   Diabetes Risk Factor Modelling \n",
    "Diabetes is a chronic disease affecting millions of people around the world. Diabetes occurs when the body either can't produce or properly use insulin, a hormone that regulates blood sugar. Hyperglycemia, or elevated blood sugar can damage many vital organs and systems in the human body, increasing risks of heart attacks and strokes, blindness, poor circulation and potential loss of limbs, and kidney failure. \n",
    "\n",
    "The Pima Indian Diabetes Data Set consists of 768 observations of 9 variables:\n",
    "\n",
    "`pregnant`\tNumber of times pregnant\n",
    "\n",
    "`glucose`\tPlasma glucose concentration (glucose tolerance test)\n",
    "\n",
    "`pressure`\tDiastolic blood pressure (mm Hg)\n",
    "\n",
    "`triceps`\tTriceps skin fold thickness (mm)\n",
    "\n",
    "`insulin`\t2-Hour serum insulin (mu U/ml)\n",
    "\n",
    "`mass`\tBody mass index (weight in kg/(height in m)\\^2)\n",
    "\n",
    "`pedigree`\tDiabetes pedigree function\n",
    "\n",
    "`age`\tAge (years)\n",
    "\n",
    "`diabetes`\tClass variable (test for diabetes)"
   ]
  },
  {
   "cell_type": "markdown",
   "id": "8ed20335",
   "metadata": {},
   "source": [
    "Fit a logistic regression model and determine the affect of these various factors on the likelihood of an individual in the data set having diabetes. \n",
    "\n",
    "#### Solution\n",
    "\n",
    "A logistic regression model is a good choice to fit this data.  The response variable is \n",
    "\\begin{align}\n",
    "y=& \\left\\{\\begin{array}{cc}\n",
    "1,& \\text{if the patient has diabetes}\\\\\n",
    "0, & \\text {if the patient doesn't have diabetes}\n",
    "\\end{array}\\right.\n",
    "\\end{align} \n",
    "and the covariates are on continuous numeric scales (with the exception of age).\n",
    "\n",
    "The resulting model will be\n",
    "$$\n",
    "\\log\\left(\\frac{p_i}{1-p_i}\n",
    "\\right)=\\beta_0+\\beta_1x_{i1}+\\beta_2x_{i2}\\dots\\beta_8x_{i8}\n",
    "$$\n",
    "with the likelihood function\n",
    "$$\n",
    "L(\\mathbf{\\beta}|\\mathbf{y})=\\prod_{i=1}^n\\left(\\frac{\\exp\\left(\\beta_0+\\sum_{j=1}^8\\beta_jx_{ij}\\right)}{1+\\exp\\left(\\beta_0+\\sum_{j=1}^8\\beta_jx_{ij}\\right)}\\right)^{y_i}\\left(1-\\frac{\\exp\\left(\\beta_0+\\sum_{j=1}^8\\beta_jx_{ij}\\right)}{1+\\exp\\left(\\beta_0+\\sum_{j=1}^8\\beta_jx_{ij}\\right)}\n",
    "\\right)^{1-y_i}.\n",
    "$$\n",
    "Of course solving this requires using a software based solution to use a numerical optimisation routine.\n",
    "\n",
    "#### Code"
   ]
  },
  {
   "cell_type": "code",
   "execution_count": null,
   "id": "237cfac7",
   "metadata": {
    "lines_to_next_cell": 0
   },
   "outputs": [],
   "source": [
    "\n",
    "##  We load the data from a CSV file\n",
    "##  Note that the variable diabetes has been coded as a 0-1 variable\n",
    "\n",
    "df = pandas.read_csv(\"../DATA/diabetes.csv\")\n",
    "\n",
    "##  We fit the model using the XXXX function\n",
    "\n",
    "model = statsmodels.formula.api.logit('diabetes~pregnant+glucose+pressure+triceps+insulin+mass+pedigree+age',df) \n",
    "\n",
    "res = model.fit()\n",
    "\n",
    "res.summary()\n",
    "\n",
    "\n"
   ]
  },
  {
   "cell_type": "markdown",
   "id": "eb557a76",
   "metadata": {},
   "source": [
    "From the model summary we can see that some of the variables appear to be statistically significant. By examining the signs of the coeffcients, we know that the intercept is not useful as mathematically it is the log of the odds ratio when the independent variables are all equal to 0, which is not a realistic situation.  \n",
    "\n",
    "We can note that based on the signs and significance of the coefficients, as glucose increases and insulin decreases the risk of diabetes increases.  Considering that Type I diabetes is defined as a case where the pancreas produces little or no insulin, and Type II diabetes is defined as a deficient processing of glucose, so these relationships are expected and provide no insight into risk factors for diabetes.  \n",
    "\n",
    "Of the remaining covariates all coefficients are positive with the exception of `pressure` which is the patient's diastolic blood pressure; as this increases, the risk of diabetes decreases.  The effect of weight (`mass`), family history (`pedigree`) and pregnancy status (`pregnant`) are statistically significant positive coefficients.  Increasing weight, a family history of diabetes and being pregnant are associated with increased probability of diabetes. \n",
    "\n",
    "#### Plots"
   ]
  },
  {
   "cell_type": "code",
   "execution_count": null,
   "id": "87e734f5",
   "metadata": {},
   "outputs": [],
   "source": [
    "\n",
    "df[\"fitted_values\"] = 1/ (1+ numpy.exp(-res.fittedvalues))\n",
    "df[\"resid\"] = res.resid_generalized\n",
    "\n",
    "(ggplot(df)+\n",
    "geom_point(aes(x = 'pregnant', y = 'diabetes' ))+\n",
    "geom_line(aes(x = 'pregnant', y = 'fitted_values'))\n",
    ")\n",
    "\n",
    "(ggplot(df)+\n",
    "geom_point(aes(x = 'glucose', y = 'diabetes' ))+\n",
    "geom_line(aes(x = 'glucose', y = 'fitted_values'))\n",
    ")\n",
    "\n",
    "(ggplot(df)+\n",
    "geom_point(aes(x = 'pressure', y = 'diabetes' ))+\n",
    "geom_line(aes(x = 'pressure', y = 'fitted_values'))\n",
    ")\n",
    "\n",
    "(ggplot(df)+\n",
    "geom_point(aes(x = 'insulin', y = 'diabetes' ))+\n",
    "geom_line(aes(x = 'insulin', y = 'fitted_values'))\n",
    ")\n",
    "\n",
    "(ggplot(df)+\n",
    "geom_point(aes(x = 'mass', y = 'diabetes' ))+\n",
    "geom_line(aes(x = 'mass', y = 'fitted_values'))\n",
    ")\n",
    "\n",
    "(ggplot(df)+\n",
    "geom_point(aes(x = 'pedigree', y = 'diabetes' ))+\n",
    "geom_line(aes(x = 'pedigree', y = 'fitted_values'))\n",
    ")\n",
    "\n",
    "(ggplot(df)+\n",
    "geom_point(aes(x = 'age', y = 'diabetes' ))+\n",
    "geom_line(aes(x = 'age', y = 'fitted_values'))\n",
    ")\n"
   ]
  },
  {
   "cell_type": "markdown",
   "id": "53ba9e61",
   "metadata": {},
   "source": [
    "#   Exercises for Additional Practice\n",
    "\n",
    "##    Example 1\n",
    "\n",
    "On January 28, 1986 the US Space Shuttle Challenger launched from Cape Kennedy in Southern Florida.  73 Seconds into the flight the space craft broke up due to an explosion of the external fuel tank (ET).  Subsequent investigations traced the root cause of failure to a rubber o-ring in a joint on the solid rocket booster (SRB) that failed, allowing hot gases from the SRB to impinge on the ET, leading to the explosion.  \n",
    "\n",
    "Investigations collected data from previous flights including: recorded launch temperature, order of flight, and pre-flight pressure check tests for joint leakage.  Analyse these data using using logistic regression for the failure or joints in previous launches. Note that the indicator for failure is the variable `n_failure`, launch temperature is `temp`, and pressure check levels are `psi`."
   ]
  },
  {
   "cell_type": "code",
   "execution_count": null,
   "id": "dfe9d1b1",
   "metadata": {},
   "outputs": [],
   "source": [
    "\n",
    "df = pandas.read_csv(\"../DATA/srb.csv\")\n",
    "\n",
    "\n"
   ]
  },
  {
   "cell_type": "markdown",
   "id": "75e7e22a",
   "metadata": {},
   "source": [
    "**Solution:**"
   ]
  },
  {
   "cell_type": "code",
   "execution_count": null,
   "id": "9e7f2861",
   "metadata": {
    "lines_to_next_cell": 0
   },
   "outputs": [],
   "source": [
    "\n",
    "df = pandas.read_csv(\"../DATA/srb.csv\")\n",
    "\n",
    "model = statsmodels.api.formula.logit(\"n_failure~temp+psi\",df)\n",
    "\n",
    "results = model.fit()\n",
    "\n",
    "results.summary()\n",
    "\n"
   ]
  },
  {
   "cell_type": "markdown",
   "id": "98ca966c",
   "metadata": {},
   "source": [
    "Now fit the model just considering temperature"
   ]
  },
  {
   "cell_type": "code",
   "execution_count": null,
   "id": "63870db4",
   "metadata": {},
   "outputs": [],
   "source": [
    "\n",
    "df = pandas.read_csv(\"../DATA/srb.csv\")\n",
    "\n",
    "\n"
   ]
  },
  {
   "cell_type": "markdown",
   "id": "aa507075",
   "metadata": {},
   "source": [
    "**Solution:**"
   ]
  },
  {
   "cell_type": "code",
   "execution_count": null,
   "id": "e85899f3",
   "metadata": {
    "lines_to_next_cell": 2
   },
   "outputs": [],
   "source": [
    "\n",
    "df = pandas.read_csv(\"../DATA/srb.csv\")\n",
    "\n",
    "model = statsmodels.api.formula.logit(\"n_failure~temp\",df)\n",
    "\n",
    "results = model.fit()\n",
    "\n",
    "results.summary()\n",
    "\n"
   ]
  },
  {
   "cell_type": "markdown",
   "id": "1f6363bb",
   "metadata": {},
   "source": [
    "Given these results if the launch temperature on 28 January 1986 was 28 F according to this model, what was the probability of o-ring failure?  Hint you can use `predict`. "
   ]
  },
  {
   "cell_type": "code",
   "execution_count": null,
   "id": "0f9dd6ea",
   "metadata": {},
   "outputs": [],
   "source": [
    "\n",
    "df_predict = pandas.DataFrame({'temp': [28]})\n"
   ]
  },
  {
   "cell_type": "markdown",
   "id": "98831bbb",
   "metadata": {},
   "source": [
    "**Solution:**"
   ]
  },
  {
   "cell_type": "code",
   "execution_count": null,
   "id": "0256251a",
   "metadata": {
    "lines_to_next_cell": 0
   },
   "outputs": [],
   "source": [
    "\n",
    "df_predict = pandas.DataFrame({'temp': [28]})\n",
    "\n",
    "results.predict(df_predict)\n"
   ]
  },
  {
   "cell_type": "markdown",
   "id": "b7cd6b99",
   "metadata": {},
   "source": [
    "\n",
    "\n",
    "\n",
    "\n",
    "\n",
    "\n"
   ]
  }
 ],
 "metadata": {
  "jupytext": {
   "cell_metadata_filter": "tags,-all",
   "main_language": "python",
   "notebook_metadata_filter": "-all"
  }
 },
 "nbformat": 4,
 "nbformat_minor": 5
}
