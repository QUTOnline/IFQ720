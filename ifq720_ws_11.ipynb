{
 "cells": [
  {
   "cell_type": "raw",
   "id": "9bc457b1",
   "metadata": {},
   "source": [
    "---\n",
    "title: \"IFQ720 Worksheet 06 - Linear Regression and ANCOVA\"\n",
    "output:\n",
    "  html_document\n",
    "---"
   ]
  },
  {
   "cell_type": "code",
   "execution_count": null,
   "id": "fdcfd511",
   "metadata": {
    "tags": [
     "remove_cell"
    ]
   },
   "outputs": [],
   "source": [
    "import pandas\n",
    "import plotnine\n",
    "import numpy\n",
    "import scipy\n",
    "import math\n",
    "from plotnine import *\n"
   ]
  },
  {
   "cell_type": "markdown",
   "id": "07d7fa7f",
   "metadata": {},
   "source": [
    "# Linear Regression"
   ]
  },
  {
   "cell_type": "markdown",
   "id": "9190f507",
   "metadata": {},
   "source": [
    "## Simple Linear Regression\n",
    "\n",
    "Simple linear regression describes the relationship between the dependent random variable $y$ and independent variable $x$ is linear if\n",
    "$$\n",
    "y_i = \\beta_0+\\beta_1x_i+\\epsilon_i\n",
    "$$\n",
    "where we assume that the ``error'' terms $\\epsilon_i$ are independently and identically distributed with a Gaussian distribution with $E(\\epsilon_i)=0$ and $Var(\\epsilon_i)=\\sigma^2$, i.e.\\ \n",
    "$$\n",
    "\\epsilon_i\\stackrel{iid}{\\sim} N(0,\\sigma^2), \\forall i.\n",
    "$$ \n",
    "We can state this in slightly different terms as \n",
    "$$\n",
    "y_i\\sim N(\\beta_0+\\beta_1x_i,\\sigma^2)\n",
    "$$\n",
    "where $y_i$ is a Gaussian random variable for fixed values of $x_i$ and the parameters $\\beta_0$ and $\\beta_1$.  The variable $y$ is sometimes referred to as the response, and the variable $x$ is sometimes referred to as the predictor.  The nomenclature can vary depending on circumstances, but it is always assumed that $x's$ are fixed known quantities, not random variables.\n"
   ]
  },
  {
   "cell_type": "markdown",
   "id": "18e1a6d6",
   "metadata": {},
   "source": [
    "**Example**\n",
    "\n",
    "Student Success in university mathematics can depend on their academic achievement in high school maths. The following data relate students' high school maths achievement to their first-year university maths achievement.\n",
    "\n",
    "| Student | HS Maths | First-Year Maths |\n",
    "|:-------:|:--------:|:----------------:|\n",
    "| 1 | 39 | 64 |\n",
    "| 2 | 43 | 79 |\n",
    "| 3 | 22 | 51 |\n",
    "| 4 | 63 | 83 |\n",
    "| 5 | 56 | 93 |\n",
    "| 6 | 47 | 88 |\n",
    "| 7 | 27 | 63 |\n",
    "| 8 | 74 | 97 |\n",
    "| 9 | 34 | 55 |\n",
    "|10 | 53 | 74 |"
   ]
  },
  {
   "cell_type": "markdown",
   "id": "f0c131a4",
   "metadata": {
    "lines_to_next_cell": 0
   },
   "source": [
    "The relationship between high school maths achievement ($x$) and first-year university maths achievement ($y$) is\n",
    "$$\n",
    "y_i = \\beta_0 + \\beta_1x_i\n",
    "$$\n",
    "Use `statsmodels` in `python` to fit the linear model and review the results."
   ]
  },
  {
   "cell_type": "code",
   "execution_count": null,
   "id": "3f61709e",
   "metadata": {},
   "outputs": [],
   "source": [
    "import statsmodels\n",
    "\n",
    "y = numpy.array([64,79,51,83,93,88,63,97,55,74])\n",
    "x = numpy.array([39,43,22,63,56,47,27,74,34,53])\n",
    "df = pandas.DataFrame({\"y\":y,\"x\":x})\n",
    "\n"
   ]
  },
  {
   "cell_type": "markdown",
   "id": "b32b7001",
   "metadata": {},
   "source": [
    "**Solution:**"
   ]
  },
  {
   "cell_type": "code",
   "execution_count": null,
   "id": "a98ec395",
   "metadata": {
    "lines_to_next_cell": 2
   },
   "outputs": [],
   "source": [
    "\n",
    "import statsmodels\n",
    "\n",
    "y = numpy.array([64,79,51,83,93,88,63,97,55,74])\n",
    "x = numpy.array([39,43,22,63,56,47,27,74,34,53])\n",
    "df = pandas.DataFrame({\"y\":y,\"x\":x})\n",
    "\n",
    "model = statsmodels.formula.api.ols('y~x',df)\n",
    "\n",
    "result = model.fit()\n",
    "\n",
    "result.summary()\n"
   ]
  },
  {
   "cell_type": "markdown",
   "id": "d4c397b8",
   "metadata": {},
   "source": [
    "## Estimation and Inference\n",
    "\n",
    "Given a suspected linear relationship between two variables $y$ and $x$, we would like to answer several questions requiring statistical inference. As such, it is necessary to derive both estimators and a sampling distribution for those estimators. \n",
    "\n",
    "We can employ the maximum likelihood method to derive a likelihood and log-likelihood for the two parameters $\\beta_0$ and $\\beta_1$ and $\\sigma^2$.\n",
    "$$\n",
    "\\begin{aligned}\n",
    "L(\\beta_0,\\beta_1,\\sigma^2) &= \\prod_{i=1}^n\\frac{1}{\\sqrt{2\\pi\\sigma^2}}\\exp\\left(-\\frac{(y_i-\\beta_0-\\beta_1x_i)^2}{2\\sigma^2}\\right)\\\\\n",
    "& = \\left(\\frac{1}{\\sqrt{2\\pi\\sigma^2}}\\right)^{n}\\exp\\left(-\\frac{\\sum_{i=1}^n(y_i-\\beta_0-\\beta_1x_i)^2}{2\\sigma^2}\\right)\n",
    "\\end{aligned}\n",
    "$$\n",
    "and\n",
    "$$\n",
    "\\begin{aligned}\n",
    "l(\\beta_0,\\beta_1,\\sigma^2)&=-\\frac{n}{2}\\log\\left(2\\pi\\sigma^2\\right)-\\frac{\\sum_{i=1}^n(y_i-\\beta_0-\\beta_1x_i)^2}{2\\sigma^2}.\n",
    "\\end{aligned}\n",
    "$$\n",
    "We can find the maximum likelihood estimates for these parameters by taking the derivative of the log-likelihood with respect to each parameter and setting them equal to $0$.  We can solve the resulting system of equations to give:\n",
    "$$\n",
    "\\begin{aligned}\n",
    "\\hat{\\beta}_0 & = \\bar{y}-\\hat{\\beta}_1\\bar{x}\\\\\n",
    "\\hat{\\beta}_1 & = \\frac{\\sum_{i=1}^n(x_1-\\bar{x})(y_i-\\bar{y})}{\\sum_{i=1}^n(x_i-\\bar{x})^2}\\\\\n",
    "s^2 & = \\frac{\\sum_{i=1}^n(y_i-\\hat{\\beta}_0-\\hat{\\beta}_1x_i)^2}{n-2}\n",
    "\\end{aligned}\n",
    "$$\n",
    "\n",
    "It is important to note that these estimators are, in fact, functions of $x$, a known quantity and $y$ a random variable and are, in fact, linear combinations of these.  Given that we know the probability distribution of $y$ is Gaussian, it follows that because the estimators are linear functions of $y$, the estimators must also follow a Gaussian distribution. "
   ]
  },
  {
   "cell_type": "markdown",
   "id": "7b2c985f",
   "metadata": {
    "lines_to_next_cell": 0
   },
   "source": [
    "**Example**\n",
    "\n",
    "Following from our previous example, we note the following statistics\n",
    "$$\n",
    "\\bar{y} = 74.7, \\qquad\\bar{x} = 45.8\\qquad\\sum(x_i-\\bar{x})(y_i-\\bar{y}) = 2046.4\n",
    "\\\\\\qquad\\sum(x_i-\\bar{x})^2 = 2361.6\n",
    "$$\n",
    "we can compute\n",
    "$$\n",
    "\\begin{align}\n",
    "\\hat{\\beta}_1 = & \\frac{2046.4}{2361.6}=0.87\\\\\n",
    "\\hat{\\beta}_0  = & 74.7-(0.87)(45.8) = 35.01\\\\\n",
    "s^2 =&\\frac{\\sum(y_i-35.01-0.87x_i)^2}{n-2} = \\frac{524.83}{8} = 65.6\n",
    "\\end{align}\n",
    "$$\n",
    "\n",
    "Compare these results to the results for the model fit using `statsmodels` in `python`"
   ]
  },
  {
   "cell_type": "code",
   "execution_count": null,
   "id": "5157d55c",
   "metadata": {},
   "outputs": [],
   "source": []
  },
  {
   "cell_type": "markdown",
   "id": "c218718b",
   "metadata": {},
   "source": [
    "**Solution:**"
   ]
  },
  {
   "cell_type": "code",
   "execution_count": null,
   "id": "4684f709",
   "metadata": {
    "lines_to_next_cell": 2
   },
   "outputs": [],
   "source": [
    "\n",
    "result = model.fit()\n",
    "\n",
    "result.summary()\n",
    "  "
   ]
  },
  {
   "cell_type": "markdown",
   "id": "d1e882b0",
   "metadata": {},
   "source": [
    "## Assumptions\n",
    "\n",
    "As stated above, there are explicit assumptions concerning the probability distribution of the residuals or errors that support the derivation of the sampling distributions for the estimates of the model parameters:"
   ]
  },
  {
   "cell_type": "markdown",
   "id": "5e651a9d",
   "metadata": {},
   "source": [
    "1.  The parameter estimates $\\hat{\\beta}_0$ and $\\hat{\\beta}_1$ are unbiased, i.e.\\ the residuals $e_i = y_i-\\hat{\\beta}_0-\\hat{\\beta}_1x_i$ have an expected value of $0$, hence $\\sum_{i=1}^ne_i = 0$.\n",
    "2.   The residuals $e_i$ are independent, i.e. $\\mbox{Cor}(e_i,e_j) = 0, \\forall i\\neq j$\n",
    "3.   The residuals $e_i\\sim N(0,\\sigma^2), \\forall i$, that is the residuals follow a Gaussian distribution with $E(e_i)=0$ and $Var(e_i)=\\sigma^2$."
   ]
  },
  {
   "cell_type": "markdown",
   "id": "cd185d5b",
   "metadata": {},
   "source": [
    "Hence we say that the residuals are independent and identically distributed.  Fit the predictive model and plot the results."
   ]
  },
  {
   "cell_type": "code",
   "execution_count": null,
   "id": "16657619",
   "metadata": {},
   "outputs": [],
   "source": [
    "\n",
    "predict = result.get_prediction()\n",
    "\n",
    "df_predict = predict.summary_frame()\n",
    "df_predict[\"resid\"] = result.resid\n"
   ]
  },
  {
   "cell_type": "markdown",
   "id": "4f9c94c3",
   "metadata": {},
   "source": [
    "**Solution:**"
   ]
  },
  {
   "cell_type": "code",
   "execution_count": null,
   "id": "0ff0f4a1",
   "metadata": {
    "lines_to_next_cell": 0
   },
   "outputs": [],
   "source": [
    "\n",
    "(ggplot(df_predict,aes(x = \"mean\", y = \"resid\" ))+\n",
    "  geom_point()+\n",
    "  geom_smooth(method = \"lm\"))\n",
    "\n",
    "(ggplot(df_predict,aes(sample = \"resid\"))+\n",
    "  geom_qq_line()+\n",
    "  geom_qq())\n",
    "\n",
    "\n",
    "numpy.mean(result.resid)\n",
    "numpy.var(result.resid)\n"
   ]
  },
  {
   "cell_type": "markdown",
   "id": "bd30acc3",
   "metadata": {},
   "source": [
    ":::\n",
    "\n",
    "## Sampling distributions for $\\hat{\\beta}_0$ and $\\hat{\\beta}_1$}\n",
    "\n",
    "Given a known value for $\\sigma^2$, it can be shown that the sampling distributions for $\\hat{\\beta}_0$ and $\\hat{\\beta}_1$ are\n",
    ":::{.boxed}\n",
    "$$\n",
    "\\begin{aligned}\n",
    "\\hat{\\beta}_0&\\sim N\\left(\\beta_0,\\frac{\\sigma^2\\sum_{i=1}^nx_i^2}{\\sum_{i=1}^n(x_i-\\bar{x})^2}\\right)\\\\\n",
    "\\hat{\\beta}_1&\\sim N\\left(\\beta_1,\\frac{\\sigma^2}{\\sum_{i=1}^2(x_i-\\bar{x})^2}\\right)\n",
    "\\end{aligned}\n",
    "$$\n",
    ":::\n",
    "\n",
    "If we substitute the estimator $s^2$, then we can see from prior examples that\n",
    ":::{.boxed}\n",
    "$$\n",
    "\\begin{aligned}\n",
    "\\frac{\\hat{\\beta}_0-\\beta_0}{s_{\\beta_0}}&\\sim t_{n-2}\\\\\n",
    "\\frac{\\hat{\\beta}_1-\\beta_1}{s_{\\beta_1}}&\\sim t_{n-2}\n",
    "\\end{aligned}\n",
    "$$\n",
    "noting that \n",
    "$$\n",
    "\\begin{aligned}\n",
    "s^2_{\\beta_0} & = \\frac{s^2\\sum_{i=1}^nx_i^2}{\\sum_{i=1}^n(x_i-\\bar{x})^2}\\\\\n",
    "s^2_{\\beta_1} & = \\frac{s^2}{\\sum_{i=1}^2(x_i-\\bar{x})^2}.\n",
    "\\end{aligned}\n",
    "$$\n",
    ":::\n",
    "Based on these we can construct confidence intervals and conduct hypothesis tests from our estimates $\\hat{\\beta}_0$ and $\\hat{\\beta}_1$. $1-\\alpha$ Confidence intervals have the form:\n",
    ":::{.boxed}\n",
    "$$\n",
    "\\begin{aligned}\n",
    "\\hat{\\beta}_0&\\pm t_{n-2,\\alpha/2}s_{\\beta_0}\\\\\n",
    "\\hat{\\beta}_1& \\pm t_{n-2,\\alpha/2}s_{\\beta_1}\n",
    "\\end{aligned}\n",
    "$$\n",
    "where \n",
    "$$\n",
    "Pr(t<t_{n-2,\\alpha/2}) = 1-\\alpha/2\n",
    "$$\n",
    "as previously defined. \n",
    ":::\n",
    "\n",
    "## Inference for the Slope and Intercept\n",
    "\n",
    "For the Hypotheses \n",
    "$$\n",
    "H_0: \\beta_0 = 0\\qquad\\mbox{and}\\qquad H_A:\\beta_0\\neq 0\n",
    "$$\n",
    "the test statistic is \n",
    "$$\n",
    "t = \\frac{\\hat{\\beta}_0}{s_{\\beta_0}}.\n",
    "$$\n",
    "For the hypotheses\n",
    "$$\n",
    "H_0: \\beta_1 = 0\\qquad\\mbox{and}\\qquad H_A:\\beta_1\\neq 0\n",
    "$$\n",
    "the test statistic is \n",
    "$$\n",
    "t = \\frac{\\hat{\\beta}_1}{s_{\\beta_1}}.\n",
    "$$\n",
    "in both cases the rejection region is based on the $t_{n-2}$ where we reject $H_0$ if $ |t|>t_{n-2,\\alpha/2}$.  Most statistical software reports both a $t$ test statistic and a $p$-value; both can be used to evaluate hypotheses.  "
   ]
  },
  {
   "cell_type": "markdown",
   "id": "251c6171",
   "metadata": {
    "lines_to_next_cell": 0
   },
   "source": [
    "**Example**\n",
    "\n",
    "Recall our analysis in `R` "
   ]
  },
  {
   "cell_type": "code",
   "execution_count": null,
   "id": "5b6247d3",
   "metadata": {},
   "outputs": [],
   "source": [
    "\n",
    "result.summary\n"
   ]
  },
  {
   "cell_type": "markdown",
   "id": "519f53a7",
   "metadata": {},
   "source": [
    "<br>\n",
    "Note that for $\\hat{\\beta}_0$ \n",
    "$$\n",
    "t =  \\frac{\\hat{\\beta}_0}{s_{\\beta_0}}= \\frac{35.0129}{8.0518} = 4.35\n",
    "$$\n",
    "and for $\\hat{\\beta}_1$\n",
    "$$\n",
    "t =  \\frac{\\hat{\\beta}_1}{s_{\\beta_1}}= \\frac{0.8665}{0.1667} = 5.20\n",
    "$$\n",
    "The $p$-values are given in the table and can be used to perform the hypothesis tests, or we can note that for $n=10$ and $\\alpha = 0.05$, $t_{n-2,\\alpha/2} = 2.31$ so we would reject the null hypotheses that $\\beta_0=0$ and $\\beta_1=0$. "
   ]
  },
  {
   "cell_type": "markdown",
   "id": "ad048c37",
   "metadata": {
    "lines_to_next_cell": 0
   },
   "source": [
    ":::\n",
    "We will see that in most cases, the testing related $\\beta_0$ are often not of interest, and we will see that test about the $\\beta_1$ are of most interest and provide a connection between linear regression and ANOVA.\n",
    "\n",
    "## Analysis of Variance for Linear Regression\n",
    "\n",
    "Aside from inferential questions concerning the values of the $\\beta_0$ and $\\beta_1$, the next most useful question about our linear model is how well it fits the data.  Suppose we extend the idea from ANOVA of explaining variation. In that case, it is natural to frame our goodness of fit question in terms of what proportion of the variation in $y$ is explained by the model $y = \\beta_0+\\beta_1x$.  \n",
    "This term is defined in terms of ratios of sums of squares as in ANOVA.  Hence we extend some of the ideas from ANOVA to linear regression and use the definitions\n",
    "$$\n",
    "\\mbox{SST} = \\sum_{i=1}^n(y_i-\\bar{y})^2.\n",
    "$$\n",
    "As in ANOVA, SST is the total sum of squares, which can be partitioned (as in ANOVA) into SSR, the sum of the squares of the regression, and SSE, the sum of the squares of the error. \n",
    "$$\n",
    "\\begin{aligned}\n",
    "\\mbox{SSR} &= \\sum_{i=1}^n(\\hat{y}_i-\\bar{y})^2\\\\\n",
    " & = \\sum_{i=1}^n(\\hat{\\beta}_0+\\hat{\\beta}_1x_i-\\bar{y})^2\\\\\n",
    " & = \\frac{\\left(\\sum_{i=1}^n(x_i-\\bar{x})(y_i-\\bar{y})\\right)^2}{\\sum_{i=1}^n(x_i-\\bar{x})^2}\n",
    "\\end{aligned}\n",
    "$$\n",
    "Because SST = SSE+SSR, we can define SSE = SST-SSR, which can show to be\n",
    "$$\n",
    "\\mbox{SSE} = \\sum_{i=1}^n(y_i-\\bar{y})^2- \\frac{\\left(\\sum_{i=1}^n(x_i-\\bar{x})(y_i-\\bar{y})\\right)^2}{\\sum_{i=1}^n(x_i-\\bar{x})^2}.\n",
    "$$\n",
    "The mean squares terms are defined as the sum of squares divided by the degrees of freedom as shown:\n",
    "\n",
    "|Source | Degrees of Freedom | Sum of Squares | Mean Squares |\n",
    "|:-----:|:------------------:|:--------------:|:------------:|\n",
    "|Regression | $1$ | $\\frac{\\left(\\sum_{i=1}^n(x_i-\\bar{x})(y_i-\\bar{y})\\right)^2}{\\sum_{i=1}^n(x_i-\\bar{x})^2}$ | $\\frac{\\mbox{SSR}}{1}$|\n",
    "|Error | $n-2$ | $\\sum_{i=1}^n(y_i-\\bar{y})^2- \\frac{\\left(\\sum_{i=1}^n(x_i-\\bar{x})(y_i-\\bar{y})\\right)^2}{\\sum_{i=1}^n(x_i-\\bar{x})^2}$ | $\\frac{\\mbox{SSE}}{n-2}$ |\n",
    "| Total | $n-1$ | $\\sum_{i=1}^n(y_i-\\bar{y})^2$ | |\n",
    "\n",
    "Note that $s^2$ is the MSE and is our best estimate of $\\sigma^2$.  \n",
    "\n",
    ":::{.boxed}\n",
    "**Example**\n",
    "\n",
    "We can see the results in an ANOVA table"
   ]
  },
  {
   "cell_type": "code",
   "execution_count": null,
   "id": "3844a9d1",
   "metadata": {
    "lines_to_next_cell": 0
   },
   "outputs": [],
   "source": [
    "statsmodels.stats.anova.anova_lm(result)\n"
   ]
  },
  {
   "cell_type": "markdown",
   "id": "78176fff",
   "metadata": {},
   "source": [
    "Notice that the $F$ statistic for $x$ ($\\beta_1$) is equal to $t^2$ from the precious example and that their $p$-values are identical. In the case of simple linear regression (one independent variable) the $F$-test for model utility is equivalent to the $t$-test for $H_0:\\beta_1 = 0$. \n",
    ":::"
   ]
  },
  {
   "cell_type": "markdown",
   "id": "18b6f528",
   "metadata": {},
   "source": [
    "## The Coefficient of Determination $R^2$\n",
    "\n",
    "We can assess the regression model by computing the coefficient of determination, $R^2$, which is \n",
    "\n",
    ":::{.boxed}\n",
    "$$\n",
    "R^2 = 1 - \\frac{\\mbox{SSE}}{\\mbox{SST}} = \\frac{\\mbox{SSR}}{\\mbox{SST}}\n",
    "$$\n",
    "which is the proportion of the total variation explained by the regression model.  \n",
    ":::\n",
    "\n",
    "We don't typically assess any measures of uncertainty about the coefficient of determination but instead use it as a subjective measure.  An $R^2$ of $1$ means that the regression model explains all the variation in $y$, which is good in the sense that we can feel confident that our knowledge of $x$ is a perfect explanation of $y$.  In practice, values of $R^2$ close to $1$ (over $0.95$) typically indicate that \"over-fitting\" in the model which can lead to erroneous results using the model.  While we might think that small values of $R^2$ are \"bad\", an $R^2$ of $0.2$ could be quite good in some fields.  Interpreting the coefficient of determination is not as straightforward as other statistical measures. It should be used as a guide rather than conclusive evidence in making decisions about the validity or utility of a model.  "
   ]
  },
  {
   "cell_type": "markdown",
   "id": "b14891cc",
   "metadata": {},
   "source": [
    "**Example**\n",
    "\n",
    "We can compute the coefficient of determination as\n",
    "$$\n",
    "\\begin{aligned}\n",
    "R^2 &=\\frac{\\mbox{SSR}}{\\mbox{SST}}\\\\\n",
    "&=\\frac{\\mbox{SSR}}{\\mbox{SSR+SSE}}\\\\\n",
    "&=\\frac{1773.27}{1773.27+524.83}\\\\\n",
    "&=0.7716\n",
    "\\end{aligned}\n",
    "$$\n",
    "The interpretation of this is that $77.16\\%$ of the observed variation in $y$, student outcomes in first-year university maths are explained by $x$ student outcomes in high school maths. \n",
    "\n",
    "Extract the results for $R^2$ and $R^2_{adj}$ from the `result`"
   ]
  },
  {
   "cell_type": "code",
   "execution_count": null,
   "id": "6e6ea56e",
   "metadata": {},
   "outputs": [],
   "source": []
  },
  {
   "cell_type": "code",
   "execution_count": null,
   "id": "b33803cf",
   "metadata": {},
   "outputs": [],
   "source": [
    "\n",
    "result.rsquared\n",
    "result.rsquared_adj\n"
   ]
  },
  {
   "cell_type": "markdown",
   "id": "d28d9500",
   "metadata": {},
   "source": [
    "###   Other concerns\n",
    "The two techniques of using normal probability plots and plots of the residuals versus the fitted values address two of the three assumptions about the residuals: the unbiasedness of the regression model and the constant variance of the residuals.  Tests of independence are technically possible and, while beyond the scope of this material, should be used in cases where the independent variables are temporally or spatially referenced.  The specific tools for modelling time-series or spatial data exist and should be used where appropriate. \n",
    "\n",
    "## Estimation and Prediction\n",
    "\n",
    "The most useful aspect of linear regression, aside from the ability to infer linear relationships between variables, is to make inferences about the expected value of observations via a sampling distribution and the make predictions of values for the dependent variable $y$ given unobserved values of the independent variable $x$.  These estimated expected values and predictions have known sampling distributions, which can be used to make inferences about their true values.  These aspects make linear regression (and indeed all statistical models) particularly useful in real-world decision making. \n",
    "\n",
    "###   Sample Statistics and Inference for Estimated Values of $y$\n",
    "The estimated expected value of $y_i$ is \n",
    "$$\n",
    "\\hat{y}_i = \\hat{\\beta}_0+\\hat{\\beta}_1x_i\n",
    "$$\n",
    "which is a linear function of two random variables $\\hat{\\beta}_0$ and $\\hat{\\beta}_1$, both of which have known Gaussian sampling distributions.  It is interesting to note that both $\\hat{\\beta}_0$ and $\\hat{\\beta}_1$ are linear functions of the random variable $y$, so in fact, the estimated expected value $\\hat{y}$ is a linear function of the random variable $y$. \n",
    "\n",
    ":::{.boxed}\n",
    "The resulting standard error of $\\hat{y_i}$ is \n",
    "$$\n",
    "s_{\\hat{y_i}} = \\sqrt{s^2\\left(\\frac{1}{n}+\\frac{(x_i-\\bar{x})^2}{\\sum_{i=1}^n(x_i-\\bar{x})^2}\\right)}\n",
    "$$  \n",
    "and confidence intervals and hypothesis testing will be based on the sampling distribution \n",
    "$$\n",
    "\\frac{\\hat{y}_i-E(y_i)}{s_{\\hat{y}_i}}\\sim t_{n-2}\n",
    "$$\n",
    ":::\n",
    "\n",
    "Hypothesis testing is moot, to a certain extent. We are more interested in the confidence intervals or confidence band for the fitted values. \n",
    "\n",
    ":::{.boxed}\n",
    "The $(1-\\alpha)\\%$ confidence interval for a fitted value is\n",
    "$$\n",
    "\\hat{y}_i\\pm t_{n-2,\\alpha/2}s_{\\hat{y}_i}.\n",
    "$$\n",
    ":::\n",
    "Note that the value for $s_{\\hat{y}_i}$ depends on the squared distance between $x_i$ and $\\bar{x}$, thus the confidence interval is narrowest where $x_i=\\bar{x}$, or in other words we are most confident of our estimates for values of $x$ closest to $\\bar{x}$. \n",
    "\n",
    "**Example**\n",
    "\n",
    "We can plot the data in \n",
    "`ggplot()` and note that when we invoke the \n",
    "`geom_smooth(method = ``lm'', se = TRUE)` geometry, the \n",
    "$95\\%$ confidence band is automatically added. "
   ]
  },
  {
   "cell_type": "code",
   "execution_count": null,
   "id": "fa2878d1",
   "metadata": {},
   "outputs": [],
   "source": []
  },
  {
   "cell_type": "markdown",
   "id": "e13eca24",
   "metadata": {},
   "source": [
    "**Solution:**"
   ]
  },
  {
   "cell_type": "code",
   "execution_count": null,
   "id": "0ad24f18",
   "metadata": {
    "lines_to_next_cell": 0
   },
   "outputs": [],
   "source": [
    "(ggplot(df,aes(x=\"x\",y=\"y\"))+\n",
    "  geom_point()+\n",
    "  geom_smooth(method = \"lm\"))\n"
   ]
  },
  {
   "cell_type": "markdown",
   "id": "84829991",
   "metadata": {},
   "source": [
    ":::\n",
    "\n",
    "## Sample Statistics and Inference for Predicted Values of $y$\n",
    "\n",
    "If we want to predict a value of $y$ for $x^*$ a specific (unobserved ) value of $x$, the prediction is \n",
    "$$\n",
    "y^* = \\hat{\\beta}_0+\\hat{\\beta}_1x^*\n",
    "$$\n",
    "there is additional uncertainty, as we are making a prediction rather than estimating an expected value. In this case, the standard error of the prediction is\n",
    "$$\n",
    "s_{y^*} = \\sqrt{s^2\\left(1+\\frac{1}{n}+\\frac{(x^*-\\bar{x})^2}{\\sum_{i=1}^n(x_i-\\bar{x})^2}\\right)}.\n",
    "$$\n",
    "\n",
    ":::{.boxed}\n",
    "The $(1-\\alpha)\\%$ prediction interval is then \n",
    "$$\n",
    "\\hat{y}_i\\pm t_{n-2,\\alpha/2}s_{y^*}.\n",
    "$$"
   ]
  },
  {
   "cell_type": "markdown",
   "id": "012391e4",
   "metadata": {},
   "source": [
    "If we add the equivalent prediction interval or band, it becomes obvious that the prediction intervals are much wider than the confidence intervals.  It is difficult to see in this plot, but the prediction interval also widens as our predictions get farther and farther from $\\bar{x}$. \n",
    "\n",
    "Try this in `statsmodels`\n"
   ]
  },
  {
   "cell_type": "code",
   "execution_count": null,
   "id": "4bf8c33c",
   "metadata": {},
   "outputs": [],
   "source": []
  },
  {
   "cell_type": "code",
   "execution_count": null,
   "id": "fcaaac5e",
   "metadata": {},
   "outputs": [],
   "source": [
    "(ggplot(df_predict, aes(x=\"x\", y=\"y\"))+\n",
    "    geom_point() +\n",
    "    geom_line(aes(y=\"obs_ci_upper\"), color = \"red\", linetype = \"dashed\")+\n",
    "    geom_line(aes(y=\"obs_ci_lower\"), color = \"red\", linetype = \"dashed\")+\n",
    "    geom_smooth(method=\"lm\", se=True))\n"
   ]
  },
  {
   "cell_type": "code",
   "execution_count": null,
   "id": "5dc8e41b",
   "metadata": {
    "lines_to_next_cell": 2
   },
   "outputs": [],
   "source": [
    "(ggplot(df_predict, aes(x=\"x\", y=\"y\"))+\n",
    "    geom_point() +\n",
    "  geom_ribbon(aes(xmin = min(x), xmax = max(x), ymin = \"obs_ci_lower\", ymax = \"obs_ci_upper\"), alpha = 0.1)+\n",
    "  geom_smooth(method = \"lm\", se = True))"
   ]
  },
  {
   "cell_type": "markdown",
   "id": "bc0b2810",
   "metadata": {},
   "source": [
    "Prediction intervals are wider than confidence intervals and exhibit the same property of widening as $x^*$ increases in distance from $\\bar{x}$.  Caution should be exercised when relying on predictions to make decisions, especially if these predictions are extrapolations for points outside the domain of the data.  History is rife with examples of catastrophe that follows from this [see here.](https://www.wired.com/story/netflixs-challenger-is-a-gripping-look-at-nasa-in-crisis/)\n",
    "\n",
    "## Linear Regression and Analysis of Covariance (ANCOVA)\n",
    "\n",
    "ANOVA is the process of analysing the effects of discrete factors on dependent variables. Still, in many cases, other (continuous) covariates should be accounted for in our analysis.  For instance, the treatments may be randomly assigned in a test of several different treatments for a medical condition. However, researchers still might want to take individual participants' ages into account when assessing the effects.   In this case, we can use a technique called the analysis of covariance or ANCOVA to account for or control for these extraneous covariates. \n",
    "\n",
    "In this case, the traditional single-factor ANOVA model is\n",
    "$$\n",
    "y_{ij} = \\alpha_i+\\epsilon_{ij} \n",
    "$$ \n",
    "where $\\alpha_i$ represents the $i$th treatment mean.  Note that in some literature, authors will write the same model as\n",
    "$$\n",
    "y_{ij} = \\mu+\\tau_i+\\epsilon_{ij}\n",
    "$$ \n",
    "where $\\mu$ is the overall mean of the dependent variable, and the treatment effects, $\\tau_i$, are constrained such that $\\sum\\tau_i = 0$. These models are equivalent; the only difference is in the interpretation of the results as $\\alpha_i \\equiv \\mu+\\tau_i$. \n",
    "\n",
    "If we wanted to account for some covariate effects, we would then add a term to the model\n",
    "$$\n",
    "y_{ij} = \\alpha_i+\\beta(x_{ij}-\\bar{x})+\\epsilon_{ij}.\n",
    "$$\n",
    "To adjust or control for the effects of the covariate values $x_{ij}$. The resulting total sum of squares can then be partitioned into the sum of the squares of the treatments (SSTR), the sum of the squares of the covariates (SSR) and the sum of the squares of the error (SSE). The results are presented in a table similar to an ANOVA table, with the same calculation and interpretation of the $F$ statistics.  \n",
    "\n",
    "The addition of the covariates can increase the power of the test in detecting treatment effects and is thus useful in many situations.  But we should note that all the assumptions and constraints of linear regression (regarding the independence and homogeneity of the residuals and their normality) apply to the covariate effects in the model. \n",
    "\n",
    "**Assumptions**\n",
    "The standard assumptions from linear regression apply to ANCOVA. We assume that the slope, $\\beta$, is the same for all levels of treatment. There is an additional assumption that is included; the homogeneity of the slopes."
   ]
  },
  {
   "cell_type": "markdown",
   "id": "47ecffab",
   "metadata": {},
   "source": [
    "**Example**\n",
    "\n",
    "Researchers investigated the effects of exercise programs on anxiety levels.  Individuals were allocated to three different exercise programs: low, medium, and high-intensity workouts.  Experimenters measured the individuals' anxiety levels before they began their exercise regimes and after completing their programs.  Because the same individuals were measured pre and post-program, their pre-program results need to be considered in analysing the data.  \n",
    "\n",
    "First, we examine the assumption of the homogeneity of the slopes, which we can do graphically.  "
   ]
  },
  {
   "cell_type": "code",
   "execution_count": null,
   "id": "cef9b3ba",
   "metadata": {
    "lines_to_next_cell": 0
   },
   "outputs": [],
   "source": [
    "\n",
    "df = pandas.read_csv(\"../DATA/anxiety.csv\")\n",
    "\n",
    "\n",
    "(ggplot(df,aes( x = \"pretest\", y = \"posttest\",\n",
    "color = \"group\"))+\n",
    "geom_point()+\n",
    "geom_smooth(method = \"lm\", se = False)\n",
    ")\n",
    "\n"
   ]
  },
  {
   "cell_type": "markdown",
   "id": "9b2d53f7",
   "metadata": {},
   "source": [
    "As we can see, all the slopes are approximately equal. \n",
    "\n",
    "Next, we can perform the ANCOVA analysis"
   ]
  },
  {
   "cell_type": "code",
   "execution_count": null,
   "id": "88851924",
   "metadata": {},
   "outputs": [],
   "source": []
  },
  {
   "cell_type": "code",
   "execution_count": null,
   "id": "cfc23eee",
   "metadata": {},
   "outputs": [],
   "source": [
    "\n",
    "model = statsmodels.formula.api.ols('posttest~group+pretest',df)\n",
    "\n",
    "result = model.fit()\n",
    "\n",
    "result.summary()\n",
    "\n"
   ]
  },
  {
   "cell_type": "markdown",
   "id": "7d467636",
   "metadata": {},
   "source": [
    "Note that if we just perform a single factor ANOVA using just the group, we still see that it is significant:\n"
   ]
  },
  {
   "cell_type": "code",
   "execution_count": null,
   "id": "d843d704",
   "metadata": {
    "lines_to_next_cell": 0
   },
   "outputs": [],
   "source": [
    "\n",
    "\n"
   ]
  },
  {
   "cell_type": "code",
   "execution_count": null,
   "id": "99256baf",
   "metadata": {},
   "outputs": [],
   "source": [
    "\n",
    "model = statsmodels.formula.api.ols('posttest~group+pretest',df)\n",
    "\n",
    "result = model.fit()\n",
    "\n",
    "result.summary()\n"
   ]
  },
  {
   "cell_type": "markdown",
   "id": "e6c1c436",
   "metadata": {},
   "source": [
    "But note that in the ANOVA, the residual sum of squares is considerably larger than for the ANCOVA, indicating a substantial amount of variance in the outcomes explained by the pre-program test results. \n",
    ":::"
   ]
  },
  {
   "cell_type": "markdown",
   "id": "71767732",
   "metadata": {},
   "source": [
    "## Worksheet Practical Question 1\n",
    "\n",
    "For the data `sapphire` featuring Young's modulus (g) measured at various temperatures (t) for sapphire rods, fit a linear relationship $g = \\beta_0+\\beta_1t$.  Find the confidence intervals for the parameter estimates."
   ]
  },
  {
   "cell_type": "code",
   "execution_count": null,
   "id": "0edf9f30",
   "metadata": {},
   "outputs": [],
   "source": [
    "df = pandas.read_csv(\"../DATA/sapphire.csv\")\n",
    "\n"
   ]
  },
  {
   "cell_type": "markdown",
   "id": "5846129d",
   "metadata": {},
   "source": [
    "**Solution:**"
   ]
  },
  {
   "cell_type": "code",
   "execution_count": null,
   "id": "1d391f1e",
   "metadata": {},
   "outputs": [],
   "source": [
    "df = pandas.read_csv(\"../DATA/sapphire.csv\")\n",
    "\n",
    "model = statsmodels.formula.api.ols('Modulus~Temperature',df)\n",
    "\n",
    "result = model.fit()\n",
    "\n",
    "result.summary()\n"
   ]
  },
  {
   "cell_type": "code",
   "execution_count": null,
   "id": "7f52b44f",
   "metadata": {
    "lines_to_next_cell": 0
   },
   "outputs": [],
   "source": [
    "result.params\n",
    "result.conf_int()\n"
   ]
  },
  {
   "cell_type": "markdown",
   "id": "212bd272",
   "metadata": {},
   "source": []
  },
  {
   "cell_type": "markdown",
   "id": "7ebca674",
   "metadata": {
    "lines_to_next_cell": 0
   },
   "source": [
    "## Worksheet Practical Question 2\n",
    "\n",
    "The stopping distance (y) of an automobile on a certain road was studied as a function of velocity (Brownlee, 1960). Fit y and $\\sqrt{y}$ as a linear function of velocity and examine the residuals in each case.  Which fits better, and can you think of a reason why?  The data are in the file `brake.csv.`"
   ]
  },
  {
   "cell_type": "code",
   "execution_count": null,
   "id": "9161fb56",
   "metadata": {},
   "outputs": [],
   "source": [
    "df = pandas.read_csv(\"../DATA/brake.csv\")\n"
   ]
  },
  {
   "cell_type": "code",
   "execution_count": null,
   "id": "36005d9b",
   "metadata": {
    "lines_to_next_cell": 0
   },
   "outputs": [],
   "source": [
    "df = pandas.read_csv(\"../DATA/brake.csv\")\n",
    "df[\"sqrt_dist\"] = numpy.sqrt(df.distance)\n",
    "\n",
    "model = statsmodels.formula.api.ols(\"distance~velocity\",df)\n",
    "model2 = statsmodels.formula.api.ols(\"sqrt_dist~velocity\",df)\n",
    "\n",
    "result = model.fit()\n",
    "result2 = model2.fit()\n",
    "\n",
    "result.summary()\n",
    "result2.summary()\n",
    "\n",
    "\n"
   ]
  },
  {
   "cell_type": "markdown",
   "id": "84b56040",
   "metadata": {},
   "source": [
    "\n"
   ]
  },
  {
   "cell_type": "markdown",
   "id": "0ceb4b11",
   "metadata": {
    "lines_to_next_cell": 0
   },
   "source": [
    "## Worksheet Practical Question 3\n",
    "\n",
    "Chang (1945) studied the rate of sedimentation of amoebic cysts in water in various of various temperatures.  Fit an ANOVA model for time just considering Temperature, then fit an ANCOVA model including Diameter.  Are the assumptions of the ANCOVA model met?."
   ]
  },
  {
   "cell_type": "code",
   "execution_count": null,
   "id": "ddf533fa",
   "metadata": {},
   "outputs": [],
   "source": [
    "df = pandas.read_csv(\"../DATA/cysts.csv\")\n"
   ]
  },
  {
   "cell_type": "code",
   "execution_count": null,
   "id": "42730f86",
   "metadata": {
    "lines_to_next_cell": 0
   },
   "outputs": [],
   "source": [
    "df = pandas.read_csv(\"../DATA/cysts.csv\") \n",
    "\n",
    "model = statsmodels.formula.api.ols(\"time~Temp\",df)\n",
    "\n",
    "result = model.fit()\n",
    "\n",
    "statsmodels.stats.anova.anova_lm(result)\n",
    "\n",
    "(ggplot(df,aes(x = \"Diameter\",y = \"time\", color = \"Temp\"))+\n",
    "geom_point()+\n",
    "geom_smooth(method = \"lm\",se = False)\n",
    ")\n",
    "\n",
    "model2 = statsmodels.formula.api.ols(\"time~Temp+Diameter\",df)\n",
    "\n",
    "result2 = model2.fit()\n",
    "\n",
    "result2.summary()\n",
    "\n",
    "statsmodels.stats.anova.anova_lm(result2)\n",
    "\n",
    "\n",
    "\n"
   ]
  },
  {
   "cell_type": "markdown",
   "id": "48b537ca",
   "metadata": {},
   "source": [
    "\n"
   ]
  },
  {
   "cell_type": "markdown",
   "id": "39677d2c",
   "metadata": {},
   "source": [
    "What do you think of these results?"
   ]
  },
  {
   "cell_type": "markdown",
   "id": "822d89f1",
   "metadata": {},
   "source": [
    "## Additional Questions for Practice\n",
    "\n",
    "1.    The concentration of asbestos fibres is important to environmental health. There are two methods for measuring the concentration of small asbestos fibres: scanning electron microscope (SEM) and phase-contrast microscope (PCM).  Are the two methods equivalent?  Assume that the SEM results are a \"gold standard\".  What do your results tell you about how the PCM compares to SEM?  What aspects of the model should you look at to determine this? The data are in the dataset `asbestos`"
   ]
  },
  {
   "cell_type": "code",
   "execution_count": null,
   "id": "31f9287d",
   "metadata": {
    "lines_to_next_cell": 2
   },
   "outputs": [],
   "source": [
    "df = pandas.read_csv(\"../DATA/asbestos.csv\")\n",
    "\n"
   ]
  },
  {
   "cell_type": "code",
   "execution_count": null,
   "id": "a8cf7bf3",
   "metadata": {
    "lines_to_next_cell": 2
   },
   "outputs": [],
   "source": [
    "\n",
    "df = pandas.read_csv(\"../DATA/asbestos.csv\")\n",
    "\n",
    "model = statsmodels.formula.api.ols(\"PCM~SEM\",df)\n",
    "\n",
    "results = model.fit()\n",
    "\n",
    "results.summary()\n"
   ]
  },
  {
   "cell_type": "markdown",
   "id": "47699657",
   "metadata": {},
   "source": [
    "2.    A proving ring is a device for measuring load based on deflection.  The data set `provingring` results include the deflection for several know loads and three separate repetitions (runs).  Fit a linear model relating the deflection to the load.  Is there any evidence of hysteresis?  Examine the model results and the residuals, is there any way to improve the results, e.g.\\ a way to more accurately predict the deflection from the load?"
   ]
  },
  {
   "cell_type": "code",
   "execution_count": null,
   "id": "24c63624",
   "metadata": {},
   "outputs": [],
   "source": [
    "df = pandas.read_csv(\"../DATA/provingring.csv\")\n",
    "\n"
   ]
  },
  {
   "cell_type": "code",
   "execution_count": null,
   "id": "4129102e",
   "metadata": {
    "lines_to_next_cell": 0
   },
   "outputs": [],
   "source": [
    "df = pandas.read_csv(\"../DATA/provingring.csv\")\n",
    "\n",
    "(ggplot(df,aes(x = \"Load\",y = \"Deflection\"))+\n",
    "  geom_point()+\n",
    "  geom_smooth(method = \"lm\")\n",
    ")\n",
    "  \n",
    "model = statsmodels.formula.api.ols(\"Deflection~Load\",df)\n",
    "\n",
    "results = model.fit()\n",
    "\n",
    "results.summary()\n"
   ]
  },
  {
   "cell_type": "markdown",
   "id": "ec423c96",
   "metadata": {},
   "source": []
  }
 ],
 "metadata": {
  "jupytext": {
   "cell_metadata_filter": "tags,-all",
   "main_language": "python",
   "notebook_metadata_filter": "-all"
  }
 },
 "nbformat": 4,
 "nbformat_minor": 5
}
